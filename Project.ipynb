{
  "nbformat": 4,
  "nbformat_minor": 0,
  "metadata": {
    "colab": {
      "provenance": []
    },
    "kernelspec": {
      "name": "python3",
      "display_name": "Python 3"
    },
    "language_info": {
      "name": "python"
    }
  },
  "cells": [
    {
      "cell_type": "markdown",
      "source": [
        "## 0. Описание проекта"
      ],
      "metadata": {
        "id": "_98onMypfSmP"
      }
    },
    {
      "cell_type": "markdown",
      "source": [
        "В проекте используется датафрейм с данными, взятыми с сайта *transfermarkt.com*. В датафрейме содержатся данные о всех полевых футболистах Английской Прьемер-Лиги сезона 2022/2023 и их выступлении в течение сезона.\n",
        "\n",
        "Цель проекта - провести разведочный анализ данных, представленных в датафрейме.\n",
        "\n",
        "Проект выполнили:\n",
        "* Фисенко Максим Вячеславович\n",
        "* Шкода Глеб Ярославович"
      ],
      "metadata": {
        "id": "ecGOZ4zwfYOK"
      }
    },
    {
      "cell_type": "markdown",
      "source": [
        "## 1. Импортируем библиотеки"
      ],
      "metadata": {
        "id": "pEc1QUiAjpIB"
      }
    },
    {
      "cell_type": "code",
      "execution_count": null,
      "metadata": {
        "id": "nTEc_NwJUypz"
      },
      "outputs": [],
      "source": [
        "import pandas as pd\n",
        "import numpy as np\n",
        "\n",
        "import re\n",
        "import requests\n",
        "from io import BytesIO\n",
        "\n",
        "import matplotlib.pyplot as plt\n",
        "import seaborn as sns\n",
        "import plotly.express as px\n",
        "import plotly.subplots as sp\n",
        "import missingno as msno\n",
        "from wordcloud import WordCloud\n",
        "from PIL import Image\n",
        "\n",
        "import shutil\n",
        "from google.colab import files\n",
        "\n",
        "import warnings\n",
        "warnings.simplefilter(action='ignore', category=FutureWarning)\n",
        "\n",
        "%matplotlib inline"
      ]
    },
    {
      "cell_type": "markdown",
      "source": [
        "## 2. Загружаем датасет"
      ],
      "metadata": {
        "id": "cBTvt9lIg1UE"
      }
    },
    {
      "cell_type": "code",
      "source": [
        "dtypes={\n",
        "    \"name\": str,\n",
        "    \"team\": str,\n",
        "    \"age\": str,\n",
        "    \"height\": str,\n",
        "    \"nation\": str,\n",
        "    \"position\": str,\n",
        "    \"foot\": str,\n",
        "    \"games\": str,\n",
        "    \"goals\": str,\n",
        "    \"assists\": str,\n",
        "    \"total_minutes\": str,\n",
        "    \"market_value\": str\n",
        "}\n",
        "\n",
        "\n",
        "df = pd.read_csv(\"data.csv\",\n",
        "                 header=None,\n",
        "                 names=[\"name\", \"team\", \"age\", \"height\", \"nation\", \"position\",\n",
        "                        \"foot\", \"games\", \"goals\", \"assists\", \"total_minutes\",\n",
        "                        \"market_value\"],\n",
        "                 dtype=dtypes\n",
        "                 )"
      ],
      "metadata": {
        "id": "BJv0ZLVLU_Et"
      },
      "execution_count": null,
      "outputs": []
    },
    {
      "cell_type": "markdown",
      "source": [
        "### Первоначальный вид датафрейма"
      ],
      "metadata": {
        "id": "FoiKlZvZoqwt"
      }
    },
    {
      "cell_type": "code",
      "source": [
        "df.head()"
      ],
      "metadata": {
        "colab": {
          "base_uri": "https://localhost:8080/",
          "height": 206
        },
        "id": "ztkzkGzfBoT3",
        "outputId": "b5105950-9d6e-4f09-db5a-e7c668cd8fdb"
      },
      "execution_count": null,
      "outputs": [
        {
          "output_type": "execute_result",
          "data": {
            "text/plain": [
              "              name             team age height       nation  \\\n",
              "0       Rúben Dias  Manchester City  26   1,87     Portugal   \n",
              "1       Nathan Aké  Manchester City  28   1,80  Netherlands   \n",
              "2      John Stones  Manchester City  29   1,88      England   \n",
              "3  Aymeric Laporte  Manchester City  29   1,89        Spain   \n",
              "4    Manuel Akanji  Manchester City  27   1,88  Switzerland   \n",
              "\n",
              "                 position   foot games goals assists total_minutes  \\\n",
              "0  Defender - Centre-Back  right    26     -       -        1.996'   \n",
              "1  Defender - Centre-Back   left    26     1       -        1.876'   \n",
              "2  Defender - Centre-Back  right    23     2       2        1.848'   \n",
              "3  Defender - Centre-Back   left    12     -       -          993'   \n",
              "4  Defender - Centre-Back  right    29     -       1        2.283'   \n",
              "\n",
              "  market_value  \n",
              "0      €75.00m  \n",
              "1      €35.00m  \n",
              "2      €30.00m  \n",
              "3      €30.00m  \n",
              "4      €30.00m  "
            ],
            "text/html": [
              "\n",
              "  <div id=\"df-288110fc-1b1a-4e63-9585-16f8ca6e9b60\">\n",
              "    <div class=\"colab-df-container\">\n",
              "      <div>\n",
              "<style scoped>\n",
              "    .dataframe tbody tr th:only-of-type {\n",
              "        vertical-align: middle;\n",
              "    }\n",
              "\n",
              "    .dataframe tbody tr th {\n",
              "        vertical-align: top;\n",
              "    }\n",
              "\n",
              "    .dataframe thead th {\n",
              "        text-align: right;\n",
              "    }\n",
              "</style>\n",
              "<table border=\"1\" class=\"dataframe\">\n",
              "  <thead>\n",
              "    <tr style=\"text-align: right;\">\n",
              "      <th></th>\n",
              "      <th>name</th>\n",
              "      <th>team</th>\n",
              "      <th>age</th>\n",
              "      <th>height</th>\n",
              "      <th>nation</th>\n",
              "      <th>position</th>\n",
              "      <th>foot</th>\n",
              "      <th>games</th>\n",
              "      <th>goals</th>\n",
              "      <th>assists</th>\n",
              "      <th>total_minutes</th>\n",
              "      <th>market_value</th>\n",
              "    </tr>\n",
              "  </thead>\n",
              "  <tbody>\n",
              "    <tr>\n",
              "      <th>0</th>\n",
              "      <td>Rúben Dias</td>\n",
              "      <td>Manchester City</td>\n",
              "      <td>26</td>\n",
              "      <td>1,87</td>\n",
              "      <td>Portugal</td>\n",
              "      <td>Defender - Centre-Back</td>\n",
              "      <td>right</td>\n",
              "      <td>26</td>\n",
              "      <td>-</td>\n",
              "      <td>-</td>\n",
              "      <td>1.996'</td>\n",
              "      <td>€75.00m</td>\n",
              "    </tr>\n",
              "    <tr>\n",
              "      <th>1</th>\n",
              "      <td>Nathan Aké</td>\n",
              "      <td>Manchester City</td>\n",
              "      <td>28</td>\n",
              "      <td>1,80</td>\n",
              "      <td>Netherlands</td>\n",
              "      <td>Defender - Centre-Back</td>\n",
              "      <td>left</td>\n",
              "      <td>26</td>\n",
              "      <td>1</td>\n",
              "      <td>-</td>\n",
              "      <td>1.876'</td>\n",
              "      <td>€35.00m</td>\n",
              "    </tr>\n",
              "    <tr>\n",
              "      <th>2</th>\n",
              "      <td>John Stones</td>\n",
              "      <td>Manchester City</td>\n",
              "      <td>29</td>\n",
              "      <td>1,88</td>\n",
              "      <td>England</td>\n",
              "      <td>Defender - Centre-Back</td>\n",
              "      <td>right</td>\n",
              "      <td>23</td>\n",
              "      <td>2</td>\n",
              "      <td>2</td>\n",
              "      <td>1.848'</td>\n",
              "      <td>€30.00m</td>\n",
              "    </tr>\n",
              "    <tr>\n",
              "      <th>3</th>\n",
              "      <td>Aymeric Laporte</td>\n",
              "      <td>Manchester City</td>\n",
              "      <td>29</td>\n",
              "      <td>1,89</td>\n",
              "      <td>Spain</td>\n",
              "      <td>Defender - Centre-Back</td>\n",
              "      <td>left</td>\n",
              "      <td>12</td>\n",
              "      <td>-</td>\n",
              "      <td>-</td>\n",
              "      <td>993'</td>\n",
              "      <td>€30.00m</td>\n",
              "    </tr>\n",
              "    <tr>\n",
              "      <th>4</th>\n",
              "      <td>Manuel Akanji</td>\n",
              "      <td>Manchester City</td>\n",
              "      <td>27</td>\n",
              "      <td>1,88</td>\n",
              "      <td>Switzerland</td>\n",
              "      <td>Defender - Centre-Back</td>\n",
              "      <td>right</td>\n",
              "      <td>29</td>\n",
              "      <td>-</td>\n",
              "      <td>1</td>\n",
              "      <td>2.283'</td>\n",
              "      <td>€30.00m</td>\n",
              "    </tr>\n",
              "  </tbody>\n",
              "</table>\n",
              "</div>\n",
              "      <button class=\"colab-df-convert\" onclick=\"convertToInteractive('df-288110fc-1b1a-4e63-9585-16f8ca6e9b60')\"\n",
              "              title=\"Convert this dataframe to an interactive table.\"\n",
              "              style=\"display:none;\">\n",
              "        \n",
              "  <svg xmlns=\"http://www.w3.org/2000/svg\" height=\"24px\"viewBox=\"0 0 24 24\"\n",
              "       width=\"24px\">\n",
              "    <path d=\"M0 0h24v24H0V0z\" fill=\"none\"/>\n",
              "    <path d=\"M18.56 5.44l.94 2.06.94-2.06 2.06-.94-2.06-.94-.94-2.06-.94 2.06-2.06.94zm-11 1L8.5 8.5l.94-2.06 2.06-.94-2.06-.94L8.5 2.5l-.94 2.06-2.06.94zm10 10l.94 2.06.94-2.06 2.06-.94-2.06-.94-.94-2.06-.94 2.06-2.06.94z\"/><path d=\"M17.41 7.96l-1.37-1.37c-.4-.4-.92-.59-1.43-.59-.52 0-1.04.2-1.43.59L10.3 9.45l-7.72 7.72c-.78.78-.78 2.05 0 2.83L4 21.41c.39.39.9.59 1.41.59.51 0 1.02-.2 1.41-.59l7.78-7.78 2.81-2.81c.8-.78.8-2.07 0-2.86zM5.41 20L4 18.59l7.72-7.72 1.47 1.35L5.41 20z\"/>\n",
              "  </svg>\n",
              "      </button>\n",
              "      \n",
              "  <style>\n",
              "    .colab-df-container {\n",
              "      display:flex;\n",
              "      flex-wrap:wrap;\n",
              "      gap: 12px;\n",
              "    }\n",
              "\n",
              "    .colab-df-convert {\n",
              "      background-color: #E8F0FE;\n",
              "      border: none;\n",
              "      border-radius: 50%;\n",
              "      cursor: pointer;\n",
              "      display: none;\n",
              "      fill: #1967D2;\n",
              "      height: 32px;\n",
              "      padding: 0 0 0 0;\n",
              "      width: 32px;\n",
              "    }\n",
              "\n",
              "    .colab-df-convert:hover {\n",
              "      background-color: #E2EBFA;\n",
              "      box-shadow: 0px 1px 2px rgba(60, 64, 67, 0.3), 0px 1px 3px 1px rgba(60, 64, 67, 0.15);\n",
              "      fill: #174EA6;\n",
              "    }\n",
              "\n",
              "    [theme=dark] .colab-df-convert {\n",
              "      background-color: #3B4455;\n",
              "      fill: #D2E3FC;\n",
              "    }\n",
              "\n",
              "    [theme=dark] .colab-df-convert:hover {\n",
              "      background-color: #434B5C;\n",
              "      box-shadow: 0px 1px 3px 1px rgba(0, 0, 0, 0.15);\n",
              "      filter: drop-shadow(0px 1px 2px rgba(0, 0, 0, 0.3));\n",
              "      fill: #FFFFFF;\n",
              "    }\n",
              "  </style>\n",
              "\n",
              "      <script>\n",
              "        const buttonEl =\n",
              "          document.querySelector('#df-288110fc-1b1a-4e63-9585-16f8ca6e9b60 button.colab-df-convert');\n",
              "        buttonEl.style.display =\n",
              "          google.colab.kernel.accessAllowed ? 'block' : 'none';\n",
              "\n",
              "        async function convertToInteractive(key) {\n",
              "          const element = document.querySelector('#df-288110fc-1b1a-4e63-9585-16f8ca6e9b60');\n",
              "          const dataTable =\n",
              "            await google.colab.kernel.invokeFunction('convertToInteractive',\n",
              "                                                     [key], {});\n",
              "          if (!dataTable) return;\n",
              "\n",
              "          const docLinkHtml = 'Like what you see? Visit the ' +\n",
              "            '<a target=\"_blank\" href=https://colab.research.google.com/notebooks/data_table.ipynb>data table notebook</a>'\n",
              "            + ' to learn more about interactive tables.';\n",
              "          element.innerHTML = '';\n",
              "          dataTable['output_type'] = 'display_data';\n",
              "          await google.colab.output.renderOutput(dataTable, element);\n",
              "          const docLink = document.createElement('div');\n",
              "          docLink.innerHTML = docLinkHtml;\n",
              "          element.appendChild(docLink);\n",
              "        }\n",
              "      </script>\n",
              "    </div>\n",
              "  </div>\n",
              "  "
            ]
          },
          "metadata": {},
          "execution_count": 314
        }
      ]
    },
    {
      "cell_type": "markdown",
      "source": [
        "Признаки, который содержит датасет на начальном этапе без предварительной обработки:\n",
        "\n",
        "1. **name (str)** - имя футболиста\n",
        "2. **team (str)** - команда, за которую играет футболист\n",
        "3. **age (str)** - возраст футболиста\n",
        "4. **height (str)** - рост футболиста\n",
        "5. **nation (str)** - национальность футболиста\n",
        "6. **position (str)** - позиция футболиста\n",
        "7. **foot (str)** - ведущая нога футболиста (правая / левая)\n",
        "8. **games (str)** - количество игр, сыгранных в этом сезоне Премьер-Лиги\n",
        "9. **goals (str)** - количество забитых голов в этом сезоне\n",
        "10. **assists (str)** - количество отданных голевых передач в этом сезоне\n",
        "11. **total_minutes (str)** - суммарное количество минут, сыгранных в этом сезоне\n",
        "12. **market_value (str)** - трансферная стоимость футболиста"
      ],
      "metadata": {
        "id": "O_5hmucKlr0h"
      }
    },
    {
      "cell_type": "markdown",
      "source": [
        "Размеры датасета"
      ],
      "metadata": {
        "id": "v9HPzWi3g6Yk"
      }
    },
    {
      "cell_type": "code",
      "source": [
        "print(\"Всего строк: \", df.shape[0])\n",
        "print(\"Всего колонок:\", df.shape[1])"
      ],
      "metadata": {
        "colab": {
          "base_uri": "https://localhost:8080/"
        },
        "id": "V39gR5-NDkze",
        "outputId": "97fa4cc2-2c9e-40a8-dbdf-0eb3a2dcdafa"
      },
      "execution_count": null,
      "outputs": [
        {
          "output_type": "stream",
          "name": "stdout",
          "text": [
            "Всего строк:  498\n",
            "Всего колонок: 12\n"
          ]
        }
      ]
    },
    {
      "cell_type": "markdown",
      "source": [
        "## 3. Предобработка датасета"
      ],
      "metadata": {
        "id": "cJzio1tfnxaw"
      }
    },
    {
      "cell_type": "markdown",
      "source": [
        "Смотрим, насколько заполнена каждая из колонок."
      ],
      "metadata": {
        "id": "Uq1IspubhTM4"
      }
    },
    {
      "cell_type": "code",
      "source": [
        "df = df.replace('-', np.nan)\n",
        "\n",
        "fig, ax = plt.subplots(figsize=(8, 4))\n",
        "msno.bar(df, color='hotpink', ax=ax);"
      ],
      "metadata": {
        "id": "9R7siGlbDlyg",
        "colab": {
          "base_uri": "https://localhost:8080/",
          "height": 538
        },
        "outputId": "157838a3-53ee-4cb8-b215-5df88e8f2a3b"
      },
      "execution_count": null,
      "outputs": [
        {
          "output_type": "display_data",
          "data": {
            "text/plain": [
              "<Figure size 800x400 with 3 Axes>"
            ],
            "image/png": "[encoded data removed]"
          },
          "metadata": {}
        }
      ]
    },
    {
      "cell_type": "markdown",
      "source": [
        "Удаляем строки с футболистами, у которых нет значения *market_value*."
      ],
      "metadata": {
        "id": "5FCP_BiHig-h"
      }
    },
    {
      "cell_type": "code",
      "source": [
        "df = df.dropna(subset=['market_value'])\n",
        "print(\"Всего строк: \", df.shape[0])\n",
        "print(\"Всего колонок:\", df.shape[1])"
      ],
      "metadata": {
        "colab": {
          "base_uri": "https://localhost:8080/"
        },
        "id": "o7A6Za8OrOKp",
        "outputId": "424ef43e-a91f-4cca-80a6-89011ebf4bb9"
      },
      "execution_count": null,
      "outputs": [
        {
          "output_type": "stream",
          "name": "stdout",
          "text": [
            "Всего строк:  496\n",
            "Всего колонок: 12\n"
          ]
        }
      ]
    },
    {
      "cell_type": "markdown",
      "source": [
        "По числу строк видим, что таких футболистов было 2.\n",
        "\n",
        "Приводим колонку *age* к типу *int*."
      ],
      "metadata": {
        "id": "f6m1ePGiizWY"
      }
    },
    {
      "cell_type": "code",
      "source": [
        "df['age'] = df['age'].astype('int')"
      ],
      "metadata": {
        "id": "x-LNFtiJrb8v",
        "colab": {
          "base_uri": "https://localhost:8080/"
        },
        "outputId": "283ca8f6-296d-41c6-ef32-8d4dbd7acd05"
      },
      "execution_count": null,
      "outputs": [
        {
          "output_type": "stream",
          "name": "stderr",
          "text": [
            "<ipython-input-318-c7bcdba7442d>:1: SettingWithCopyWarning:\n",
            "\n",
            "\n",
            "A value is trying to be set on a copy of a slice from a DataFrame.\n",
            "Try using .loc[row_indexer,col_indexer] = value instead\n",
            "\n",
            "See the caveats in the documentation: https://pandas.pydata.org/pandas-docs/stable/user_guide/indexing.html#returning-a-view-versus-a-copy\n",
            "\n"
          ]
        }
      ]
    },
    {
      "cell_type": "markdown",
      "source": [
        "Приводим рост в колонке *height* к целочисленному типу (рост в сатниметрах)."
      ],
      "metadata": {
        "id": "qfvNrJOQjS1p"
      }
    },
    {
      "cell_type": "code",
      "source": [
        "df['height'] = df['height'].str.extract(r'([12]).\\d{2}').astype('int') * 100 + \\\n",
        "  df['height'].str.extract(r'[12].(\\d{2})').astype('int')\n",
        "df.head()"
      ],
      "metadata": {
        "colab": {
          "base_uri": "https://localhost:8080/",
          "height": 345
        },
        "id": "-K-WS0XDrnsE",
        "outputId": "680a8337-f256-46a1-dc2b-055b0249ba06"
      },
      "execution_count": null,
      "outputs": [
        {
          "output_type": "stream",
          "name": "stderr",
          "text": [
            "<ipython-input-319-915505b1925a>:1: SettingWithCopyWarning:\n",
            "\n",
            "\n",
            "A value is trying to be set on a copy of a slice from a DataFrame.\n",
            "Try using .loc[row_indexer,col_indexer] = value instead\n",
            "\n",
            "See the caveats in the documentation: https://pandas.pydata.org/pandas-docs/stable/user_guide/indexing.html#returning-a-view-versus-a-copy\n",
            "\n"
          ]
        },
        {
          "output_type": "execute_result",
          "data": {
            "text/plain": [
              "              name             team  age  height       nation  \\\n",
              "0       Rúben Dias  Manchester City   26     187     Portugal   \n",
              "1       Nathan Aké  Manchester City   28     180  Netherlands   \n",
              "2      John Stones  Manchester City   29     188      England   \n",
              "3  Aymeric Laporte  Manchester City   29     189        Spain   \n",
              "4    Manuel Akanji  Manchester City   27     188  Switzerland   \n",
              "\n",
              "                 position   foot games goals assists total_minutes  \\\n",
              "0  Defender - Centre-Back  right    26   NaN     NaN        1.996'   \n",
              "1  Defender - Centre-Back   left    26     1     NaN        1.876'   \n",
              "2  Defender - Centre-Back  right    23     2       2        1.848'   \n",
              "3  Defender - Centre-Back   left    12   NaN     NaN          993'   \n",
              "4  Defender - Centre-Back  right    29   NaN       1        2.283'   \n",
              "\n",
              "  market_value  \n",
              "0      €75.00m  \n",
              "1      €35.00m  \n",
              "2      €30.00m  \n",
              "3      €30.00m  \n",
              "4      €30.00m  "
            ],
            "text/html": [
              "\n",
              "  <div id=\"df-329fc5b3-3254-4f7b-af8b-00176c0d32df\">\n",
              "    <div class=\"colab-df-container\">\n",
              "      <div>\n",
              "<style scoped>\n",
              "    .dataframe tbody tr th:only-of-type {\n",
              "        vertical-align: middle;\n",
              "    }\n",
              "\n",
              "    .dataframe tbody tr th {\n",
              "        vertical-align: top;\n",
              "    }\n",
              "\n",
              "    .dataframe thead th {\n",
              "        text-align: right;\n",
              "    }\n",
              "</style>\n",
              "<table border=\"1\" class=\"dataframe\">\n",
              "  <thead>\n",
              "    <tr style=\"text-align: right;\">\n",
              "      <th></th>\n",
              "      <th>name</th>\n",
              "      <th>team</th>\n",
              "      <th>age</th>\n",
              "      <th>height</th>\n",
              "      <th>nation</th>\n",
              "      <th>position</th>\n",
              "      <th>foot</th>\n",
              "      <th>games</th>\n",
              "      <th>goals</th>\n",
              "      <th>assists</th>\n",
              "      <th>total_minutes</th>\n",
              "      <th>market_value</th>\n",
              "    </tr>\n",
              "  </thead>\n",
              "  <tbody>\n",
              "    <tr>\n",
              "      <th>0</th>\n",
              "      <td>Rúben Dias</td>\n",
              "      <td>Manchester City</td>\n",
              "      <td>26</td>\n",
              "      <td>187</td>\n",
              "      <td>Portugal</td>\n",
              "      <td>Defender - Centre-Back</td>\n",
              "      <td>right</td>\n",
              "      <td>26</td>\n",
              "      <td>NaN</td>\n",
              "      <td>NaN</td>\n",
              "      <td>1.996'</td>\n",
              "      <td>€75.00m</td>\n",
              "    </tr>\n",
              "    <tr>\n",
              "      <th>1</th>\n",
              "      <td>Nathan Aké</td>\n",
              "      <td>Manchester City</td>\n",
              "      <td>28</td>\n",
              "      <td>180</td>\n",
              "      <td>Netherlands</td>\n",
              "      <td>Defender - Centre-Back</td>\n",
              "      <td>left</td>\n",
              "      <td>26</td>\n",
              "      <td>1</td>\n",
              "      <td>NaN</td>\n",
              "      <td>1.876'</td>\n",
              "      <td>€35.00m</td>\n",
              "    </tr>\n",
              "    <tr>\n",
              "      <th>2</th>\n",
              "      <td>John Stones</td>\n",
              "      <td>Manchester City</td>\n",
              "      <td>29</td>\n",
              "      <td>188</td>\n",
              "      <td>England</td>\n",
              "      <td>Defender - Centre-Back</td>\n",
              "      <td>right</td>\n",
              "      <td>23</td>\n",
              "      <td>2</td>\n",
              "      <td>2</td>\n",
              "      <td>1.848'</td>\n",
              "      <td>€30.00m</td>\n",
              "    </tr>\n",
              "    <tr>\n",
              "      <th>3</th>\n",
              "      <td>Aymeric Laporte</td>\n",
              "      <td>Manchester City</td>\n",
              "      <td>29</td>\n",
              "      <td>189</td>\n",
              "      <td>Spain</td>\n",
              "      <td>Defender - Centre-Back</td>\n",
              "      <td>left</td>\n",
              "      <td>12</td>\n",
              "      <td>NaN</td>\n",
              "      <td>NaN</td>\n",
              "      <td>993'</td>\n",
              "      <td>€30.00m</td>\n",
              "    </tr>\n",
              "    <tr>\n",
              "      <th>4</th>\n",
              "      <td>Manuel Akanji</td>\n",
              "      <td>Manchester City</td>\n",
              "      <td>27</td>\n",
              "      <td>188</td>\n",
              "      <td>Switzerland</td>\n",
              "      <td>Defender - Centre-Back</td>\n",
              "      <td>right</td>\n",
              "      <td>29</td>\n",
              "      <td>NaN</td>\n",
              "      <td>1</td>\n",
              "      <td>2.283'</td>\n",
              "      <td>€30.00m</td>\n",
              "    </tr>\n",
              "  </tbody>\n",
              "</table>\n",
              "</div>\n",
              "      <button class=\"colab-df-convert\" onclick=\"convertToInteractive('df-329fc5b3-3254-4f7b-af8b-00176c0d32df')\"\n",
              "              title=\"Convert this dataframe to an interactive table.\"\n",
              "              style=\"display:none;\">\n",
              "        \n",
              "  <svg xmlns=\"http://www.w3.org/2000/svg\" height=\"24px\"viewBox=\"0 0 24 24\"\n",
              "       width=\"24px\">\n",
              "    <path d=\"M0 0h24v24H0V0z\" fill=\"none\"/>\n",
              "    <path d=\"M18.56 5.44l.94 2.06.94-2.06 2.06-.94-2.06-.94-.94-2.06-.94 2.06-2.06.94zm-11 1L8.5 8.5l.94-2.06 2.06-.94-2.06-.94L8.5 2.5l-.94 2.06-2.06.94zm10 10l.94 2.06.94-2.06 2.06-.94-2.06-.94-.94-2.06-.94 2.06-2.06.94z\"/><path d=\"M17.41 7.96l-1.37-1.37c-.4-.4-.92-.59-1.43-.59-.52 0-1.04.2-1.43.59L10.3 9.45l-7.72 7.72c-.78.78-.78 2.05 0 2.83L4 21.41c.39.39.9.59 1.41.59.51 0 1.02-.2 1.41-.59l7.78-7.78 2.81-2.81c.8-.78.8-2.07 0-2.86zM5.41 20L4 18.59l7.72-7.72 1.47 1.35L5.41 20z\"/>\n",
              "  </svg>\n",
              "      </button>\n",
              "      \n",
              "  <style>\n",
              "    .colab-df-container {\n",
              "      display:flex;\n",
              "      flex-wrap:wrap;\n",
              "      gap: 12px;\n",
              "    }\n",
              "\n",
              "    .colab-df-convert {\n",
              "      background-color: #E8F0FE;\n",
              "      border: none;\n",
              "      border-radius: 50%;\n",
              "      cursor: pointer;\n",
              "      display: none;\n",
              "      fill: #1967D2;\n",
              "      height: 32px;\n",
              "      padding: 0 0 0 0;\n",
              "      width: 32px;\n",
              "    }\n",
              "\n",
              "    .colab-df-convert:hover {\n",
              "      background-color: #E2EBFA;\n",
              "      box-shadow: 0px 1px 2px rgba(60, 64, 67, 0.3), 0px 1px 3px 1px rgba(60, 64, 67, 0.15);\n",
              "      fill: #174EA6;\n",
              "    }\n",
              "\n",
              "    [theme=dark] .colab-df-convert {\n",
              "      background-color: #3B4455;\n",
              "      fill: #D2E3FC;\n",
              "    }\n",
              "\n",
              "    [theme=dark] .colab-df-convert:hover {\n",
              "      background-color: #434B5C;\n",
              "      box-shadow: 0px 1px 3px 1px rgba(0, 0, 0, 0.15);\n",
              "      filter: drop-shadow(0px 1px 2px rgba(0, 0, 0, 0.3));\n",
              "      fill: #FFFFFF;\n",
              "    }\n",
              "  </style>\n",
              "\n",
              "      <script>\n",
              "        const buttonEl =\n",
              "          document.querySelector('#df-329fc5b3-3254-4f7b-af8b-00176c0d32df button.colab-df-convert');\n",
              "        buttonEl.style.display =\n",
              "          google.colab.kernel.accessAllowed ? 'block' : 'none';\n",
              "\n",
              "        async function convertToInteractive(key) {\n",
              "          const element = document.querySelector('#df-329fc5b3-3254-4f7b-af8b-00176c0d32df');\n",
              "          const dataTable =\n",
              "            await google.colab.kernel.invokeFunction('convertToInteractive',\n",
              "                                                     [key], {});\n",
              "          if (!dataTable) return;\n",
              "\n",
              "          const docLinkHtml = 'Like what you see? Visit the ' +\n",
              "            '<a target=\"_blank\" href=https://colab.research.google.com/notebooks/data_table.ipynb>data table notebook</a>'\n",
              "            + ' to learn more about interactive tables.';\n",
              "          element.innerHTML = '';\n",
              "          dataTable['output_type'] = 'display_data';\n",
              "          await google.colab.output.renderOutput(dataTable, element);\n",
              "          const docLink = document.createElement('div');\n",
              "          docLink.innerHTML = docLinkHtml;\n",
              "          element.appendChild(docLink);\n",
              "        }\n",
              "      </script>\n",
              "    </div>\n",
              "  </div>\n",
              "  "
            ]
          },
          "metadata": {},
          "execution_count": 319
        }
      ]
    },
    {
      "cell_type": "markdown",
      "source": [
        "Приводим колонку *position* к более удобному для обработки виду, разбив её на 2 колонки."
      ],
      "metadata": {
        "id": "Au0TOCvNjm-v"
      }
    },
    {
      "cell_type": "code",
      "source": [
        "df['main_position'] = df['position'].str.extract(\n",
        "    r'\\s*(\\w+)\\s*[-\\s]\\s*\\w+[-\\s]\\w+',\n",
        "    flags=re.IGNORECASE).astype('str')\n",
        "\n",
        "df['sub_position'] = df['position'].str.extract(\n",
        "    r'\\s*\\w+\\s*[-\\s]\\s*(\\w+[-\\s]\\w+)',\n",
        "    flags=re.IGNORECASE).astype('str')\n",
        "\n",
        "df['sub_position'] = df['sub_position'].str.replace('-', ' ')\n",
        "df['sub_position'] = df['sub_position'].apply(str.lower)\n",
        "df['main_position'] = df['main_position'].apply(str.lower)"
      ],
      "metadata": {
        "id": "wSwf_OZ6t9sE"
      },
      "execution_count": null,
      "outputs": []
    },
    {
      "cell_type": "markdown",
      "source": [
        "Теперь вместо колонки *position* у нас колонки *main_position* и *subposition*."
      ],
      "metadata": {
        "id": "PUsuy33wkPxN"
      }
    },
    {
      "cell_type": "code",
      "source": [
        "df = df.drop(['position'], axis=1)\n",
        "df.sample(5)"
      ],
      "metadata": {
        "colab": {
          "base_uri": "https://localhost:8080/",
          "height": 206
        },
        "id": "U5Qa91lCvoJD",
        "outputId": "3a8021f4-24e5-40a1-fca5-b38de5f7cf41"
      },
      "execution_count": null,
      "outputs": [
        {
          "output_type": "execute_result",
          "data": {
            "text/plain": [
              "                name               team  age  height            nation   foot  \\\n",
              "243     James Justin     Leicester City   25     183           England  right   \n",
              "192      Álex Moreno        Aston Villa   29     179             Spain   left   \n",
              "327    Stuart Dallas       Leeds United   32     183  Northern Ireland  right   \n",
              "432     Jack Colback  Nottingham Forest   33     177           England   left   \n",
              "249  Youri Tielemans     Leicester City   26     176           Belgium  right   \n",
              "\n",
              "    games goals assists total_minutes market_value main_position  \\\n",
              "243    14   NaN       1        1.254'      €25.00m      defender   \n",
              "192    19   NaN       3        1.334'      €20.00m      defender   \n",
              "327   NaN   NaN     NaN           NaN       €2.00m      defender   \n",
              "432    11   NaN     NaN          492'        €800k      midfield   \n",
              "249    31     3       2        2.351'      €30.00m      midfield   \n",
              "\n",
              "           sub_position  \n",
              "243          right back  \n",
              "192           left back  \n",
              "327          right back  \n",
              "432  defensive midfield  \n",
              "249    central midfield  "
            ],
            "text/html": [
              "\n",
              "  <div id=\"df-0d826f28-dde3-4738-ad03-e7f51d9db39b\">\n",
              "    <div class=\"colab-df-container\">\n",
              "      <div>\n",
              "<style scoped>\n",
              "    .dataframe tbody tr th:only-of-type {\n",
              "        vertical-align: middle;\n",
              "    }\n",
              "\n",
              "    .dataframe tbody tr th {\n",
              "        vertical-align: top;\n",
              "    }\n",
              "\n",
              "    .dataframe thead th {\n",
              "        text-align: right;\n",
              "    }\n",
              "</style>\n",
              "<table border=\"1\" class=\"dataframe\">\n",
              "  <thead>\n",
              "    <tr style=\"text-align: right;\">\n",
              "      <th></th>\n",
              "      <th>name</th>\n",
              "      <th>team</th>\n",
              "      <th>age</th>\n",
              "      <th>height</th>\n",
              "      <th>nation</th>\n",
              "      <th>foot</th>\n",
              "      <th>games</th>\n",
              "      <th>goals</th>\n",
              "      <th>assists</th>\n",
              "      <th>total_minutes</th>\n",
              "      <th>market_value</th>\n",
              "      <th>main_position</th>\n",
              "      <th>sub_position</th>\n",
              "    </tr>\n",
              "  </thead>\n",
              "  <tbody>\n",
              "    <tr>\n",
              "      <th>243</th>\n",
              "      <td>James Justin</td>\n",
              "      <td>Leicester City</td>\n",
              "      <td>25</td>\n",
              "      <td>183</td>\n",
              "      <td>England</td>\n",
              "      <td>right</td>\n",
              "      <td>14</td>\n",
              "      <td>NaN</td>\n",
              "      <td>1</td>\n",
              "      <td>1.254'</td>\n",
              "      <td>€25.00m</td>\n",
              "      <td>defender</td>\n",
              "      <td>right back</td>\n",
              "    </tr>\n",
              "    <tr>\n",
              "      <th>192</th>\n",
              "      <td>Álex Moreno</td>\n",
              "      <td>Aston Villa</td>\n",
              "      <td>29</td>\n",
              "      <td>179</td>\n",
              "      <td>Spain</td>\n",
              "      <td>left</td>\n",
              "      <td>19</td>\n",
              "      <td>NaN</td>\n",
              "      <td>3</td>\n",
              "      <td>1.334'</td>\n",
              "      <td>€20.00m</td>\n",
              "      <td>defender</td>\n",
              "      <td>left back</td>\n",
              "    </tr>\n",
              "    <tr>\n",
              "      <th>327</th>\n",
              "      <td>Stuart Dallas</td>\n",
              "      <td>Leeds United</td>\n",
              "      <td>32</td>\n",
              "      <td>183</td>\n",
              "      <td>Northern Ireland</td>\n",
              "      <td>right</td>\n",
              "      <td>NaN</td>\n",
              "      <td>NaN</td>\n",
              "      <td>NaN</td>\n",
              "      <td>NaN</td>\n",
              "      <td>€2.00m</td>\n",
              "      <td>defender</td>\n",
              "      <td>right back</td>\n",
              "    </tr>\n",
              "    <tr>\n",
              "      <th>432</th>\n",
              "      <td>Jack Colback</td>\n",
              "      <td>Nottingham Forest</td>\n",
              "      <td>33</td>\n",
              "      <td>177</td>\n",
              "      <td>England</td>\n",
              "      <td>left</td>\n",
              "      <td>11</td>\n",
              "      <td>NaN</td>\n",
              "      <td>NaN</td>\n",
              "      <td>492'</td>\n",
              "      <td>€800k</td>\n",
              "      <td>midfield</td>\n",
              "      <td>defensive midfield</td>\n",
              "    </tr>\n",
              "    <tr>\n",
              "      <th>249</th>\n",
              "      <td>Youri Tielemans</td>\n",
              "      <td>Leicester City</td>\n",
              "      <td>26</td>\n",
              "      <td>176</td>\n",
              "      <td>Belgium</td>\n",
              "      <td>right</td>\n",
              "      <td>31</td>\n",
              "      <td>3</td>\n",
              "      <td>2</td>\n",
              "      <td>2.351'</td>\n",
              "      <td>€30.00m</td>\n",
              "      <td>midfield</td>\n",
              "      <td>central midfield</td>\n",
              "    </tr>\n",
              "  </tbody>\n",
              "</table>\n",
              "</div>\n",
              "      <button class=\"colab-df-convert\" onclick=\"convertToInteractive('df-0d826f28-dde3-4738-ad03-e7f51d9db39b')\"\n",
              "              title=\"Convert this dataframe to an interactive table.\"\n",
              "              style=\"display:none;\">\n",
              "        \n",
              "  <svg xmlns=\"http://www.w3.org/2000/svg\" height=\"24px\"viewBox=\"0 0 24 24\"\n",
              "       width=\"24px\">\n",
              "    <path d=\"M0 0h24v24H0V0z\" fill=\"none\"/>\n",
              "    <path d=\"M18.56 5.44l.94 2.06.94-2.06 2.06-.94-2.06-.94-.94-2.06-.94 2.06-2.06.94zm-11 1L8.5 8.5l.94-2.06 2.06-.94-2.06-.94L8.5 2.5l-.94 2.06-2.06.94zm10 10l.94 2.06.94-2.06 2.06-.94-2.06-.94-.94-2.06-.94 2.06-2.06.94z\"/><path d=\"M17.41 7.96l-1.37-1.37c-.4-.4-.92-.59-1.43-.59-.52 0-1.04.2-1.43.59L10.3 9.45l-7.72 7.72c-.78.78-.78 2.05 0 2.83L4 21.41c.39.39.9.59 1.41.59.51 0 1.02-.2 1.41-.59l7.78-7.78 2.81-2.81c.8-.78.8-2.07 0-2.86zM5.41 20L4 18.59l7.72-7.72 1.47 1.35L5.41 20z\"/>\n",
              "  </svg>\n",
              "      </button>\n",
              "      \n",
              "  <style>\n",
              "    .colab-df-container {\n",
              "      display:flex;\n",
              "      flex-wrap:wrap;\n",
              "      gap: 12px;\n",
              "    }\n",
              "\n",
              "    .colab-df-convert {\n",
              "      background-color: #E8F0FE;\n",
              "      border: none;\n",
              "      border-radius: 50%;\n",
              "      cursor: pointer;\n",
              "      display: none;\n",
              "      fill: #1967D2;\n",
              "      height: 32px;\n",
              "      padding: 0 0 0 0;\n",
              "      width: 32px;\n",
              "    }\n",
              "\n",
              "    .colab-df-convert:hover {\n",
              "      background-color: #E2EBFA;\n",
              "      box-shadow: 0px 1px 2px rgba(60, 64, 67, 0.3), 0px 1px 3px 1px rgba(60, 64, 67, 0.15);\n",
              "      fill: #174EA6;\n",
              "    }\n",
              "\n",
              "    [theme=dark] .colab-df-convert {\n",
              "      background-color: #3B4455;\n",
              "      fill: #D2E3FC;\n",
              "    }\n",
              "\n",
              "    [theme=dark] .colab-df-convert:hover {\n",
              "      background-color: #434B5C;\n",
              "      box-shadow: 0px 1px 3px 1px rgba(0, 0, 0, 0.15);\n",
              "      filter: drop-shadow(0px 1px 2px rgba(0, 0, 0, 0.3));\n",
              "      fill: #FFFFFF;\n",
              "    }\n",
              "  </style>\n",
              "\n",
              "      <script>\n",
              "        const buttonEl =\n",
              "          document.querySelector('#df-0d826f28-dde3-4738-ad03-e7f51d9db39b button.colab-df-convert');\n",
              "        buttonEl.style.display =\n",
              "          google.colab.kernel.accessAllowed ? 'block' : 'none';\n",
              "\n",
              "        async function convertToInteractive(key) {\n",
              "          const element = document.querySelector('#df-0d826f28-dde3-4738-ad03-e7f51d9db39b');\n",
              "          const dataTable =\n",
              "            await google.colab.kernel.invokeFunction('convertToInteractive',\n",
              "                                                     [key], {});\n",
              "          if (!dataTable) return;\n",
              "\n",
              "          const docLinkHtml = 'Like what you see? Visit the ' +\n",
              "            '<a target=\"_blank\" href=https://colab.research.google.com/notebooks/data_table.ipynb>data table notebook</a>'\n",
              "            + ' to learn more about interactive tables.';\n",
              "          element.innerHTML = '';\n",
              "          dataTable['output_type'] = 'display_data';\n",
              "          await google.colab.output.renderOutput(dataTable, element);\n",
              "          const docLink = document.createElement('div');\n",
              "          docLink.innerHTML = docLinkHtml;\n",
              "          element.appendChild(docLink);\n",
              "        }\n",
              "      </script>\n",
              "    </div>\n",
              "  </div>\n",
              "  "
            ]
          },
          "metadata": {},
          "execution_count": 321
        }
      ]
    },
    {
      "cell_type": "markdown",
      "source": [
        "Значения в колонке *foot* могут принимать только два значения (*right* или *left*), поэтому логичным будет привести колонку *foot* к типу *bool*."
      ],
      "metadata": {
        "id": "gm1TQDoKkeCt"
      }
    },
    {
      "cell_type": "code",
      "source": [
        "df['right_foot'] = df['foot'].apply(lambda x: True if x == 'right' else False)\n",
        "df.sample(5)"
      ],
      "metadata": {
        "colab": {
          "base_uri": "https://localhost:8080/",
          "height": 206
        },
        "id": "xR9eltnj0Pxf",
        "outputId": "0c3630d5-9cd6-4327-a620-0881782a63b8"
      },
      "execution_count": null,
      "outputs": [
        {
          "output_type": "execute_result",
          "data": {
            "text/plain": [
              "                name            team  age  height    nation   foot games  \\\n",
              "405     Josh Dasilva    Brentford FC   24     184   England   left    36   \n",
              "244  Ricardo Pereira  Leicester City   29     175  Portugal  right    10   \n",
              "397    Charlie Goode    Brentford FC   27     196   England  right   NaN   \n",
              "484    Harrison Reed       Fulham FC   28     181   England  right    37   \n",
              "243     James Justin  Leicester City   25     183   England  right    14   \n",
              "\n",
              "    goals assists total_minutes market_value main_position      sub_position  \\\n",
              "405     4       2        1.380'       €9.00m      midfield  central midfield   \n",
              "244     1       1          451'      €12.00m      defender        right back   \n",
              "397   NaN     NaN           NaN        €600k      defender       centre back   \n",
              "484     3       4        2.879'      €15.00m      midfield  central midfield   \n",
              "243   NaN       1        1.254'      €25.00m      defender        right back   \n",
              "\n",
              "     right_foot  \n",
              "405       False  \n",
              "244        True  \n",
              "397        True  \n",
              "484        True  \n",
              "243        True  "
            ],
            "text/html": [
              "\n",
              "  <div id=\"df-da0d2267-1d5e-4b91-b15d-ffc738da153d\">\n",
              "    <div class=\"colab-df-container\">\n",
              "      <div>\n",
              "<style scoped>\n",
              "    .dataframe tbody tr th:only-of-type {\n",
              "        vertical-align: middle;\n",
              "    }\n",
              "\n",
              "    .dataframe tbody tr th {\n",
              "        vertical-align: top;\n",
              "    }\n",
              "\n",
              "    .dataframe thead th {\n",
              "        text-align: right;\n",
              "    }\n",
              "</style>\n",
              "<table border=\"1\" class=\"dataframe\">\n",
              "  <thead>\n",
              "    <tr style=\"text-align: right;\">\n",
              "      <th></th>\n",
              "      <th>name</th>\n",
              "      <th>team</th>\n",
              "      <th>age</th>\n",
              "      <th>height</th>\n",
              "      <th>nation</th>\n",
              "      <th>foot</th>\n",
              "      <th>games</th>\n",
              "      <th>goals</th>\n",
              "      <th>assists</th>\n",
              "      <th>total_minutes</th>\n",
              "      <th>market_value</th>\n",
              "      <th>main_position</th>\n",
              "      <th>sub_position</th>\n",
              "      <th>right_foot</th>\n",
              "    </tr>\n",
              "  </thead>\n",
              "  <tbody>\n",
              "    <tr>\n",
              "      <th>405</th>\n",
              "      <td>Josh Dasilva</td>\n",
              "      <td>Brentford FC</td>\n",
              "      <td>24</td>\n",
              "      <td>184</td>\n",
              "      <td>England</td>\n",
              "      <td>left</td>\n",
              "      <td>36</td>\n",
              "      <td>4</td>\n",
              "      <td>2</td>\n",
              "      <td>1.380'</td>\n",
              "      <td>€9.00m</td>\n",
              "      <td>midfield</td>\n",
              "      <td>central midfield</td>\n",
              "      <td>False</td>\n",
              "    </tr>\n",
              "    <tr>\n",
              "      <th>244</th>\n",
              "      <td>Ricardo Pereira</td>\n",
              "      <td>Leicester City</td>\n",
              "      <td>29</td>\n",
              "      <td>175</td>\n",
              "      <td>Portugal</td>\n",
              "      <td>right</td>\n",
              "      <td>10</td>\n",
              "      <td>1</td>\n",
              "      <td>1</td>\n",
              "      <td>451'</td>\n",
              "      <td>€12.00m</td>\n",
              "      <td>defender</td>\n",
              "      <td>right back</td>\n",
              "      <td>True</td>\n",
              "    </tr>\n",
              "    <tr>\n",
              "      <th>397</th>\n",
              "      <td>Charlie Goode</td>\n",
              "      <td>Brentford FC</td>\n",
              "      <td>27</td>\n",
              "      <td>196</td>\n",
              "      <td>England</td>\n",
              "      <td>right</td>\n",
              "      <td>NaN</td>\n",
              "      <td>NaN</td>\n",
              "      <td>NaN</td>\n",
              "      <td>NaN</td>\n",
              "      <td>€600k</td>\n",
              "      <td>defender</td>\n",
              "      <td>centre back</td>\n",
              "      <td>True</td>\n",
              "    </tr>\n",
              "    <tr>\n",
              "      <th>484</th>\n",
              "      <td>Harrison Reed</td>\n",
              "      <td>Fulham FC</td>\n",
              "      <td>28</td>\n",
              "      <td>181</td>\n",
              "      <td>England</td>\n",
              "      <td>right</td>\n",
              "      <td>37</td>\n",
              "      <td>3</td>\n",
              "      <td>4</td>\n",
              "      <td>2.879'</td>\n",
              "      <td>€15.00m</td>\n",
              "      <td>midfield</td>\n",
              "      <td>central midfield</td>\n",
              "      <td>True</td>\n",
              "    </tr>\n",
              "    <tr>\n",
              "      <th>243</th>\n",
              "      <td>James Justin</td>\n",
              "      <td>Leicester City</td>\n",
              "      <td>25</td>\n",
              "      <td>183</td>\n",
              "      <td>England</td>\n",
              "      <td>right</td>\n",
              "      <td>14</td>\n",
              "      <td>NaN</td>\n",
              "      <td>1</td>\n",
              "      <td>1.254'</td>\n",
              "      <td>€25.00m</td>\n",
              "      <td>defender</td>\n",
              "      <td>right back</td>\n",
              "      <td>True</td>\n",
              "    </tr>\n",
              "  </tbody>\n",
              "</table>\n",
              "</div>\n",
              "      <button class=\"colab-df-convert\" onclick=\"convertToInteractive('df-da0d2267-1d5e-4b91-b15d-ffc738da153d')\"\n",
              "              title=\"Convert this dataframe to an interactive table.\"\n",
              "              style=\"display:none;\">\n",
              "        \n",
              "  <svg xmlns=\"http://www.w3.org/2000/svg\" height=\"24px\"viewBox=\"0 0 24 24\"\n",
              "       width=\"24px\">\n",
              "    <path d=\"M0 0h24v24H0V0z\" fill=\"none\"/>\n",
              "    <path d=\"M18.56 5.44l.94 2.06.94-2.06 2.06-.94-2.06-.94-.94-2.06-.94 2.06-2.06.94zm-11 1L8.5 8.5l.94-2.06 2.06-.94-2.06-.94L8.5 2.5l-.94 2.06-2.06.94zm10 10l.94 2.06.94-2.06 2.06-.94-2.06-.94-.94-2.06-.94 2.06-2.06.94z\"/><path d=\"M17.41 7.96l-1.37-1.37c-.4-.4-.92-.59-1.43-.59-.52 0-1.04.2-1.43.59L10.3 9.45l-7.72 7.72c-.78.78-.78 2.05 0 2.83L4 21.41c.39.39.9.59 1.41.59.51 0 1.02-.2 1.41-.59l7.78-7.78 2.81-2.81c.8-.78.8-2.07 0-2.86zM5.41 20L4 18.59l7.72-7.72 1.47 1.35L5.41 20z\"/>\n",
              "  </svg>\n",
              "      </button>\n",
              "      \n",
              "  <style>\n",
              "    .colab-df-container {\n",
              "      display:flex;\n",
              "      flex-wrap:wrap;\n",
              "      gap: 12px;\n",
              "    }\n",
              "\n",
              "    .colab-df-convert {\n",
              "      background-color: #E8F0FE;\n",
              "      border: none;\n",
              "      border-radius: 50%;\n",
              "      cursor: pointer;\n",
              "      display: none;\n",
              "      fill: #1967D2;\n",
              "      height: 32px;\n",
              "      padding: 0 0 0 0;\n",
              "      width: 32px;\n",
              "    }\n",
              "\n",
              "    .colab-df-convert:hover {\n",
              "      background-color: #E2EBFA;\n",
              "      box-shadow: 0px 1px 2px rgba(60, 64, 67, 0.3), 0px 1px 3px 1px rgba(60, 64, 67, 0.15);\n",
              "      fill: #174EA6;\n",
              "    }\n",
              "\n",
              "    [theme=dark] .colab-df-convert {\n",
              "      background-color: #3B4455;\n",
              "      fill: #D2E3FC;\n",
              "    }\n",
              "\n",
              "    [theme=dark] .colab-df-convert:hover {\n",
              "      background-color: #434B5C;\n",
              "      box-shadow: 0px 1px 3px 1px rgba(0, 0, 0, 0.15);\n",
              "      filter: drop-shadow(0px 1px 2px rgba(0, 0, 0, 0.3));\n",
              "      fill: #FFFFFF;\n",
              "    }\n",
              "  </style>\n",
              "\n",
              "      <script>\n",
              "        const buttonEl =\n",
              "          document.querySelector('#df-da0d2267-1d5e-4b91-b15d-ffc738da153d button.colab-df-convert');\n",
              "        buttonEl.style.display =\n",
              "          google.colab.kernel.accessAllowed ? 'block' : 'none';\n",
              "\n",
              "        async function convertToInteractive(key) {\n",
              "          const element = document.querySelector('#df-da0d2267-1d5e-4b91-b15d-ffc738da153d');\n",
              "          const dataTable =\n",
              "            await google.colab.kernel.invokeFunction('convertToInteractive',\n",
              "                                                     [key], {});\n",
              "          if (!dataTable) return;\n",
              "\n",
              "          const docLinkHtml = 'Like what you see? Visit the ' +\n",
              "            '<a target=\"_blank\" href=https://colab.research.google.com/notebooks/data_table.ipynb>data table notebook</a>'\n",
              "            + ' to learn more about interactive tables.';\n",
              "          element.innerHTML = '';\n",
              "          dataTable['output_type'] = 'display_data';\n",
              "          await google.colab.output.renderOutput(dataTable, element);\n",
              "          const docLink = document.createElement('div');\n",
              "          docLink.innerHTML = docLinkHtml;\n",
              "          element.appendChild(docLink);\n",
              "        }\n",
              "      </script>\n",
              "    </div>\n",
              "  </div>\n",
              "  "
            ]
          },
          "metadata": {},
          "execution_count": 322
        }
      ]
    },
    {
      "cell_type": "markdown",
      "source": [
        "Таким образом у нас появилась колонка *right_foot*."
      ],
      "metadata": {
        "id": "Q1GzhVZdlDFR"
      }
    },
    {
      "cell_type": "code",
      "source": [
        "df = df.drop(['foot'], axis=1)"
      ],
      "metadata": {
        "id": "0wbV7SZx0vU-"
      },
      "execution_count": null,
      "outputs": []
    },
    {
      "cell_type": "markdown",
      "source": [
        "Обрабатываем пустые значения в колонках *games*, *goals*, *assists*."
      ],
      "metadata": {
        "id": "LyNNLrIhlIVx"
      }
    },
    {
      "cell_type": "code",
      "source": [
        "for col in ['games', 'goals', 'assists']:\n",
        "  df[col] = df[col].fillna(0)\n",
        "  df[col] = df[col].astype('int')\n",
        "\n",
        "df.sample(5)"
      ],
      "metadata": {
        "colab": {
          "base_uri": "https://localhost:8080/",
          "height": 206
        },
        "id": "Tx84JSLn0wm2",
        "outputId": "b90b6289-11bb-450e-9287-9500f4b198ed"
      },
      "execution_count": null,
      "outputs": [
        {
          "output_type": "execute_result",
          "data": {
            "text/plain": [
              "                name               team  age  height       nation  games  \\\n",
              "432     Jack Colback  Nottingham Forest   33     177      England     11   \n",
              "160     Ciaran Clark   Newcastle United   33     185      Ireland      0   \n",
              "167      Emil Krafth   Newcastle United   28     184       Sweden      1   \n",
              "463      Will Hughes     Crystal Palace   28     185      England     27   \n",
              "460  Jairo Riedewald     Crystal Palace   26     182  Netherlands      6   \n",
              "\n",
              "     goals  assists total_minutes market_value main_position  \\\n",
              "432      0        0          492'        €800k      midfield   \n",
              "160      0        0           NaN        €600k      defender   \n",
              "167      0        0           NaN       €4.00m      defender   \n",
              "463      1        1          828'       €5.00m      midfield   \n",
              "460      0        0           57'       €4.00m      midfield   \n",
              "\n",
              "           sub_position  right_foot  \n",
              "432  defensive midfield       False  \n",
              "160         centre back       False  \n",
              "167          right back        True  \n",
              "463    central midfield       False  \n",
              "460  defensive midfield       False  "
            ],
            "text/html": [
              "\n",
              "  <div id=\"df-f31cb4c6-0508-4a9b-87ea-b66f561bcae3\">\n",
              "    <div class=\"colab-df-container\">\n",
              "      <div>\n",
              "<style scoped>\n",
              "    .dataframe tbody tr th:only-of-type {\n",
              "        vertical-align: middle;\n",
              "    }\n",
              "\n",
              "    .dataframe tbody tr th {\n",
              "        vertical-align: top;\n",
              "    }\n",
              "\n",
              "    .dataframe thead th {\n",
              "        text-align: right;\n",
              "    }\n",
              "</style>\n",
              "<table border=\"1\" class=\"dataframe\">\n",
              "  <thead>\n",
              "    <tr style=\"text-align: right;\">\n",
              "      <th></th>\n",
              "      <th>name</th>\n",
              "      <th>team</th>\n",
              "      <th>age</th>\n",
              "      <th>height</th>\n",
              "      <th>nation</th>\n",
              "      <th>games</th>\n",
              "      <th>goals</th>\n",
              "      <th>assists</th>\n",
              "      <th>total_minutes</th>\n",
              "      <th>market_value</th>\n",
              "      <th>main_position</th>\n",
              "      <th>sub_position</th>\n",
              "      <th>right_foot</th>\n",
              "    </tr>\n",
              "  </thead>\n",
              "  <tbody>\n",
              "    <tr>\n",
              "      <th>432</th>\n",
              "      <td>Jack Colback</td>\n",
              "      <td>Nottingham Forest</td>\n",
              "      <td>33</td>\n",
              "      <td>177</td>\n",
              "      <td>England</td>\n",
              "      <td>11</td>\n",
              "      <td>0</td>\n",
              "      <td>0</td>\n",
              "      <td>492'</td>\n",
              "      <td>€800k</td>\n",
              "      <td>midfield</td>\n",
              "      <td>defensive midfield</td>\n",
              "      <td>False</td>\n",
              "    </tr>\n",
              "    <tr>\n",
              "      <th>160</th>\n",
              "      <td>Ciaran Clark</td>\n",
              "      <td>Newcastle United</td>\n",
              "      <td>33</td>\n",
              "      <td>185</td>\n",
              "      <td>Ireland</td>\n",
              "      <td>0</td>\n",
              "      <td>0</td>\n",
              "      <td>0</td>\n",
              "      <td>NaN</td>\n",
              "      <td>€600k</td>\n",
              "      <td>defender</td>\n",
              "      <td>centre back</td>\n",
              "      <td>False</td>\n",
              "    </tr>\n",
              "    <tr>\n",
              "      <th>167</th>\n",
              "      <td>Emil Krafth</td>\n",
              "      <td>Newcastle United</td>\n",
              "      <td>28</td>\n",
              "      <td>184</td>\n",
              "      <td>Sweden</td>\n",
              "      <td>1</td>\n",
              "      <td>0</td>\n",
              "      <td>0</td>\n",
              "      <td>NaN</td>\n",
              "      <td>€4.00m</td>\n",
              "      <td>defender</td>\n",
              "      <td>right back</td>\n",
              "      <td>True</td>\n",
              "    </tr>\n",
              "    <tr>\n",
              "      <th>463</th>\n",
              "      <td>Will Hughes</td>\n",
              "      <td>Crystal Palace</td>\n",
              "      <td>28</td>\n",
              "      <td>185</td>\n",
              "      <td>England</td>\n",
              "      <td>27</td>\n",
              "      <td>1</td>\n",
              "      <td>1</td>\n",
              "      <td>828'</td>\n",
              "      <td>€5.00m</td>\n",
              "      <td>midfield</td>\n",
              "      <td>central midfield</td>\n",
              "      <td>False</td>\n",
              "    </tr>\n",
              "    <tr>\n",
              "      <th>460</th>\n",
              "      <td>Jairo Riedewald</td>\n",
              "      <td>Crystal Palace</td>\n",
              "      <td>26</td>\n",
              "      <td>182</td>\n",
              "      <td>Netherlands</td>\n",
              "      <td>6</td>\n",
              "      <td>0</td>\n",
              "      <td>0</td>\n",
              "      <td>57'</td>\n",
              "      <td>€4.00m</td>\n",
              "      <td>midfield</td>\n",
              "      <td>defensive midfield</td>\n",
              "      <td>False</td>\n",
              "    </tr>\n",
              "  </tbody>\n",
              "</table>\n",
              "</div>\n",
              "      <button class=\"colab-df-convert\" onclick=\"convertToInteractive('df-f31cb4c6-0508-4a9b-87ea-b66f561bcae3')\"\n",
              "              title=\"Convert this dataframe to an interactive table.\"\n",
              "              style=\"display:none;\">\n",
              "        \n",
              "  <svg xmlns=\"http://www.w3.org/2000/svg\" height=\"24px\"viewBox=\"0 0 24 24\"\n",
              "       width=\"24px\">\n",
              "    <path d=\"M0 0h24v24H0V0z\" fill=\"none\"/>\n",
              "    <path d=\"M18.56 5.44l.94 2.06.94-2.06 2.06-.94-2.06-.94-.94-2.06-.94 2.06-2.06.94zm-11 1L8.5 8.5l.94-2.06 2.06-.94-2.06-.94L8.5 2.5l-.94 2.06-2.06.94zm10 10l.94 2.06.94-2.06 2.06-.94-2.06-.94-.94-2.06-.94 2.06-2.06.94z\"/><path d=\"M17.41 7.96l-1.37-1.37c-.4-.4-.92-.59-1.43-.59-.52 0-1.04.2-1.43.59L10.3 9.45l-7.72 7.72c-.78.78-.78 2.05 0 2.83L4 21.41c.39.39.9.59 1.41.59.51 0 1.02-.2 1.41-.59l7.78-7.78 2.81-2.81c.8-.78.8-2.07 0-2.86zM5.41 20L4 18.59l7.72-7.72 1.47 1.35L5.41 20z\"/>\n",
              "  </svg>\n",
              "      </button>\n",
              "      \n",
              "  <style>\n",
              "    .colab-df-container {\n",
              "      display:flex;\n",
              "      flex-wrap:wrap;\n",
              "      gap: 12px;\n",
              "    }\n",
              "\n",
              "    .colab-df-convert {\n",
              "      background-color: #E8F0FE;\n",
              "      border: none;\n",
              "      border-radius: 50%;\n",
              "      cursor: pointer;\n",
              "      display: none;\n",
              "      fill: #1967D2;\n",
              "      height: 32px;\n",
              "      padding: 0 0 0 0;\n",
              "      width: 32px;\n",
              "    }\n",
              "\n",
              "    .colab-df-convert:hover {\n",
              "      background-color: #E2EBFA;\n",
              "      box-shadow: 0px 1px 2px rgba(60, 64, 67, 0.3), 0px 1px 3px 1px rgba(60, 64, 67, 0.15);\n",
              "      fill: #174EA6;\n",
              "    }\n",
              "\n",
              "    [theme=dark] .colab-df-convert {\n",
              "      background-color: #3B4455;\n",
              "      fill: #D2E3FC;\n",
              "    }\n",
              "\n",
              "    [theme=dark] .colab-df-convert:hover {\n",
              "      background-color: #434B5C;\n",
              "      box-shadow: 0px 1px 3px 1px rgba(0, 0, 0, 0.15);\n",
              "      filter: drop-shadow(0px 1px 2px rgba(0, 0, 0, 0.3));\n",
              "      fill: #FFFFFF;\n",
              "    }\n",
              "  </style>\n",
              "\n",
              "      <script>\n",
              "        const buttonEl =\n",
              "          document.querySelector('#df-f31cb4c6-0508-4a9b-87ea-b66f561bcae3 button.colab-df-convert');\n",
              "        buttonEl.style.display =\n",
              "          google.colab.kernel.accessAllowed ? 'block' : 'none';\n",
              "\n",
              "        async function convertToInteractive(key) {\n",
              "          const element = document.querySelector('#df-f31cb4c6-0508-4a9b-87ea-b66f561bcae3');\n",
              "          const dataTable =\n",
              "            await google.colab.kernel.invokeFunction('convertToInteractive',\n",
              "                                                     [key], {});\n",
              "          if (!dataTable) return;\n",
              "\n",
              "          const docLinkHtml = 'Like what you see? Visit the ' +\n",
              "            '<a target=\"_blank\" href=https://colab.research.google.com/notebooks/data_table.ipynb>data table notebook</a>'\n",
              "            + ' to learn more about interactive tables.';\n",
              "          element.innerHTML = '';\n",
              "          dataTable['output_type'] = 'display_data';\n",
              "          await google.colab.output.renderOutput(dataTable, element);\n",
              "          const docLink = document.createElement('div');\n",
              "          docLink.innerHTML = docLinkHtml;\n",
              "          element.appendChild(docLink);\n",
              "        }\n",
              "      </script>\n",
              "    </div>\n",
              "  </div>\n",
              "  "
            ]
          },
          "metadata": {},
          "execution_count": 324
        }
      ]
    },
    {
      "cell_type": "markdown",
      "source": [
        "Приведение *total_minutes* к *int* и обработка пустых значений."
      ],
      "metadata": {
        "id": "_TgHpxZxlVjB"
      }
    },
    {
      "cell_type": "code",
      "source": [
        "df['total_minutes'] = df['total_minutes'].fillna(\"0'\")\n",
        "df['total_minutes'] = df['total_minutes'].str.replace('.', '')\n",
        "df['total_minutes'] = df['total_minutes'].str.extract(r\"(\\d+)'\")\n",
        "df['total_minutes'] = df['total_minutes'].astype('int')\n",
        "df.sample(5)"
      ],
      "metadata": {
        "colab": {
          "base_uri": "https://localhost:8080/",
          "height": 206
        },
        "id": "GlDhwGiU2BaT",
        "outputId": "614805b3-1589-414b-8365-5c78ad1df3e2"
      },
      "execution_count": null,
      "outputs": [
        {
          "output_type": "execute_result",
          "data": {
            "text/plain": [
              "                       name               team  age  height       nation  \\\n",
              "288              Sékou Mara     Southampton FC   20     183       France   \n",
              "205         Jaden Philogene        Aston Villa   21     181      England   \n",
              "30              Reece James         Chelsea FC   23     180      England   \n",
              "83   Trent Alexander-Arnold       Liverpool FC   24     180      England   \n",
              "110          Tyrell Malacia  Manchester United   23     169  Netherlands   \n",
              "\n",
              "     games  goals  assists  total_minutes market_value main_position  \\\n",
              "288     22      1        2            541      €12.00m        attack   \n",
              "205      0      0        0              0       €2.80m        attack   \n",
              "30      16      1        1           1244      €70.00m      defender   \n",
              "83      37      2        9           2930      €65.00m      defender   \n",
              "110     22      0        0           1390      €22.00m      defender   \n",
              "\n",
              "       sub_position  right_foot  \n",
              "288  centre forward        True  \n",
              "205     left winger        True  \n",
              "30       right back        True  \n",
              "83       right back        True  \n",
              "110       left back       False  "
            ],
            "text/html": [
              "\n",
              "  <div id=\"df-14d28511-7c9d-40ad-9d37-9ea5e5fc04fc\">\n",
              "    <div class=\"colab-df-container\">\n",
              "      <div>\n",
              "<style scoped>\n",
              "    .dataframe tbody tr th:only-of-type {\n",
              "        vertical-align: middle;\n",
              "    }\n",
              "\n",
              "    .dataframe tbody tr th {\n",
              "        vertical-align: top;\n",
              "    }\n",
              "\n",
              "    .dataframe thead th {\n",
              "        text-align: right;\n",
              "    }\n",
              "</style>\n",
              "<table border=\"1\" class=\"dataframe\">\n",
              "  <thead>\n",
              "    <tr style=\"text-align: right;\">\n",
              "      <th></th>\n",
              "      <th>name</th>\n",
              "      <th>team</th>\n",
              "      <th>age</th>\n",
              "      <th>height</th>\n",
              "      <th>nation</th>\n",
              "      <th>games</th>\n",
              "      <th>goals</th>\n",
              "      <th>assists</th>\n",
              "      <th>total_minutes</th>\n",
              "      <th>market_value</th>\n",
              "      <th>main_position</th>\n",
              "      <th>sub_position</th>\n",
              "      <th>right_foot</th>\n",
              "    </tr>\n",
              "  </thead>\n",
              "  <tbody>\n",
              "    <tr>\n",
              "      <th>288</th>\n",
              "      <td>Sékou Mara</td>\n",
              "      <td>Southampton FC</td>\n",
              "      <td>20</td>\n",
              "      <td>183</td>\n",
              "      <td>France</td>\n",
              "      <td>22</td>\n",
              "      <td>1</td>\n",
              "      <td>2</td>\n",
              "      <td>541</td>\n",
              "      <td>€12.00m</td>\n",
              "      <td>attack</td>\n",
              "      <td>centre forward</td>\n",
              "      <td>True</td>\n",
              "    </tr>\n",
              "    <tr>\n",
              "      <th>205</th>\n",
              "      <td>Jaden Philogene</td>\n",
              "      <td>Aston Villa</td>\n",
              "      <td>21</td>\n",
              "      <td>181</td>\n",
              "      <td>England</td>\n",
              "      <td>0</td>\n",
              "      <td>0</td>\n",
              "      <td>0</td>\n",
              "      <td>0</td>\n",
              "      <td>€2.80m</td>\n",
              "      <td>attack</td>\n",
              "      <td>left winger</td>\n",
              "      <td>True</td>\n",
              "    </tr>\n",
              "    <tr>\n",
              "      <th>30</th>\n",
              "      <td>Reece James</td>\n",
              "      <td>Chelsea FC</td>\n",
              "      <td>23</td>\n",
              "      <td>180</td>\n",
              "      <td>England</td>\n",
              "      <td>16</td>\n",
              "      <td>1</td>\n",
              "      <td>1</td>\n",
              "      <td>1244</td>\n",
              "      <td>€70.00m</td>\n",
              "      <td>defender</td>\n",
              "      <td>right back</td>\n",
              "      <td>True</td>\n",
              "    </tr>\n",
              "    <tr>\n",
              "      <th>83</th>\n",
              "      <td>Trent Alexander-Arnold</td>\n",
              "      <td>Liverpool FC</td>\n",
              "      <td>24</td>\n",
              "      <td>180</td>\n",
              "      <td>England</td>\n",
              "      <td>37</td>\n",
              "      <td>2</td>\n",
              "      <td>9</td>\n",
              "      <td>2930</td>\n",
              "      <td>€65.00m</td>\n",
              "      <td>defender</td>\n",
              "      <td>right back</td>\n",
              "      <td>True</td>\n",
              "    </tr>\n",
              "    <tr>\n",
              "      <th>110</th>\n",
              "      <td>Tyrell Malacia</td>\n",
              "      <td>Manchester United</td>\n",
              "      <td>23</td>\n",
              "      <td>169</td>\n",
              "      <td>Netherlands</td>\n",
              "      <td>22</td>\n",
              "      <td>0</td>\n",
              "      <td>0</td>\n",
              "      <td>1390</td>\n",
              "      <td>€22.00m</td>\n",
              "      <td>defender</td>\n",
              "      <td>left back</td>\n",
              "      <td>False</td>\n",
              "    </tr>\n",
              "  </tbody>\n",
              "</table>\n",
              "</div>\n",
              "      <button class=\"colab-df-convert\" onclick=\"convertToInteractive('df-14d28511-7c9d-40ad-9d37-9ea5e5fc04fc')\"\n",
              "              title=\"Convert this dataframe to an interactive table.\"\n",
              "              style=\"display:none;\">\n",
              "        \n",
              "  <svg xmlns=\"http://www.w3.org/2000/svg\" height=\"24px\"viewBox=\"0 0 24 24\"\n",
              "       width=\"24px\">\n",
              "    <path d=\"M0 0h24v24H0V0z\" fill=\"none\"/>\n",
              "    <path d=\"M18.56 5.44l.94 2.06.94-2.06 2.06-.94-2.06-.94-.94-2.06-.94 2.06-2.06.94zm-11 1L8.5 8.5l.94-2.06 2.06-.94-2.06-.94L8.5 2.5l-.94 2.06-2.06.94zm10 10l.94 2.06.94-2.06 2.06-.94-2.06-.94-.94-2.06-.94 2.06-2.06.94z\"/><path d=\"M17.41 7.96l-1.37-1.37c-.4-.4-.92-.59-1.43-.59-.52 0-1.04.2-1.43.59L10.3 9.45l-7.72 7.72c-.78.78-.78 2.05 0 2.83L4 21.41c.39.39.9.59 1.41.59.51 0 1.02-.2 1.41-.59l7.78-7.78 2.81-2.81c.8-.78.8-2.07 0-2.86zM5.41 20L4 18.59l7.72-7.72 1.47 1.35L5.41 20z\"/>\n",
              "  </svg>\n",
              "      </button>\n",
              "      \n",
              "  <style>\n",
              "    .colab-df-container {\n",
              "      display:flex;\n",
              "      flex-wrap:wrap;\n",
              "      gap: 12px;\n",
              "    }\n",
              "\n",
              "    .colab-df-convert {\n",
              "      background-color: #E8F0FE;\n",
              "      border: none;\n",
              "      border-radius: 50%;\n",
              "      cursor: pointer;\n",
              "      display: none;\n",
              "      fill: #1967D2;\n",
              "      height: 32px;\n",
              "      padding: 0 0 0 0;\n",
              "      width: 32px;\n",
              "    }\n",
              "\n",
              "    .colab-df-convert:hover {\n",
              "      background-color: #E2EBFA;\n",
              "      box-shadow: 0px 1px 2px rgba(60, 64, 67, 0.3), 0px 1px 3px 1px rgba(60, 64, 67, 0.15);\n",
              "      fill: #174EA6;\n",
              "    }\n",
              "\n",
              "    [theme=dark] .colab-df-convert {\n",
              "      background-color: #3B4455;\n",
              "      fill: #D2E3FC;\n",
              "    }\n",
              "\n",
              "    [theme=dark] .colab-df-convert:hover {\n",
              "      background-color: #434B5C;\n",
              "      box-shadow: 0px 1px 3px 1px rgba(0, 0, 0, 0.15);\n",
              "      filter: drop-shadow(0px 1px 2px rgba(0, 0, 0, 0.3));\n",
              "      fill: #FFFFFF;\n",
              "    }\n",
              "  </style>\n",
              "\n",
              "      <script>\n",
              "        const buttonEl =\n",
              "          document.querySelector('#df-14d28511-7c9d-40ad-9d37-9ea5e5fc04fc button.colab-df-convert');\n",
              "        buttonEl.style.display =\n",
              "          google.colab.kernel.accessAllowed ? 'block' : 'none';\n",
              "\n",
              "        async function convertToInteractive(key) {\n",
              "          const element = document.querySelector('#df-14d28511-7c9d-40ad-9d37-9ea5e5fc04fc');\n",
              "          const dataTable =\n",
              "            await google.colab.kernel.invokeFunction('convertToInteractive',\n",
              "                                                     [key], {});\n",
              "          if (!dataTable) return;\n",
              "\n",
              "          const docLinkHtml = 'Like what you see? Visit the ' +\n",
              "            '<a target=\"_blank\" href=https://colab.research.google.com/notebooks/data_table.ipynb>data table notebook</a>'\n",
              "            + ' to learn more about interactive tables.';\n",
              "          element.innerHTML = '';\n",
              "          dataTable['output_type'] = 'display_data';\n",
              "          await google.colab.output.renderOutput(dataTable, element);\n",
              "          const docLink = document.createElement('div');\n",
              "          docLink.innerHTML = docLinkHtml;\n",
              "          element.appendChild(docLink);\n",
              "        }\n",
              "      </script>\n",
              "    </div>\n",
              "  </div>\n",
              "  "
            ]
          },
          "metadata": {},
          "execution_count": 325
        }
      ]
    },
    {
      "cell_type": "markdown",
      "source": [
        "Обрабатываем колонку с ценой футболиста: создаем колонку *market_value_m*, в которой будет указана цена футболиста в миллионах евро."
      ],
      "metadata": {
        "id": "jsp6OumzoReI"
      }
    },
    {
      "cell_type": "code",
      "source": [
        "def convert_price(s):\n",
        "  if s[-1] == 'm':\n",
        "    return float(s[1:-1])\n",
        "  else:\n",
        "    return float(s[1:-1]) / 1000\n",
        "\n",
        "df['market_value_m'] = df['market_value'].apply(convert_price)\n",
        "df['market_value_m'] = df['market_value_m'].astype(float)\n",
        "\n",
        "df.sample(5)"
      ],
      "metadata": {
        "colab": {
          "base_uri": "https://localhost:8080/",
          "height": 206
        },
        "id": "O9qwSEdg3TfI",
        "outputId": "d81b9d61-cc19-4086-8e0d-b06c398ee6d6"
      },
      "execution_count": null,
      "outputs": [
        {
          "output_type": "execute_result",
          "data": {
            "text/plain": [
              "                  name                    team  age  height    nation  games  \\\n",
              "377        Jakub Moder  Brighton & Hove Albion   24     191    Poland      0   \n",
              "21       Wesley Fofana              Chelsea FC   22     186    France     15   \n",
              "198  Marvelous Nakamba             Aston Villa   29     177  Zimbabwe      0   \n",
              "47       Armando Broja              Chelsea FC   21     191   Albania     12   \n",
              "240        Luke Thomas          Leicester City   21     181   England     17   \n",
              "\n",
              "     goals  assists  total_minutes market_value main_position  \\\n",
              "377      0        0              0      €12.00m      midfield   \n",
              "21       1        0           1185      €65.00m      defender   \n",
              "198      0        0              0       €4.00m      midfield   \n",
              "47       1        1            286      €30.00m        attack   \n",
              "240      0        0           1070      €10.00m      defender   \n",
              "\n",
              "           sub_position  right_foot  market_value_m  \n",
              "377    central midfield        True            12.0  \n",
              "21          centre back        True            65.0  \n",
              "198  defensive midfield       False             4.0  \n",
              "47       centre forward        True            30.0  \n",
              "240           left back       False            10.0  "
            ],
            "text/html": [
              "\n",
              "  <div id=\"df-f34cba61-b2a1-42e9-a193-2b5ed922408a\">\n",
              "    <div class=\"colab-df-container\">\n",
              "      <div>\n",
              "<style scoped>\n",
              "    .dataframe tbody tr th:only-of-type {\n",
              "        vertical-align: middle;\n",
              "    }\n",
              "\n",
              "    .dataframe tbody tr th {\n",
              "        vertical-align: top;\n",
              "    }\n",
              "\n",
              "    .dataframe thead th {\n",
              "        text-align: right;\n",
              "    }\n",
              "</style>\n",
              "<table border=\"1\" class=\"dataframe\">\n",
              "  <thead>\n",
              "    <tr style=\"text-align: right;\">\n",
              "      <th></th>\n",
              "      <th>name</th>\n",
              "      <th>team</th>\n",
              "      <th>age</th>\n",
              "      <th>height</th>\n",
              "      <th>nation</th>\n",
              "      <th>games</th>\n",
              "      <th>goals</th>\n",
              "      <th>assists</th>\n",
              "      <th>total_minutes</th>\n",
              "      <th>market_value</th>\n",
              "      <th>main_position</th>\n",
              "      <th>sub_position</th>\n",
              "      <th>right_foot</th>\n",
              "      <th>market_value_m</th>\n",
              "    </tr>\n",
              "  </thead>\n",
              "  <tbody>\n",
              "    <tr>\n",
              "      <th>377</th>\n",
              "      <td>Jakub Moder</td>\n",
              "      <td>Brighton &amp; Hove Albion</td>\n",
              "      <td>24</td>\n",
              "      <td>191</td>\n",
              "      <td>Poland</td>\n",
              "      <td>0</td>\n",
              "      <td>0</td>\n",
              "      <td>0</td>\n",
              "      <td>0</td>\n",
              "      <td>€12.00m</td>\n",
              "      <td>midfield</td>\n",
              "      <td>central midfield</td>\n",
              "      <td>True</td>\n",
              "      <td>12.0</td>\n",
              "    </tr>\n",
              "    <tr>\n",
              "      <th>21</th>\n",
              "      <td>Wesley Fofana</td>\n",
              "      <td>Chelsea FC</td>\n",
              "      <td>22</td>\n",
              "      <td>186</td>\n",
              "      <td>France</td>\n",
              "      <td>15</td>\n",
              "      <td>1</td>\n",
              "      <td>0</td>\n",
              "      <td>1185</td>\n",
              "      <td>€65.00m</td>\n",
              "      <td>defender</td>\n",
              "      <td>centre back</td>\n",
              "      <td>True</td>\n",
              "      <td>65.0</td>\n",
              "    </tr>\n",
              "    <tr>\n",
              "      <th>198</th>\n",
              "      <td>Marvelous Nakamba</td>\n",
              "      <td>Aston Villa</td>\n",
              "      <td>29</td>\n",
              "      <td>177</td>\n",
              "      <td>Zimbabwe</td>\n",
              "      <td>0</td>\n",
              "      <td>0</td>\n",
              "      <td>0</td>\n",
              "      <td>0</td>\n",
              "      <td>€4.00m</td>\n",
              "      <td>midfield</td>\n",
              "      <td>defensive midfield</td>\n",
              "      <td>False</td>\n",
              "      <td>4.0</td>\n",
              "    </tr>\n",
              "    <tr>\n",
              "      <th>47</th>\n",
              "      <td>Armando Broja</td>\n",
              "      <td>Chelsea FC</td>\n",
              "      <td>21</td>\n",
              "      <td>191</td>\n",
              "      <td>Albania</td>\n",
              "      <td>12</td>\n",
              "      <td>1</td>\n",
              "      <td>1</td>\n",
              "      <td>286</td>\n",
              "      <td>€30.00m</td>\n",
              "      <td>attack</td>\n",
              "      <td>centre forward</td>\n",
              "      <td>True</td>\n",
              "      <td>30.0</td>\n",
              "    </tr>\n",
              "    <tr>\n",
              "      <th>240</th>\n",
              "      <td>Luke Thomas</td>\n",
              "      <td>Leicester City</td>\n",
              "      <td>21</td>\n",
              "      <td>181</td>\n",
              "      <td>England</td>\n",
              "      <td>17</td>\n",
              "      <td>0</td>\n",
              "      <td>0</td>\n",
              "      <td>1070</td>\n",
              "      <td>€10.00m</td>\n",
              "      <td>defender</td>\n",
              "      <td>left back</td>\n",
              "      <td>False</td>\n",
              "      <td>10.0</td>\n",
              "    </tr>\n",
              "  </tbody>\n",
              "</table>\n",
              "</div>\n",
              "      <button class=\"colab-df-convert\" onclick=\"convertToInteractive('df-f34cba61-b2a1-42e9-a193-2b5ed922408a')\"\n",
              "              title=\"Convert this dataframe to an interactive table.\"\n",
              "              style=\"display:none;\">\n",
              "        \n",
              "  <svg xmlns=\"http://www.w3.org/2000/svg\" height=\"24px\"viewBox=\"0 0 24 24\"\n",
              "       width=\"24px\">\n",
              "    <path d=\"M0 0h24v24H0V0z\" fill=\"none\"/>\n",
              "    <path d=\"M18.56 5.44l.94 2.06.94-2.06 2.06-.94-2.06-.94-.94-2.06-.94 2.06-2.06.94zm-11 1L8.5 8.5l.94-2.06 2.06-.94-2.06-.94L8.5 2.5l-.94 2.06-2.06.94zm10 10l.94 2.06.94-2.06 2.06-.94-2.06-.94-.94-2.06-.94 2.06-2.06.94z\"/><path d=\"M17.41 7.96l-1.37-1.37c-.4-.4-.92-.59-1.43-.59-.52 0-1.04.2-1.43.59L10.3 9.45l-7.72 7.72c-.78.78-.78 2.05 0 2.83L4 21.41c.39.39.9.59 1.41.59.51 0 1.02-.2 1.41-.59l7.78-7.78 2.81-2.81c.8-.78.8-2.07 0-2.86zM5.41 20L4 18.59l7.72-7.72 1.47 1.35L5.41 20z\"/>\n",
              "  </svg>\n",
              "      </button>\n",
              "      \n",
              "  <style>\n",
              "    .colab-df-container {\n",
              "      display:flex;\n",
              "      flex-wrap:wrap;\n",
              "      gap: 12px;\n",
              "    }\n",
              "\n",
              "    .colab-df-convert {\n",
              "      background-color: #E8F0FE;\n",
              "      border: none;\n",
              "      border-radius: 50%;\n",
              "      cursor: pointer;\n",
              "      display: none;\n",
              "      fill: #1967D2;\n",
              "      height: 32px;\n",
              "      padding: 0 0 0 0;\n",
              "      width: 32px;\n",
              "    }\n",
              "\n",
              "    .colab-df-convert:hover {\n",
              "      background-color: #E2EBFA;\n",
              "      box-shadow: 0px 1px 2px rgba(60, 64, 67, 0.3), 0px 1px 3px 1px rgba(60, 64, 67, 0.15);\n",
              "      fill: #174EA6;\n",
              "    }\n",
              "\n",
              "    [theme=dark] .colab-df-convert {\n",
              "      background-color: #3B4455;\n",
              "      fill: #D2E3FC;\n",
              "    }\n",
              "\n",
              "    [theme=dark] .colab-df-convert:hover {\n",
              "      background-color: #434B5C;\n",
              "      box-shadow: 0px 1px 3px 1px rgba(0, 0, 0, 0.15);\n",
              "      filter: drop-shadow(0px 1px 2px rgba(0, 0, 0, 0.3));\n",
              "      fill: #FFFFFF;\n",
              "    }\n",
              "  </style>\n",
              "\n",
              "      <script>\n",
              "        const buttonEl =\n",
              "          document.querySelector('#df-f34cba61-b2a1-42e9-a193-2b5ed922408a button.colab-df-convert');\n",
              "        buttonEl.style.display =\n",
              "          google.colab.kernel.accessAllowed ? 'block' : 'none';\n",
              "\n",
              "        async function convertToInteractive(key) {\n",
              "          const element = document.querySelector('#df-f34cba61-b2a1-42e9-a193-2b5ed922408a');\n",
              "          const dataTable =\n",
              "            await google.colab.kernel.invokeFunction('convertToInteractive',\n",
              "                                                     [key], {});\n",
              "          if (!dataTable) return;\n",
              "\n",
              "          const docLinkHtml = 'Like what you see? Visit the ' +\n",
              "            '<a target=\"_blank\" href=https://colab.research.google.com/notebooks/data_table.ipynb>data table notebook</a>'\n",
              "            + ' to learn more about interactive tables.';\n",
              "          element.innerHTML = '';\n",
              "          dataTable['output_type'] = 'display_data';\n",
              "          await google.colab.output.renderOutput(dataTable, element);\n",
              "          const docLink = document.createElement('div');\n",
              "          docLink.innerHTML = docLinkHtml;\n",
              "          element.appendChild(docLink);\n",
              "        }\n",
              "      </script>\n",
              "    </div>\n",
              "  </div>\n",
              "  "
            ]
          },
          "metadata": {},
          "execution_count": 326
        }
      ]
    },
    {
      "cell_type": "code",
      "source": [
        "df = df.drop(['market_value'], axis=1)"
      ],
      "metadata": {
        "id": "I3-pQwz-88mb"
      },
      "execution_count": null,
      "outputs": []
    },
    {
      "cell_type": "markdown",
      "source": [
        "### Итоговый вид датафрейма после предобработки"
      ],
      "metadata": {
        "id": "Bo95LX8L9okL"
      }
    },
    {
      "cell_type": "code",
      "source": [
        "df.head()"
      ],
      "metadata": {
        "colab": {
          "base_uri": "https://localhost:8080/",
          "height": 206
        },
        "id": "wO80kRNp9tj9",
        "outputId": "ce07fd2f-18dc-4bc3-c91e-0da19c40ffe1"
      },
      "execution_count": null,
      "outputs": [
        {
          "output_type": "execute_result",
          "data": {
            "text/plain": [
              "              name             team  age  height       nation  games  goals  \\\n",
              "0       Rúben Dias  Manchester City   26     187     Portugal     26      0   \n",
              "1       Nathan Aké  Manchester City   28     180  Netherlands     26      1   \n",
              "2      John Stones  Manchester City   29     188      England     23      2   \n",
              "3  Aymeric Laporte  Manchester City   29     189        Spain     12      0   \n",
              "4    Manuel Akanji  Manchester City   27     188  Switzerland     29      0   \n",
              "\n",
              "   assists  total_minutes main_position sub_position  right_foot  \\\n",
              "0        0           1996      defender  centre back        True   \n",
              "1        0           1876      defender  centre back       False   \n",
              "2        2           1848      defender  centre back        True   \n",
              "3        0            993      defender  centre back       False   \n",
              "4        1           2283      defender  centre back        True   \n",
              "\n",
              "   market_value_m  \n",
              "0            75.0  \n",
              "1            35.0  \n",
              "2            30.0  \n",
              "3            30.0  \n",
              "4            30.0  "
            ],
            "text/html": [
              "\n",
              "  <div id=\"df-ec4dfa93-cd75-43f9-b125-8b9739495cd0\">\n",
              "    <div class=\"colab-df-container\">\n",
              "      <div>\n",
              "<style scoped>\n",
              "    .dataframe tbody tr th:only-of-type {\n",
              "        vertical-align: middle;\n",
              "    }\n",
              "\n",
              "    .dataframe tbody tr th {\n",
              "        vertical-align: top;\n",
              "    }\n",
              "\n",
              "    .dataframe thead th {\n",
              "        text-align: right;\n",
              "    }\n",
              "</style>\n",
              "<table border=\"1\" class=\"dataframe\">\n",
              "  <thead>\n",
              "    <tr style=\"text-align: right;\">\n",
              "      <th></th>\n",
              "      <th>name</th>\n",
              "      <th>team</th>\n",
              "      <th>age</th>\n",
              "      <th>height</th>\n",
              "      <th>nation</th>\n",
              "      <th>games</th>\n",
              "      <th>goals</th>\n",
              "      <th>assists</th>\n",
              "      <th>total_minutes</th>\n",
              "      <th>main_position</th>\n",
              "      <th>sub_position</th>\n",
              "      <th>right_foot</th>\n",
              "      <th>market_value_m</th>\n",
              "    </tr>\n",
              "  </thead>\n",
              "  <tbody>\n",
              "    <tr>\n",
              "      <th>0</th>\n",
              "      <td>Rúben Dias</td>\n",
              "      <td>Manchester City</td>\n",
              "      <td>26</td>\n",
              "      <td>187</td>\n",
              "      <td>Portugal</td>\n",
              "      <td>26</td>\n",
              "      <td>0</td>\n",
              "      <td>0</td>\n",
              "      <td>1996</td>\n",
              "      <td>defender</td>\n",
              "      <td>centre back</td>\n",
              "      <td>True</td>\n",
              "      <td>75.0</td>\n",
              "    </tr>\n",
              "    <tr>\n",
              "      <th>1</th>\n",
              "      <td>Nathan Aké</td>\n",
              "      <td>Manchester City</td>\n",
              "      <td>28</td>\n",
              "      <td>180</td>\n",
              "      <td>Netherlands</td>\n",
              "      <td>26</td>\n",
              "      <td>1</td>\n",
              "      <td>0</td>\n",
              "      <td>1876</td>\n",
              "      <td>defender</td>\n",
              "      <td>centre back</td>\n",
              "      <td>False</td>\n",
              "      <td>35.0</td>\n",
              "    </tr>\n",
              "    <tr>\n",
              "      <th>2</th>\n",
              "      <td>John Stones</td>\n",
              "      <td>Manchester City</td>\n",
              "      <td>29</td>\n",
              "      <td>188</td>\n",
              "      <td>England</td>\n",
              "      <td>23</td>\n",
              "      <td>2</td>\n",
              "      <td>2</td>\n",
              "      <td>1848</td>\n",
              "      <td>defender</td>\n",
              "      <td>centre back</td>\n",
              "      <td>True</td>\n",
              "      <td>30.0</td>\n",
              "    </tr>\n",
              "    <tr>\n",
              "      <th>3</th>\n",
              "      <td>Aymeric Laporte</td>\n",
              "      <td>Manchester City</td>\n",
              "      <td>29</td>\n",
              "      <td>189</td>\n",
              "      <td>Spain</td>\n",
              "      <td>12</td>\n",
              "      <td>0</td>\n",
              "      <td>0</td>\n",
              "      <td>993</td>\n",
              "      <td>defender</td>\n",
              "      <td>centre back</td>\n",
              "      <td>False</td>\n",
              "      <td>30.0</td>\n",
              "    </tr>\n",
              "    <tr>\n",
              "      <th>4</th>\n",
              "      <td>Manuel Akanji</td>\n",
              "      <td>Manchester City</td>\n",
              "      <td>27</td>\n",
              "      <td>188</td>\n",
              "      <td>Switzerland</td>\n",
              "      <td>29</td>\n",
              "      <td>0</td>\n",
              "      <td>1</td>\n",
              "      <td>2283</td>\n",
              "      <td>defender</td>\n",
              "      <td>centre back</td>\n",
              "      <td>True</td>\n",
              "      <td>30.0</td>\n",
              "    </tr>\n",
              "  </tbody>\n",
              "</table>\n",
              "</div>\n",
              "      <button class=\"colab-df-convert\" onclick=\"convertToInteractive('df-ec4dfa93-cd75-43f9-b125-8b9739495cd0')\"\n",
              "              title=\"Convert this dataframe to an interactive table.\"\n",
              "              style=\"display:none;\">\n",
              "        \n",
              "  <svg xmlns=\"http://www.w3.org/2000/svg\" height=\"24px\"viewBox=\"0 0 24 24\"\n",
              "       width=\"24px\">\n",
              "    <path d=\"M0 0h24v24H0V0z\" fill=\"none\"/>\n",
              "    <path d=\"M18.56 5.44l.94 2.06.94-2.06 2.06-.94-2.06-.94-.94-2.06-.94 2.06-2.06.94zm-11 1L8.5 8.5l.94-2.06 2.06-.94-2.06-.94L8.5 2.5l-.94 2.06-2.06.94zm10 10l.94 2.06.94-2.06 2.06-.94-2.06-.94-.94-2.06-.94 2.06-2.06.94z\"/><path d=\"M17.41 7.96l-1.37-1.37c-.4-.4-.92-.59-1.43-.59-.52 0-1.04.2-1.43.59L10.3 9.45l-7.72 7.72c-.78.78-.78 2.05 0 2.83L4 21.41c.39.39.9.59 1.41.59.51 0 1.02-.2 1.41-.59l7.78-7.78 2.81-2.81c.8-.78.8-2.07 0-2.86zM5.41 20L4 18.59l7.72-7.72 1.47 1.35L5.41 20z\"/>\n",
              "  </svg>\n",
              "      </button>\n",
              "      \n",
              "  <style>\n",
              "    .colab-df-container {\n",
              "      display:flex;\n",
              "      flex-wrap:wrap;\n",
              "      gap: 12px;\n",
              "    }\n",
              "\n",
              "    .colab-df-convert {\n",
              "      background-color: #E8F0FE;\n",
              "      border: none;\n",
              "      border-radius: 50%;\n",
              "      cursor: pointer;\n",
              "      display: none;\n",
              "      fill: #1967D2;\n",
              "      height: 32px;\n",
              "      padding: 0 0 0 0;\n",
              "      width: 32px;\n",
              "    }\n",
              "\n",
              "    .colab-df-convert:hover {\n",
              "      background-color: #E2EBFA;\n",
              "      box-shadow: 0px 1px 2px rgba(60, 64, 67, 0.3), 0px 1px 3px 1px rgba(60, 64, 67, 0.15);\n",
              "      fill: #174EA6;\n",
              "    }\n",
              "\n",
              "    [theme=dark] .colab-df-convert {\n",
              "      background-color: #3B4455;\n",
              "      fill: #D2E3FC;\n",
              "    }\n",
              "\n",
              "    [theme=dark] .colab-df-convert:hover {\n",
              "      background-color: #434B5C;\n",
              "      box-shadow: 0px 1px 3px 1px rgba(0, 0, 0, 0.15);\n",
              "      filter: drop-shadow(0px 1px 2px rgba(0, 0, 0, 0.3));\n",
              "      fill: #FFFFFF;\n",
              "    }\n",
              "  </style>\n",
              "\n",
              "      <script>\n",
              "        const buttonEl =\n",
              "          document.querySelector('#df-ec4dfa93-cd75-43f9-b125-8b9739495cd0 button.colab-df-convert');\n",
              "        buttonEl.style.display =\n",
              "          google.colab.kernel.accessAllowed ? 'block' : 'none';\n",
              "\n",
              "        async function convertToInteractive(key) {\n",
              "          const element = document.querySelector('#df-ec4dfa93-cd75-43f9-b125-8b9739495cd0');\n",
              "          const dataTable =\n",
              "            await google.colab.kernel.invokeFunction('convertToInteractive',\n",
              "                                                     [key], {});\n",
              "          if (!dataTable) return;\n",
              "\n",
              "          const docLinkHtml = 'Like what you see? Visit the ' +\n",
              "            '<a target=\"_blank\" href=https://colab.research.google.com/notebooks/data_table.ipynb>data table notebook</a>'\n",
              "            + ' to learn more about interactive tables.';\n",
              "          element.innerHTML = '';\n",
              "          dataTable['output_type'] = 'display_data';\n",
              "          await google.colab.output.renderOutput(dataTable, element);\n",
              "          const docLink = document.createElement('div');\n",
              "          docLink.innerHTML = docLinkHtml;\n",
              "          element.appendChild(docLink);\n",
              "        }\n",
              "      </script>\n",
              "    </div>\n",
              "  </div>\n",
              "  "
            ]
          },
          "metadata": {},
          "execution_count": 328
        }
      ]
    },
    {
      "cell_type": "markdown",
      "source": [
        "Признаки, который содержит датасет после предварительной обработки:\n",
        "\n",
        "1. **name (str)** - имя футболиста\n",
        "2. **team (str)** - команда, за которую играет футболист\n",
        "3. **age (int)** - возраст футболиста\n",
        "4. **height (int)** - рост футболиста\n",
        "5. **nation (str)** - национальность футболиста\n",
        "6. **games (int)** - количество игр, сыгранных в этом сезоне Премьер-Лиги\n",
        "7. **goals (int)** - количество забитых голов в этом сезоне\n",
        "8. **assists (int)** - количество отданных голевых передач в этом сезоне\n",
        "9. **total_minutes (int)** - суммарное количество минут, сыгранных в этом сезоне\n",
        "10. **main_position (str)** - общая позиция футболиста\n",
        "11. **sub_position (str)** - детальная позиция футболиста\n",
        "12. **right_foot (bool)** - является ли футболист \"правоногим\"\n",
        "13. **market_value_m (float)** - трансферная стоимость футболиста в миллионах евро"
      ],
      "metadata": {
        "id": "mqqMS0IfowAN"
      }
    },
    {
      "cell_type": "markdown",
      "source": [
        "## 4. Анализ датасета"
      ],
      "metadata": {
        "id": "Fo82CHZApvSl"
      }
    },
    {
      "cell_type": "markdown",
      "source": [
        "### Исследование переменных"
      ],
      "metadata": {
        "id": "u8syUtq7Rhf9"
      }
    },
    {
      "cell_type": "markdown",
      "source": [
        "#### *team*"
      ],
      "metadata": {
        "id": "2p8oja2_VJfq"
      }
    },
    {
      "cell_type": "markdown",
      "source": [
        "Посмотрим на количество игроков в каждой из команд."
      ],
      "metadata": {
        "id": "ETK4DpHQxLcO"
      }
    },
    {
      "cell_type": "code",
      "source": [
        "fig = px.histogram(df, x=\"team\", width=800,\n",
        "                   title=\"Количество игроков в каждой команде\")\n",
        "fig.show()"
      ],
      "metadata": {
        "colab": {
          "base_uri": "https://localhost:8080/",
          "height": 542
        },
        "id": "ZpfFqUnoxRQM",
        "outputId": "9b4ec5ad-7b22-48d4-f0fc-1bfdb2650813"
      },
      "execution_count": null,
      "outputs": [
        {
          "output_type": "display_data",
          "data": {
            "text/html": [
              "<html>\n",
              "<head><meta charset=\"utf-8\" /></head>\n",
              "<body>\n",
              "    <div>            <script src=\"https://cdnjs.cloudflare.com/ajax/libs/mathjax/2.7.5/MathJax.js?config=TeX-AMS-MML_SVG\"></script><script type=\"text/javascript\">if (window.MathJax && window.MathJax.Hub && window.MathJax.Hub.Config) {window.MathJax.Hub.Config({SVG: {font: \"STIX-Web\"}});}</script>                <script type=\"text/javascript\">window.PlotlyConfig = {MathJaxConfig: 'local'};</script>\n",
              "        <script src=\"https://cdn.plot.ly/plotly-2.18.2.min.js\"></script>                <div id=\"573899db-ebf6-46aa-bf50-206891f97f4d\" class=\"plotly-graph-div\" style=\"height:525px; width:800px;\"></div>            <script type=\"text/javascript\">                                    window.PLOTLYENV=window.PLOTLYENV || {};                                    if (document.getElementById(\"573899db-ebf6-46aa-bf50-206891f97f4d\")) {                    Plotly.newPlot(                        \"573899db-ebf6-46aa-bf50-206891f97f4d\",                        [{\"alignmentgroup\":\"True\",\"bingroup\":\"x\",\"hovertemplate\":\"team=%{x}<br>count=%{y}<extra></extra>\",\"legendgroup\":\"\",\"marker\":{\"color\":\"#636efa\",\"pattern\":{\"shape\":\"\"}},\"name\":\"\",\"offsetgroup\":\"\",\"orientation\":\"v\",\"showlegend\":false,\"x\":[\"Manchester City\",\"Manchester City\",\"Manchester City\",\"Manchester City\",\"Manchester City\",\"Manchester City\",\"Manchester City\",\"Manchester City\",\"Manchester City\",\"Manchester City\",\"Manchester City\",\"Manchester City\",\"Manchester City\",\"Manchester City\",\"Manchester City\",\"Manchester City\",\"Manchester City\",\"Manchester City\",\"Manchester City\",\"Manchester City\",\"Chelsea FC\",\"Chelsea FC\",\"Chelsea FC\",\"Chelsea FC\",\"Chelsea FC\",\"Chelsea FC\",\"Chelsea FC\",\"Chelsea FC\",\"Chelsea FC\",\"Chelsea FC\",\"Chelsea FC\",\"Chelsea FC\",\"Chelsea FC\",\"Chelsea FC\",\"Chelsea FC\",\"Chelsea FC\",\"Chelsea FC\",\"Chelsea FC\",\"Chelsea FC\",\"Chelsea FC\",\"Chelsea FC\",\"Chelsea FC\",\"Chelsea FC\",\"Chelsea FC\",\"Chelsea FC\",\"Chelsea FC\",\"Chelsea FC\",\"Chelsea FC\",\"Chelsea FC\",\"Arsenal FC\",\"Arsenal FC\",\"Arsenal FC\",\"Arsenal FC\",\"Arsenal FC\",\"Arsenal FC\",\"Arsenal FC\",\"Arsenal FC\",\"Arsenal FC\",\"Arsenal FC\",\"Arsenal FC\",\"Arsenal FC\",\"Arsenal FC\",\"Arsenal FC\",\"Arsenal FC\",\"Arsenal FC\",\"Arsenal FC\",\"Arsenal FC\",\"Arsenal FC\",\"Arsenal FC\",\"Arsenal FC\",\"Arsenal FC\",\"Arsenal FC\",\"Arsenal FC\",\"Arsenal FC\",\"Liverpool FC\",\"Liverpool FC\",\"Liverpool FC\",\"Liverpool FC\",\"Liverpool FC\",\"Liverpool FC\",\"Liverpool FC\",\"Liverpool FC\",\"Liverpool FC\",\"Liverpool FC\",\"Liverpool FC\",\"Liverpool FC\",\"Liverpool FC\",\"Liverpool FC\",\"Liverpool FC\",\"Liverpool FC\",\"Liverpool FC\",\"Liverpool FC\",\"Liverpool FC\",\"Liverpool FC\",\"Liverpool FC\",\"Liverpool FC\",\"Liverpool FC\",\"Liverpool FC\",\"Liverpool FC\",\"Liverpool FC\",\"Liverpool FC\",\"Manchester United\",\"Manchester United\",\"Manchester United\",\"Manchester United\",\"Manchester United\",\"Manchester United\",\"Manchester United\",\"Manchester United\",\"Manchester United\",\"Manchester United\",\"Manchester United\",\"Manchester United\",\"Manchester United\",\"Manchester United\",\"Manchester United\",\"Manchester United\",\"Manchester United\",\"Manchester United\",\"Manchester United\",\"Manchester United\",\"Manchester United\",\"Manchester United\",\"Manchester United\",\"Manchester United\",\"Manchester United\",\"Manchester United\",\"Manchester United\",\"Manchester United\",\"Manchester United\",\"Manchester United\",\"Manchester United\",\"Manchester United\",\"Manchester United\",\"Tottenham Hotspur\",\"Tottenham Hotspur\",\"Tottenham Hotspur\",\"Tottenham Hotspur\",\"Tottenham Hotspur\",\"Tottenham Hotspur\",\"Tottenham Hotspur\",\"Tottenham Hotspur\",\"Tottenham Hotspur\",\"Tottenham Hotspur\",\"Tottenham Hotspur\",\"Tottenham Hotspur\",\"Tottenham Hotspur\",\"Tottenham Hotspur\",\"Tottenham Hotspur\",\"Tottenham Hotspur\",\"Tottenham Hotspur\",\"Tottenham Hotspur\",\"Tottenham Hotspur\",\"Tottenham Hotspur\",\"Tottenham Hotspur\",\"Newcastle United\",\"Newcastle United\",\"Newcastle United\",\"Newcastle United\",\"Newcastle United\",\"Newcastle United\",\"Newcastle United\",\"Newcastle United\",\"Newcastle United\",\"Newcastle United\",\"Newcastle United\",\"Newcastle United\",\"Newcastle United\",\"Newcastle United\",\"Newcastle United\",\"Newcastle United\",\"Newcastle United\",\"Newcastle United\",\"Newcastle United\",\"Newcastle United\",\"Newcastle United\",\"Newcastle United\",\"Newcastle United\",\"Newcastle United\",\"Newcastle United\",\"Newcastle United\",\"Newcastle United\",\"Newcastle United\",\"Newcastle United\",\"Newcastle United\",\"Aston Villa\",\"Aston Villa\",\"Aston Villa\",\"Aston Villa\",\"Aston Villa\",\"Aston Villa\",\"Aston Villa\",\"Aston Villa\",\"Aston Villa\",\"Aston Villa\",\"Aston Villa\",\"Aston Villa\",\"Aston Villa\",\"Aston Villa\",\"Aston Villa\",\"Aston Villa\",\"Aston Villa\",\"Aston Villa\",\"Aston Villa\",\"Aston Villa\",\"Aston Villa\",\"Aston Villa\",\"Aston Villa\",\"Aston Villa\",\"Aston Villa\",\"West Ham United\",\"West Ham United\",\"West Ham United\",\"West Ham United\",\"West Ham United\",\"West Ham United\",\"West Ham United\",\"West Ham United\",\"West Ham United\",\"West Ham United\",\"West Ham United\",\"West Ham United\",\"West Ham United\",\"West Ham United\",\"West Ham United\",\"West Ham United\",\"West Ham United\",\"West Ham United\",\"West Ham United\",\"West Ham United\",\"West Ham United\",\"Leicester City\",\"Leicester City\",\"Leicester City\",\"Leicester City\",\"Leicester City\",\"Leicester City\",\"Leicester City\",\"Leicester City\",\"Leicester City\",\"Leicester City\",\"Leicester City\",\"Leicester City\",\"Leicester City\",\"Leicester City\",\"Leicester City\",\"Leicester City\",\"Leicester City\",\"Leicester City\",\"Leicester City\",\"Leicester City\",\"Leicester City\",\"Leicester City\",\"Leicester City\",\"Leicester City\",\"Leicester City\",\"Leicester City\",\"Leicester City\",\"Southampton FC\",\"Southampton FC\",\"Southampton FC\",\"Southampton FC\",\"Southampton FC\",\"Southampton FC\",\"Southampton FC\",\"Southampton FC\",\"Southampton FC\",\"Southampton FC\",\"Southampton FC\",\"Southampton FC\",\"Southampton FC\",\"Southampton FC\",\"Southampton FC\",\"Southampton FC\",\"Southampton FC\",\"Southampton FC\",\"Southampton FC\",\"Southampton FC\",\"Southampton FC\",\"Southampton FC\",\"Southampton FC\",\"Southampton FC\",\"Southampton FC\",\"Southampton FC\",\"Southampton FC\",\"Southampton FC\",\"Southampton FC\",\"Southampton FC\",\"Wolverhampton Wanderers\",\"Wolverhampton Wanderers\",\"Wolverhampton Wanderers\",\"Wolverhampton Wanderers\",\"Wolverhampton Wanderers\",\"Wolverhampton Wanderers\",\"Wolverhampton Wanderers\",\"Wolverhampton Wanderers\",\"Wolverhampton Wanderers\",\"Wolverhampton Wanderers\",\"Wolverhampton Wanderers\",\"Wolverhampton Wanderers\",\"Wolverhampton Wanderers\",\"Wolverhampton Wanderers\",\"Wolverhampton Wanderers\",\"Wolverhampton Wanderers\",\"Wolverhampton Wanderers\",\"Wolverhampton Wanderers\",\"Wolverhampton Wanderers\",\"Wolverhampton Wanderers\",\"Wolverhampton Wanderers\",\"Wolverhampton Wanderers\",\"Wolverhampton Wanderers\",\"Wolverhampton Wanderers\",\"Wolverhampton Wanderers\",\"Wolverhampton Wanderers\",\"Wolverhampton Wanderers\",\"Leeds United\",\"Leeds United\",\"Leeds United\",\"Leeds United\",\"Leeds United\",\"Leeds United\",\"Leeds United\",\"Leeds United\",\"Leeds United\",\"Leeds United\",\"Leeds United\",\"Leeds United\",\"Leeds United\",\"Leeds United\",\"Leeds United\",\"Leeds United\",\"Leeds United\",\"Leeds United\",\"Leeds United\",\"Leeds United\",\"Leeds United\",\"Leeds United\",\"Leeds United\",\"Leeds United\",\"Leeds United\",\"Leeds United\",\"Leeds United\",\"Leeds United\",\"Leeds United\",\"Everton FC\",\"Everton FC\",\"Everton FC\",\"Everton FC\",\"Everton FC\",\"Everton FC\",\"Everton FC\",\"Everton FC\",\"Everton FC\",\"Everton FC\",\"Everton FC\",\"Everton FC\",\"Everton FC\",\"Everton FC\",\"Everton FC\",\"Everton FC\",\"Everton FC\",\"Everton FC\",\"Everton FC\",\"Everton FC\",\"Everton FC\",\"Everton FC\",\"Brighton & Hove Albion\",\"Brighton & Hove Albion\",\"Brighton & Hove Albion\",\"Brighton & Hove Albion\",\"Brighton & Hove Albion\",\"Brighton & Hove Albion\",\"Brighton & Hove Albion\",\"Brighton & Hove Albion\",\"Brighton & Hove Albion\",\"Brighton & Hove Albion\",\"Brighton & Hove Albion\",\"Brighton & Hove Albion\",\"Brighton & Hove Albion\",\"Brighton & Hove Albion\",\"Brighton & Hove Albion\",\"Brighton & Hove Albion\",\"Brighton & Hove Albion\",\"Brighton & Hove Albion\",\"Brighton & Hove Albion\",\"Brighton & Hove Albion\",\"Brighton & Hove Albion\",\"Brighton & Hove Albion\",\"Brighton & Hove Albion\",\"Brighton & Hove Albion\",\"Brentford FC\",\"Brentford FC\",\"Brentford FC\",\"Brentford FC\",\"Brentford FC\",\"Brentford FC\",\"Brentford FC\",\"Brentford FC\",\"Brentford FC\",\"Brentford FC\",\"Brentford FC\",\"Brentford FC\",\"Brentford FC\",\"Brentford FC\",\"Brentford FC\",\"Brentford FC\",\"Brentford FC\",\"Brentford FC\",\"Brentford FC\",\"Brentford FC\",\"Brentford FC\",\"Brentford FC\",\"Brentford FC\",\"Brentford FC\",\"Brentford FC\",\"Nottingham Forest\",\"Nottingham Forest\",\"Nottingham Forest\",\"Nottingham Forest\",\"Nottingham Forest\",\"Nottingham Forest\",\"Nottingham Forest\",\"Nottingham Forest\",\"Nottingham Forest\",\"Nottingham Forest\",\"Nottingham Forest\",\"Nottingham Forest\",\"Nottingham Forest\",\"Nottingham Forest\",\"Nottingham Forest\",\"Nottingham Forest\",\"Nottingham Forest\",\"Nottingham Forest\",\"Nottingham Forest\",\"Nottingham Forest\",\"Nottingham Forest\",\"Nottingham Forest\",\"Nottingham Forest\",\"Nottingham Forest\",\"Nottingham Forest\",\"Nottingham Forest\",\"Nottingham Forest\",\"Nottingham Forest\",\"Nottingham Forest\",\"Nottingham Forest\",\"Nottingham Forest\",\"Nottingham Forest\",\"Nottingham Forest\",\"Nottingham Forest\",\"Crystal Palace\",\"Crystal Palace\",\"Crystal Palace\",\"Crystal Palace\",\"Crystal Palace\",\"Crystal Palace\",\"Crystal Palace\",\"Crystal Palace\",\"Crystal Palace\",\"Crystal Palace\",\"Crystal Palace\",\"Crystal Palace\",\"Crystal Palace\",\"Crystal Palace\",\"Crystal Palace\",\"Crystal Palace\",\"Crystal Palace\",\"Crystal Palace\",\"Crystal Palace\",\"Crystal Palace\",\"Crystal Palace\",\"Crystal Palace\",\"Crystal Palace\",\"Fulham FC\",\"Fulham FC\",\"Fulham FC\",\"Fulham FC\",\"Fulham FC\",\"Fulham FC\",\"Fulham FC\",\"Fulham FC\",\"Fulham FC\",\"Fulham FC\",\"Fulham FC\",\"Fulham FC\",\"Fulham FC\",\"Fulham FC\",\"Fulham FC\",\"Fulham FC\",\"Fulham FC\",\"Fulham FC\",\"Fulham FC\",\"Fulham FC\",\"Fulham FC\",\"Fulham FC\",\"Fulham FC\",\"Fulham FC\"],\"xaxis\":\"x\",\"yaxis\":\"y\",\"type\":\"histogram\"}],                        {\"template\":{\"data\":{\"histogram2dcontour\":[{\"type\":\"histogram2dcontour\",\"colorbar\":{\"outlinewidth\":0,\"ticks\":\"\"},\"colorscale\":[[0.0,\"#0d0887\"],[0.1111111111111111,\"#46039f\"],[0.2222222222222222,\"#7201a8\"],[0.3333333333333333,\"#9c179e\"],[0.4444444444444444,\"#bd3786\"],[0.5555555555555556,\"#d8576b\"],[0.6666666666666666,\"#ed7953\"],[0.7777777777777778,\"#fb9f3a\"],[0.8888888888888888,\"#fdca26\"],[1.0,\"#f0f921\"]]}],\"choropleth\":[{\"type\":\"choropleth\",\"colorbar\":{\"outlinewidth\":0,\"ticks\":\"\"}}],\"histogram2d\":[{\"type\":\"histogram2d\",\"colorbar\":{\"outlinewidth\":0,\"ticks\":\"\"},\"colorscale\":[[0.0,\"#0d0887\"],[0.1111111111111111,\"#46039f\"],[0.2222222222222222,\"#7201a8\"],[0.3333333333333333,\"#9c179e\"],[0.4444444444444444,\"#bd3786\"],[0.5555555555555556,\"#d8576b\"],[0.6666666666666666,\"#ed7953\"],[0.7777777777777778,\"#fb9f3a\"],[0.8888888888888888,\"#fdca26\"],[1.0,\"#f0f921\"]]}],\"heatmap\":[{\"type\":\"heatmap\",\"colorbar\":{\"outlinewidth\":0,\"ticks\":\"\"},\"colorscale\":[[0.0,\"#0d0887\"],[0.1111111111111111,\"#46039f\"],[0.2222222222222222,\"#7201a8\"],[0.3333333333333333,\"#9c179e\"],[0.4444444444444444,\"#bd3786\"],[0.5555555555555556,\"#d8576b\"],[0.6666666666666666,\"#ed7953\"],[0.7777777777777778,\"#fb9f3a\"],[0.8888888888888888,\"#fdca26\"],[1.0,\"#f0f921\"]]}],\"heatmapgl\":[{\"type\":\"heatmapgl\",\"colorbar\":{\"outlinewidth\":0,\"ticks\":\"\"},\"colorscale\":[[0.0,\"#0d0887\"],[0.1111111111111111,\"#46039f\"],[0.2222222222222222,\"#7201a8\"],[0.3333333333333333,\"#9c179e\"],[0.4444444444444444,\"#bd3786\"],[0.5555555555555556,\"#d8576b\"],[0.6666666666666666,\"#ed7953\"],[0.7777777777777778,\"#fb9f3a\"],[0.8888888888888888,\"#fdca26\"],[1.0,\"#f0f921\"]]}],\"contourcarpet\":[{\"type\":\"contourcarpet\",\"colorbar\":{\"outlinewidth\":0,\"ticks\":\"\"}}],\"contour\":[{\"type\":\"contour\",\"colorbar\":{\"outlinewidth\":0,\"ticks\":\"\"},\"colorscale\":[[0.0,\"#0d0887\"],[0.1111111111111111,\"#46039f\"],[0.2222222222222222,\"#7201a8\"],[0.3333333333333333,\"#9c179e\"],[0.4444444444444444,\"#bd3786\"],[0.5555555555555556,\"#d8576b\"],[0.6666666666666666,\"#ed7953\"],[0.7777777777777778,\"#fb9f3a\"],[0.8888888888888888,\"#fdca26\"],[1.0,\"#f0f921\"]]}],\"surface\":[{\"type\":\"surface\",\"colorbar\":{\"outlinewidth\":0,\"ticks\":\"\"},\"colorscale\":[[0.0,\"#0d0887\"],[0.1111111111111111,\"#46039f\"],[0.2222222222222222,\"#7201a8\"],[0.3333333333333333,\"#9c179e\"],[0.4444444444444444,\"#bd3786\"],[0.5555555555555556,\"#d8576b\"],[0.6666666666666666,\"#ed7953\"],[0.7777777777777778,\"#fb9f3a\"],[0.8888888888888888,\"#fdca26\"],[1.0,\"#f0f921\"]]}],\"mesh3d\":[{\"type\":\"mesh3d\",\"colorbar\":{\"outlinewidth\":0,\"ticks\":\"\"}}],\"scatter\":[{\"fillpattern\":{\"fillmode\":\"overlay\",\"size\":10,\"solidity\":0.2},\"type\":\"scatter\"}],\"parcoords\":[{\"type\":\"parcoords\",\"line\":{\"colorbar\":{\"outlinewidth\":0,\"ticks\":\"\"}}}],\"scatterpolargl\":[{\"type\":\"scatterpolargl\",\"marker\":{\"colorbar\":{\"outlinewidth\":0,\"ticks\":\"\"}}}],\"bar\":[{\"error_x\":{\"color\":\"#2a3f5f\"},\"error_y\":{\"color\":\"#2a3f5f\"},\"marker\":{\"line\":{\"color\":\"#E5ECF6\",\"width\":0.5},\"pattern\":{\"fillmode\":\"overlay\",\"size\":10,\"solidity\":0.2}},\"type\":\"bar\"}],\"scattergeo\":[{\"type\":\"scattergeo\",\"marker\":{\"colorbar\":{\"outlinewidth\":0,\"ticks\":\"\"}}}],\"scatterpolar\":[{\"type\":\"scatterpolar\",\"marker\":{\"colorbar\":{\"outlinewidth\":0,\"ticks\":\"\"}}}],\"histogram\":[{\"marker\":{\"pattern\":{\"fillmode\":\"overlay\",\"size\":10,\"solidity\":0.2}},\"type\":\"histogram\"}],\"scattergl\":[{\"type\":\"scattergl\",\"marker\":{\"colorbar\":{\"outlinewidth\":0,\"ticks\":\"\"}}}],\"scatter3d\":[{\"type\":\"scatter3d\",\"line\":{\"colorbar\":{\"outlinewidth\":0,\"ticks\":\"\"}},\"marker\":{\"colorbar\":{\"outlinewidth\":0,\"ticks\":\"\"}}}],\"scattermapbox\":[{\"type\":\"scattermapbox\",\"marker\":{\"colorbar\":{\"outlinewidth\":0,\"ticks\":\"\"}}}],\"scatterternary\":[{\"type\":\"scatterternary\",\"marker\":{\"colorbar\":{\"outlinewidth\":0,\"ticks\":\"\"}}}],\"scattercarpet\":[{\"type\":\"scattercarpet\",\"marker\":{\"colorbar\":{\"outlinewidth\":0,\"ticks\":\"\"}}}],\"carpet\":[{\"aaxis\":{\"endlinecolor\":\"#2a3f5f\",\"gridcolor\":\"white\",\"linecolor\":\"white\",\"minorgridcolor\":\"white\",\"startlinecolor\":\"#2a3f5f\"},\"baxis\":{\"endlinecolor\":\"#2a3f5f\",\"gridcolor\":\"white\",\"linecolor\":\"white\",\"minorgridcolor\":\"white\",\"startlinecolor\":\"#2a3f5f\"},\"type\":\"carpet\"}],\"table\":[{\"cells\":{\"fill\":{\"color\":\"#EBF0F8\"},\"line\":{\"color\":\"white\"}},\"header\":{\"fill\":{\"color\":\"#C8D4E3\"},\"line\":{\"color\":\"white\"}},\"type\":\"table\"}],\"barpolar\":[{\"marker\":{\"line\":{\"color\":\"#E5ECF6\",\"width\":0.5},\"pattern\":{\"fillmode\":\"overlay\",\"size\":10,\"solidity\":0.2}},\"type\":\"barpolar\"}],\"pie\":[{\"automargin\":true,\"type\":\"pie\"}]},\"layout\":{\"autotypenumbers\":\"strict\",\"colorway\":[\"#636efa\",\"#EF553B\",\"#00cc96\",\"#ab63fa\",\"#FFA15A\",\"#19d3f3\",\"#FF6692\",\"#B6E880\",\"#FF97FF\",\"#FECB52\"],\"font\":{\"color\":\"#2a3f5f\"},\"hovermode\":\"closest\",\"hoverlabel\":{\"align\":\"left\"},\"paper_bgcolor\":\"white\",\"plot_bgcolor\":\"#E5ECF6\",\"polar\":{\"bgcolor\":\"#E5ECF6\",\"angularaxis\":{\"gridcolor\":\"white\",\"linecolor\":\"white\",\"ticks\":\"\"},\"radialaxis\":{\"gridcolor\":\"white\",\"linecolor\":\"white\",\"ticks\":\"\"}},\"ternary\":{\"bgcolor\":\"#E5ECF6\",\"aaxis\":{\"gridcolor\":\"white\",\"linecolor\":\"white\",\"ticks\":\"\"},\"baxis\":{\"gridcolor\":\"white\",\"linecolor\":\"white\",\"ticks\":\"\"},\"caxis\":{\"gridcolor\":\"white\",\"linecolor\":\"white\",\"ticks\":\"\"}},\"coloraxis\":{\"colorbar\":{\"outlinewidth\":0,\"ticks\":\"\"}},\"colorscale\":{\"sequential\":[[0.0,\"#0d0887\"],[0.1111111111111111,\"#46039f\"],[0.2222222222222222,\"#7201a8\"],[0.3333333333333333,\"#9c179e\"],[0.4444444444444444,\"#bd3786\"],[0.5555555555555556,\"#d8576b\"],[0.6666666666666666,\"#ed7953\"],[0.7777777777777778,\"#fb9f3a\"],[0.8888888888888888,\"#fdca26\"],[1.0,\"#f0f921\"]],\"sequentialminus\":[[0.0,\"#0d0887\"],[0.1111111111111111,\"#46039f\"],[0.2222222222222222,\"#7201a8\"],[0.3333333333333333,\"#9c179e\"],[0.4444444444444444,\"#bd3786\"],[0.5555555555555556,\"#d8576b\"],[0.6666666666666666,\"#ed7953\"],[0.7777777777777778,\"#fb9f3a\"],[0.8888888888888888,\"#fdca26\"],[1.0,\"#f0f921\"]],\"diverging\":[[0,\"#8e0152\"],[0.1,\"#c51b7d\"],[0.2,\"#de77ae\"],[0.3,\"#f1b6da\"],[0.4,\"#fde0ef\"],[0.5,\"#f7f7f7\"],[0.6,\"#e6f5d0\"],[0.7,\"#b8e186\"],[0.8,\"#7fbc41\"],[0.9,\"#4d9221\"],[1,\"#276419\"]]},\"xaxis\":{\"gridcolor\":\"white\",\"linecolor\":\"white\",\"ticks\":\"\",\"title\":{\"standoff\":15},\"zerolinecolor\":\"white\",\"automargin\":true,\"zerolinewidth\":2},\"yaxis\":{\"gridcolor\":\"white\",\"linecolor\":\"white\",\"ticks\":\"\",\"title\":{\"standoff\":15},\"zerolinecolor\":\"white\",\"automargin\":true,\"zerolinewidth\":2},\"scene\":{\"xaxis\":{\"backgroundcolor\":\"#E5ECF6\",\"gridcolor\":\"white\",\"linecolor\":\"white\",\"showbackground\":true,\"ticks\":\"\",\"zerolinecolor\":\"white\",\"gridwidth\":2},\"yaxis\":{\"backgroundcolor\":\"#E5ECF6\",\"gridcolor\":\"white\",\"linecolor\":\"white\",\"showbackground\":true,\"ticks\":\"\",\"zerolinecolor\":\"white\",\"gridwidth\":2},\"zaxis\":{\"backgroundcolor\":\"#E5ECF6\",\"gridcolor\":\"white\",\"linecolor\":\"white\",\"showbackground\":true,\"ticks\":\"\",\"zerolinecolor\":\"white\",\"gridwidth\":2}},\"shapedefaults\":{\"line\":{\"color\":\"#2a3f5f\"}},\"annotationdefaults\":{\"arrowcolor\":\"#2a3f5f\",\"arrowhead\":0,\"arrowwidth\":1},\"geo\":{\"bgcolor\":\"white\",\"landcolor\":\"#E5ECF6\",\"subunitcolor\":\"white\",\"showland\":true,\"showlakes\":true,\"lakecolor\":\"white\"},\"title\":{\"x\":0.05},\"mapbox\":{\"style\":\"light\"}}},\"xaxis\":{\"anchor\":\"y\",\"domain\":[0.0,1.0],\"title\":{\"text\":\"team\"}},\"yaxis\":{\"anchor\":\"x\",\"domain\":[0.0,1.0],\"title\":{\"text\":\"count\"}},\"legend\":{\"tracegroupgap\":0},\"title\":{\"text\":\"\\u041a\\u043e\\u043b\\u0438\\u0447\\u0435\\u0441\\u0442\\u0432\\u043e \\u0438\\u0433\\u0440\\u043e\\u043a\\u043e\\u0432 \\u0432 \\u043a\\u0430\\u0436\\u0434\\u043e\\u0439 \\u043a\\u043e\\u043c\\u0430\\u043d\\u0434\\u0435\"},\"barmode\":\"relative\",\"width\":800},                        {\"responsive\": true}                    ).then(function(){\n",
              "                            \n",
              "var gd = document.getElementById('573899db-ebf6-46aa-bf50-206891f97f4d');\n",
              "var x = new MutationObserver(function (mutations, observer) {{\n",
              "        var display = window.getComputedStyle(gd).display;\n",
              "        if (!display || display === 'none') {{\n",
              "            console.log([gd, 'removed!']);\n",
              "            Plotly.purge(gd);\n",
              "            observer.disconnect();\n",
              "        }}\n",
              "}});\n",
              "\n",
              "// Listen for the removal of the full notebook cells\n",
              "var notebookContainer = gd.closest('#notebook-container');\n",
              "if (notebookContainer) {{\n",
              "    x.observe(notebookContainer, {childList: true});\n",
              "}}\n",
              "\n",
              "// Listen for the clearing of the current output cell\n",
              "var outputEl = gd.closest('.output');\n",
              "if (outputEl) {{\n",
              "    x.observe(outputEl, {childList: true});\n",
              "}}\n",
              "\n",
              "                        })                };                            </script>        </div>\n",
              "</body>\n",
              "</html>"
            ]
          },
          "metadata": {}
        }
      ]
    },
    {
      "cell_type": "markdown",
      "source": [
        "Видим, что распределение почти равномерное, в каждой команде примерно одинаковое количество игроков."
      ],
      "metadata": {
        "id": "aEE0ODnWx2LP"
      }
    },
    {
      "cell_type": "markdown",
      "source": [
        "#### *age*"
      ],
      "metadata": {
        "id": "-mho9paEVP7y"
      }
    },
    {
      "cell_type": "markdown",
      "source": [
        "Далее рассмотрим распределение возрасту."
      ],
      "metadata": {
        "id": "0_o4piYfyDG3"
      }
    },
    {
      "cell_type": "code",
      "source": [
        "fig = px.histogram(df, x=\"age\", width=800,\n",
        "                   title=\"Распределение футболистов по возрасту\")\n",
        "fig.show()"
      ],
      "metadata": {
        "colab": {
          "base_uri": "https://localhost:8080/",
          "height": 542
        },
        "id": "w77puVF0yH6s",
        "outputId": "e679d087-6cb9-4aac-b728-e8768d1971f3"
      },
      "execution_count": null,
      "outputs": [
        {
          "output_type": "display_data",
          "data": {
            "text/html": [
              "<html>\n",
              "<head><meta charset=\"utf-8\" /></head>\n",
              "<body>\n",
              "    <div>            <script src=\"https://cdnjs.cloudflare.com/ajax/libs/mathjax/2.7.5/MathJax.js?config=TeX-AMS-MML_SVG\"></script><script type=\"text/javascript\">if (window.MathJax && window.MathJax.Hub && window.MathJax.Hub.Config) {window.MathJax.Hub.Config({SVG: {font: \"STIX-Web\"}});}</script>                <script type=\"text/javascript\">window.PlotlyConfig = {MathJaxConfig: 'local'};</script>\n",
              "        <script src=\"https://cdn.plot.ly/plotly-2.18.2.min.js\"></script>                <div id=\"7078678f-9039-4372-a8c9-3e8d975d1e28\" class=\"plotly-graph-div\" style=\"height:525px; width:800px;\"></div>            <script type=\"text/javascript\">                                    window.PLOTLYENV=window.PLOTLYENV || {};                                    if (document.getElementById(\"7078678f-9039-4372-a8c9-3e8d975d1e28\")) {                    Plotly.newPlot(                        \"7078678f-9039-4372-a8c9-3e8d975d1e28\",                        [{\"alignmentgroup\":\"True\",\"bingroup\":\"x\",\"hovertemplate\":\"age=%{x}<br>count=%{y}<extra></extra>\",\"legendgroup\":\"\",\"marker\":{\"color\":\"#636efa\",\"pattern\":{\"shape\":\"\"}},\"name\":\"\",\"offsetgroup\":\"\",\"orientation\":\"v\",\"showlegend\":false,\"x\":[26,28,29,29,27,22,33,18,26,27,20,32,31,28,21,23,27,32,22,23,22,22,31,23,38,24,26,18,28,23,33,22,32,26,29,23,27,19,24,23,22,28,24,21,30,23,21,20,33,22,25,23,24,27,26,25,25,24,29,31,30,30,23,25,24,22,23,21,28,21,20,23,26,24,31,24,26,31,26,22,29,27,24,19,29,18,32,28,22,26,32,29,37,20,20,26,24,26,30,23,31,25,30,30,28,25,31,21,27,23,22,20,24,25,31,26,31,29,30,26,20,18,28,20,25,23,21,18,23,20,19,21,27,30,25,29,26,27,24,30,23,24,22,27,25,26,20,23,34,30,26,23,30,29,26,23,31,29,33,23,27,31,25,31,32,28,29,21,25,28,23,25,31,23,33,26,20,22,26,29,29,28,18,23,31,30,30,25,28,27,29,29,25,37,23,28,29,25,22,28,19,25,30,21,26,27,27,21,19,25,27,28,26,35,28,33,23,30,24,28,23,24,25,27,30,27,26,26,24,30,33,25,27,24,28,30,35,20,21,33,27,25,29,26,24,25,30,26,24,29,33,26,25,23,24,26,36,24,21,24,26,27,29,26,25,19,26,20,25,19,24,28,20,31,23,26,21,28,24,30,20,23,34,26,29,26,20,24,26,22,33,24,21,29,20,29,21,26,29,21,20,24,22,21,36,27,23,23,31,27,24,25,27,32,34,26,25,20,31,19,23,26,25,21,31,32,24,26,24,23,31,22,21,26,23,19,25,21,23,21,29,32,21,24,30,30,25,26,28,30,24,24,21,34,21,22,30,24,33,27,26,23,31,26,26,22,28,31,22,21,25,22,31,21,24,24,21,31,19,22,18,20,35,26,28,19,18,32,26,23,25,30,32,33,33,27,25,20,23,20,25,29,27,24,25,25,29,26,22,22,27,23,21,27,23,27,26,26,32,22,32,34,25,25,27,22,23,30,22,33,33,25,31,25,31,33,30,23,22,30,29,33,21,24,25,25,31,24,33,22,27,23,22,34,23,32,33,23,26,32,21,28,35,30,24,30,21,19,25,25,31,20,26,25,31,35,25,30,27,31,23,27,28,26,32,22,27,30,23,31,34,26,31,28,22,28],\"xaxis\":\"x\",\"yaxis\":\"y\",\"type\":\"histogram\"}],                        {\"template\":{\"data\":{\"histogram2dcontour\":[{\"type\":\"histogram2dcontour\",\"colorbar\":{\"outlinewidth\":0,\"ticks\":\"\"},\"colorscale\":[[0.0,\"#0d0887\"],[0.1111111111111111,\"#46039f\"],[0.2222222222222222,\"#7201a8\"],[0.3333333333333333,\"#9c179e\"],[0.4444444444444444,\"#bd3786\"],[0.5555555555555556,\"#d8576b\"],[0.6666666666666666,\"#ed7953\"],[0.7777777777777778,\"#fb9f3a\"],[0.8888888888888888,\"#fdca26\"],[1.0,\"#f0f921\"]]}],\"choropleth\":[{\"type\":\"choropleth\",\"colorbar\":{\"outlinewidth\":0,\"ticks\":\"\"}}],\"histogram2d\":[{\"type\":\"histogram2d\",\"colorbar\":{\"outlinewidth\":0,\"ticks\":\"\"},\"colorscale\":[[0.0,\"#0d0887\"],[0.1111111111111111,\"#46039f\"],[0.2222222222222222,\"#7201a8\"],[0.3333333333333333,\"#9c179e\"],[0.4444444444444444,\"#bd3786\"],[0.5555555555555556,\"#d8576b\"],[0.6666666666666666,\"#ed7953\"],[0.7777777777777778,\"#fb9f3a\"],[0.8888888888888888,\"#fdca26\"],[1.0,\"#f0f921\"]]}],\"heatmap\":[{\"type\":\"heatmap\",\"colorbar\":{\"outlinewidth\":0,\"ticks\":\"\"},\"colorscale\":[[0.0,\"#0d0887\"],[0.1111111111111111,\"#46039f\"],[0.2222222222222222,\"#7201a8\"],[0.3333333333333333,\"#9c179e\"],[0.4444444444444444,\"#bd3786\"],[0.5555555555555556,\"#d8576b\"],[0.6666666666666666,\"#ed7953\"],[0.7777777777777778,\"#fb9f3a\"],[0.8888888888888888,\"#fdca26\"],[1.0,\"#f0f921\"]]}],\"heatmapgl\":[{\"type\":\"heatmapgl\",\"colorbar\":{\"outlinewidth\":0,\"ticks\":\"\"},\"colorscale\":[[0.0,\"#0d0887\"],[0.1111111111111111,\"#46039f\"],[0.2222222222222222,\"#7201a8\"],[0.3333333333333333,\"#9c179e\"],[0.4444444444444444,\"#bd3786\"],[0.5555555555555556,\"#d8576b\"],[0.6666666666666666,\"#ed7953\"],[0.7777777777777778,\"#fb9f3a\"],[0.8888888888888888,\"#fdca26\"],[1.0,\"#f0f921\"]]}],\"contourcarpet\":[{\"type\":\"contourcarpet\",\"colorbar\":{\"outlinewidth\":0,\"ticks\":\"\"}}],\"contour\":[{\"type\":\"contour\",\"colorbar\":{\"outlinewidth\":0,\"ticks\":\"\"},\"colorscale\":[[0.0,\"#0d0887\"],[0.1111111111111111,\"#46039f\"],[0.2222222222222222,\"#7201a8\"],[0.3333333333333333,\"#9c179e\"],[0.4444444444444444,\"#bd3786\"],[0.5555555555555556,\"#d8576b\"],[0.6666666666666666,\"#ed7953\"],[0.7777777777777778,\"#fb9f3a\"],[0.8888888888888888,\"#fdca26\"],[1.0,\"#f0f921\"]]}],\"surface\":[{\"type\":\"surface\",\"colorbar\":{\"outlinewidth\":0,\"ticks\":\"\"},\"colorscale\":[[0.0,\"#0d0887\"],[0.1111111111111111,\"#46039f\"],[0.2222222222222222,\"#7201a8\"],[0.3333333333333333,\"#9c179e\"],[0.4444444444444444,\"#bd3786\"],[0.5555555555555556,\"#d8576b\"],[0.6666666666666666,\"#ed7953\"],[0.7777777777777778,\"#fb9f3a\"],[0.8888888888888888,\"#fdca26\"],[1.0,\"#f0f921\"]]}],\"mesh3d\":[{\"type\":\"mesh3d\",\"colorbar\":{\"outlinewidth\":0,\"ticks\":\"\"}}],\"scatter\":[{\"fillpattern\":{\"fillmode\":\"overlay\",\"size\":10,\"solidity\":0.2},\"type\":\"scatter\"}],\"parcoords\":[{\"type\":\"parcoords\",\"line\":{\"colorbar\":{\"outlinewidth\":0,\"ticks\":\"\"}}}],\"scatterpolargl\":[{\"type\":\"scatterpolargl\",\"marker\":{\"colorbar\":{\"outlinewidth\":0,\"ticks\":\"\"}}}],\"bar\":[{\"error_x\":{\"color\":\"#2a3f5f\"},\"error_y\":{\"color\":\"#2a3f5f\"},\"marker\":{\"line\":{\"color\":\"#E5ECF6\",\"width\":0.5},\"pattern\":{\"fillmode\":\"overlay\",\"size\":10,\"solidity\":0.2}},\"type\":\"bar\"}],\"scattergeo\":[{\"type\":\"scattergeo\",\"marker\":{\"colorbar\":{\"outlinewidth\":0,\"ticks\":\"\"}}}],\"scatterpolar\":[{\"type\":\"scatterpolar\",\"marker\":{\"colorbar\":{\"outlinewidth\":0,\"ticks\":\"\"}}}],\"histogram\":[{\"marker\":{\"pattern\":{\"fillmode\":\"overlay\",\"size\":10,\"solidity\":0.2}},\"type\":\"histogram\"}],\"scattergl\":[{\"type\":\"scattergl\",\"marker\":{\"colorbar\":{\"outlinewidth\":0,\"ticks\":\"\"}}}],\"scatter3d\":[{\"type\":\"scatter3d\",\"line\":{\"colorbar\":{\"outlinewidth\":0,\"ticks\":\"\"}},\"marker\":{\"colorbar\":{\"outlinewidth\":0,\"ticks\":\"\"}}}],\"scattermapbox\":[{\"type\":\"scattermapbox\",\"marker\":{\"colorbar\":{\"outlinewidth\":0,\"ticks\":\"\"}}}],\"scatterternary\":[{\"type\":\"scatterternary\",\"marker\":{\"colorbar\":{\"outlinewidth\":0,\"ticks\":\"\"}}}],\"scattercarpet\":[{\"type\":\"scattercarpet\",\"marker\":{\"colorbar\":{\"outlinewidth\":0,\"ticks\":\"\"}}}],\"carpet\":[{\"aaxis\":{\"endlinecolor\":\"#2a3f5f\",\"gridcolor\":\"white\",\"linecolor\":\"white\",\"minorgridcolor\":\"white\",\"startlinecolor\":\"#2a3f5f\"},\"baxis\":{\"endlinecolor\":\"#2a3f5f\",\"gridcolor\":\"white\",\"linecolor\":\"white\",\"minorgridcolor\":\"white\",\"startlinecolor\":\"#2a3f5f\"},\"type\":\"carpet\"}],\"table\":[{\"cells\":{\"fill\":{\"color\":\"#EBF0F8\"},\"line\":{\"color\":\"white\"}},\"header\":{\"fill\":{\"color\":\"#C8D4E3\"},\"line\":{\"color\":\"white\"}},\"type\":\"table\"}],\"barpolar\":[{\"marker\":{\"line\":{\"color\":\"#E5ECF6\",\"width\":0.5},\"pattern\":{\"fillmode\":\"overlay\",\"size\":10,\"solidity\":0.2}},\"type\":\"barpolar\"}],\"pie\":[{\"automargin\":true,\"type\":\"pie\"}]},\"layout\":{\"autotypenumbers\":\"strict\",\"colorway\":[\"#636efa\",\"#EF553B\",\"#00cc96\",\"#ab63fa\",\"#FFA15A\",\"#19d3f3\",\"#FF6692\",\"#B6E880\",\"#FF97FF\",\"#FECB52\"],\"font\":{\"color\":\"#2a3f5f\"},\"hovermode\":\"closest\",\"hoverlabel\":{\"align\":\"left\"},\"paper_bgcolor\":\"white\",\"plot_bgcolor\":\"#E5ECF6\",\"polar\":{\"bgcolor\":\"#E5ECF6\",\"angularaxis\":{\"gridcolor\":\"white\",\"linecolor\":\"white\",\"ticks\":\"\"},\"radialaxis\":{\"gridcolor\":\"white\",\"linecolor\":\"white\",\"ticks\":\"\"}},\"ternary\":{\"bgcolor\":\"#E5ECF6\",\"aaxis\":{\"gridcolor\":\"white\",\"linecolor\":\"white\",\"ticks\":\"\"},\"baxis\":{\"gridcolor\":\"white\",\"linecolor\":\"white\",\"ticks\":\"\"},\"caxis\":{\"gridcolor\":\"white\",\"linecolor\":\"white\",\"ticks\":\"\"}},\"coloraxis\":{\"colorbar\":{\"outlinewidth\":0,\"ticks\":\"\"}},\"colorscale\":{\"sequential\":[[0.0,\"#0d0887\"],[0.1111111111111111,\"#46039f\"],[0.2222222222222222,\"#7201a8\"],[0.3333333333333333,\"#9c179e\"],[0.4444444444444444,\"#bd3786\"],[0.5555555555555556,\"#d8576b\"],[0.6666666666666666,\"#ed7953\"],[0.7777777777777778,\"#fb9f3a\"],[0.8888888888888888,\"#fdca26\"],[1.0,\"#f0f921\"]],\"sequentialminus\":[[0.0,\"#0d0887\"],[0.1111111111111111,\"#46039f\"],[0.2222222222222222,\"#7201a8\"],[0.3333333333333333,\"#9c179e\"],[0.4444444444444444,\"#bd3786\"],[0.5555555555555556,\"#d8576b\"],[0.6666666666666666,\"#ed7953\"],[0.7777777777777778,\"#fb9f3a\"],[0.8888888888888888,\"#fdca26\"],[1.0,\"#f0f921\"]],\"diverging\":[[0,\"#8e0152\"],[0.1,\"#c51b7d\"],[0.2,\"#de77ae\"],[0.3,\"#f1b6da\"],[0.4,\"#fde0ef\"],[0.5,\"#f7f7f7\"],[0.6,\"#e6f5d0\"],[0.7,\"#b8e186\"],[0.8,\"#7fbc41\"],[0.9,\"#4d9221\"],[1,\"#276419\"]]},\"xaxis\":{\"gridcolor\":\"white\",\"linecolor\":\"white\",\"ticks\":\"\",\"title\":{\"standoff\":15},\"zerolinecolor\":\"white\",\"automargin\":true,\"zerolinewidth\":2},\"yaxis\":{\"gridcolor\":\"white\",\"linecolor\":\"white\",\"ticks\":\"\",\"title\":{\"standoff\":15},\"zerolinecolor\":\"white\",\"automargin\":true,\"zerolinewidth\":2},\"scene\":{\"xaxis\":{\"backgroundcolor\":\"#E5ECF6\",\"gridcolor\":\"white\",\"linecolor\":\"white\",\"showbackground\":true,\"ticks\":\"\",\"zerolinecolor\":\"white\",\"gridwidth\":2},\"yaxis\":{\"backgroundcolor\":\"#E5ECF6\",\"gridcolor\":\"white\",\"linecolor\":\"white\",\"showbackground\":true,\"ticks\":\"\",\"zerolinecolor\":\"white\",\"gridwidth\":2},\"zaxis\":{\"backgroundcolor\":\"#E5ECF6\",\"gridcolor\":\"white\",\"linecolor\":\"white\",\"showbackground\":true,\"ticks\":\"\",\"zerolinecolor\":\"white\",\"gridwidth\":2}},\"shapedefaults\":{\"line\":{\"color\":\"#2a3f5f\"}},\"annotationdefaults\":{\"arrowcolor\":\"#2a3f5f\",\"arrowhead\":0,\"arrowwidth\":1},\"geo\":{\"bgcolor\":\"white\",\"landcolor\":\"#E5ECF6\",\"subunitcolor\":\"white\",\"showland\":true,\"showlakes\":true,\"lakecolor\":\"white\"},\"title\":{\"x\":0.05},\"mapbox\":{\"style\":\"light\"}}},\"xaxis\":{\"anchor\":\"y\",\"domain\":[0.0,1.0],\"title\":{\"text\":\"age\"}},\"yaxis\":{\"anchor\":\"x\",\"domain\":[0.0,1.0],\"title\":{\"text\":\"count\"}},\"legend\":{\"tracegroupgap\":0},\"title\":{\"text\":\"\\u0420\\u0430\\u0441\\u043f\\u0440\\u0435\\u0434\\u0435\\u043b\\u0435\\u043d\\u0438\\u0435 \\u0444\\u0443\\u0442\\u0431\\u043e\\u043b\\u0438\\u0441\\u0442\\u043e\\u0432 \\u043f\\u043e \\u0432\\u043e\\u0437\\u0440\\u0430\\u0441\\u0442\\u0443\"},\"barmode\":\"relative\",\"width\":800},                        {\"responsive\": true}                    ).then(function(){\n",
              "                            \n",
              "var gd = document.getElementById('7078678f-9039-4372-a8c9-3e8d975d1e28');\n",
              "var x = new MutationObserver(function (mutations, observer) {{\n",
              "        var display = window.getComputedStyle(gd).display;\n",
              "        if (!display || display === 'none') {{\n",
              "            console.log([gd, 'removed!']);\n",
              "            Plotly.purge(gd);\n",
              "            observer.disconnect();\n",
              "        }}\n",
              "}});\n",
              "\n",
              "// Listen for the removal of the full notebook cells\n",
              "var notebookContainer = gd.closest('#notebook-container');\n",
              "if (notebookContainer) {{\n",
              "    x.observe(notebookContainer, {childList: true});\n",
              "}}\n",
              "\n",
              "// Listen for the clearing of the current output cell\n",
              "var outputEl = gd.closest('.output');\n",
              "if (outputEl) {{\n",
              "    x.observe(outputEl, {childList: true});\n",
              "}}\n",
              "\n",
              "                        })                };                            </script>        </div>\n",
              "</body>\n",
              "</html>"
            ]
          },
          "metadata": {}
        }
      ]
    },
    {
      "cell_type": "markdown",
      "source": [
        "Распределение близко к нормальному. Видно, что больше всего игроков в возрасте 26 лет.\n",
        "\n",
        "Можем посчитать средний возраст, моду и медиану."
      ],
      "metadata": {
        "id": "_RyPQvCfzGQm"
      }
    },
    {
      "cell_type": "code",
      "source": [
        "print(\"Средний возраст: \", np.mean(df.age))\n",
        "print(\"           Мода: \", int(df.age.mode()),\n",
        "      \"(ее мы также определили по графику)\")\n",
        "print(\"        Медиана: \", int(np.median(df.age)))"
      ],
      "metadata": {
        "colab": {
          "base_uri": "https://localhost:8080/"
        },
        "id": "fAzAPKXbzVcB",
        "outputId": "daae0a22-6a59-404d-a538-8040d297aca5"
      },
      "execution_count": null,
      "outputs": [
        {
          "output_type": "stream",
          "name": "stdout",
          "text": [
            "Средний возраст:  25.995967741935484\n",
            "           Мода:  26 (ее мы также определили по графику)\n",
            "        Медиана:  26\n"
          ]
        }
      ]
    },
    {
      "cell_type": "markdown",
      "source": [
        "#### *height*"
      ],
      "metadata": {
        "id": "RKwiR6zHVW-Z"
      }
    },
    {
      "cell_type": "markdown",
      "source": [
        "Посмотрим распределение по росту."
      ],
      "metadata": {
        "id": "fzJFcaos0ENh"
      }
    },
    {
      "cell_type": "code",
      "source": [
        "fig = px.histogram(df, x=\"height\", width=800,\n",
        "                   title=\"Распределение футболистов по росту\")\n",
        "fig.show()"
      ],
      "metadata": {
        "colab": {
          "base_uri": "https://localhost:8080/",
          "height": 542
        },
        "id": "jWiHFqY-0IJP",
        "outputId": "9fdcf76d-0d2b-4a94-d97d-4e9a50c54a1e"
      },
      "execution_count": null,
      "outputs": [
        {
          "output_type": "display_data",
          "data": {
            "text/html": [
              "<html>\n",
              "<head><meta charset=\"utf-8\" /></head>\n",
              "<body>\n",
              "    <div>            <script src=\"https://cdnjs.cloudflare.com/ajax/libs/mathjax/2.7.5/MathJax.js?config=TeX-AMS-MML_SVG\"></script><script type=\"text/javascript\">if (window.MathJax && window.MathJax.Hub && window.MathJax.Hub.Config) {window.MathJax.Hub.Config({SVG: {font: \"STIX-Web\"}});}</script>                <script type=\"text/javascript\">window.PlotlyConfig = {MathJaxConfig: 'local'};</script>\n",
              "        <script src=\"https://cdn.plot.ly/plotly-2.18.2.min.js\"></script>                <div id=\"88b3a919-8a29-46f7-86d5-5340a72df8dc\" class=\"plotly-graph-div\" style=\"height:525px; width:800px;\"></div>            <script type=\"text/javascript\">                                    window.PLOTLYENV=window.PLOTLYENV || {};                                    if (document.getElementById(\"88b3a919-8a29-46f7-86d5-5340a72df8dc\")) {                    Plotly.newPlot(                        \"88b3a919-8a29-46f7-86d5-5340a72df8dc\",                        [{\"alignmentgroup\":\"True\",\"bingroup\":\"x\",\"hovertemplate\":\"height=%{x}<br>count=%{y}<extra></extra>\",\"legendgroup\":\"\",\"marker\":{\"color\":\"#636efa\",\"pattern\":{\"shape\":\"\"}},\"name\":\"\",\"offsetgroup\":\"\",\"orientation\":\"v\",\"showlegend\":false,\"x\":[187,180,188,189,188,171,183,169,191,179,177,180,181,173,189,171,180,179,195,170,186,194,186,192,181,173,180,179,179,180,178,178,171,190,177,182,191,187,181,193,175,170,177,182,181,181,191,181,186,192,190,189,190,189,175,180,186,188,185,178,179,186,183,180,178,182,170,178,172,178,175,175,175,175,193,194,188,195,190,195,178,179,180,177,188,185,174,172,185,172,187,175,175,170,170,180,193,178,175,187,181,175,191,194,187,185,185,186,178,169,180,186,183,183,185,191,182,177,169,184,181,175,179,177,185,180,178,180,172,173,171,174,181,197,185,188,187,186,184,181,173,183,175,185,187,182,184,178,186,184,178,186,172,188,184,195,186,188,185,192,183,201,178,183,173,184,178,179,182,187,186,187,185,171,173,186,179,182,173,163,174,173,175,192,180,185,196,183,182,191,179,178,185,175,184,188,177,177,180,178,183,178,172,181,172,181,180,175,185,189,190,190,186,191,176,170,184,179,188,192,177,178,180,178,167,172,179,182,195,177,180,187,185,198,186,199,188,181,181,179,185,183,175,183,188,178,167,176,178,181,175,175,182,175,183,185,179,191,190,188,192,189,185,187,173,170,173,173,178,181,179,177,183,183,183,183,175,178,177,179,181,173,175,179,201,173,183,185,194,193,188,187,180,175,180,177,183,180,184,183,172,183,176,171,170,165,179,172,174,178,183,200,177,188,186,191,188,190,186,190,190,184,187,175,183,183,175,184,185,168,175,177,180,175,172,170,171,174,167,182,185,182,179,180,185,185,184,187,195,188,180,174,189,177,195,182,183,180,174,183,183,183,181,189,173,191,190,192,189,182,175,163,184,178,174,191,170,181,172,180,174,178,172,178,180,173,183,185,178,174,198,194,196,180,189,196,170,185,184,179,184,187,180,184,183,180,175,176,170,180,180,171,185,185,183,190,189,190,195,188,185,190,173,174,183,183,187,176,177,189,177,178,180,190,184,177,185,178,179,174,177,175,171,184,183,175,191,190,188,182,192,188,184,192,175,175,186,180,182,186,183,185,178,178,178,180,184,185,187,192,182,178,194,196,193,186,183,182,180,171,175,190,181,183,185,173,178,170,170,170,175,173,172,189,185,190],\"xaxis\":\"x\",\"yaxis\":\"y\",\"type\":\"histogram\"}],                        {\"template\":{\"data\":{\"histogram2dcontour\":[{\"type\":\"histogram2dcontour\",\"colorbar\":{\"outlinewidth\":0,\"ticks\":\"\"},\"colorscale\":[[0.0,\"#0d0887\"],[0.1111111111111111,\"#46039f\"],[0.2222222222222222,\"#7201a8\"],[0.3333333333333333,\"#9c179e\"],[0.4444444444444444,\"#bd3786\"],[0.5555555555555556,\"#d8576b\"],[0.6666666666666666,\"#ed7953\"],[0.7777777777777778,\"#fb9f3a\"],[0.8888888888888888,\"#fdca26\"],[1.0,\"#f0f921\"]]}],\"choropleth\":[{\"type\":\"choropleth\",\"colorbar\":{\"outlinewidth\":0,\"ticks\":\"\"}}],\"histogram2d\":[{\"type\":\"histogram2d\",\"colorbar\":{\"outlinewidth\":0,\"ticks\":\"\"},\"colorscale\":[[0.0,\"#0d0887\"],[0.1111111111111111,\"#46039f\"],[0.2222222222222222,\"#7201a8\"],[0.3333333333333333,\"#9c179e\"],[0.4444444444444444,\"#bd3786\"],[0.5555555555555556,\"#d8576b\"],[0.6666666666666666,\"#ed7953\"],[0.7777777777777778,\"#fb9f3a\"],[0.8888888888888888,\"#fdca26\"],[1.0,\"#f0f921\"]]}],\"heatmap\":[{\"type\":\"heatmap\",\"colorbar\":{\"outlinewidth\":0,\"ticks\":\"\"},\"colorscale\":[[0.0,\"#0d0887\"],[0.1111111111111111,\"#46039f\"],[0.2222222222222222,\"#7201a8\"],[0.3333333333333333,\"#9c179e\"],[0.4444444444444444,\"#bd3786\"],[0.5555555555555556,\"#d8576b\"],[0.6666666666666666,\"#ed7953\"],[0.7777777777777778,\"#fb9f3a\"],[0.8888888888888888,\"#fdca26\"],[1.0,\"#f0f921\"]]}],\"heatmapgl\":[{\"type\":\"heatmapgl\",\"colorbar\":{\"outlinewidth\":0,\"ticks\":\"\"},\"colorscale\":[[0.0,\"#0d0887\"],[0.1111111111111111,\"#46039f\"],[0.2222222222222222,\"#7201a8\"],[0.3333333333333333,\"#9c179e\"],[0.4444444444444444,\"#bd3786\"],[0.5555555555555556,\"#d8576b\"],[0.6666666666666666,\"#ed7953\"],[0.7777777777777778,\"#fb9f3a\"],[0.8888888888888888,\"#fdca26\"],[1.0,\"#f0f921\"]]}],\"contourcarpet\":[{\"type\":\"contourcarpet\",\"colorbar\":{\"outlinewidth\":0,\"ticks\":\"\"}}],\"contour\":[{\"type\":\"contour\",\"colorbar\":{\"outlinewidth\":0,\"ticks\":\"\"},\"colorscale\":[[0.0,\"#0d0887\"],[0.1111111111111111,\"#46039f\"],[0.2222222222222222,\"#7201a8\"],[0.3333333333333333,\"#9c179e\"],[0.4444444444444444,\"#bd3786\"],[0.5555555555555556,\"#d8576b\"],[0.6666666666666666,\"#ed7953\"],[0.7777777777777778,\"#fb9f3a\"],[0.8888888888888888,\"#fdca26\"],[1.0,\"#f0f921\"]]}],\"surface\":[{\"type\":\"surface\",\"colorbar\":{\"outlinewidth\":0,\"ticks\":\"\"},\"colorscale\":[[0.0,\"#0d0887\"],[0.1111111111111111,\"#46039f\"],[0.2222222222222222,\"#7201a8\"],[0.3333333333333333,\"#9c179e\"],[0.4444444444444444,\"#bd3786\"],[0.5555555555555556,\"#d8576b\"],[0.6666666666666666,\"#ed7953\"],[0.7777777777777778,\"#fb9f3a\"],[0.8888888888888888,\"#fdca26\"],[1.0,\"#f0f921\"]]}],\"mesh3d\":[{\"type\":\"mesh3d\",\"colorbar\":{\"outlinewidth\":0,\"ticks\":\"\"}}],\"scatter\":[{\"fillpattern\":{\"fillmode\":\"overlay\",\"size\":10,\"solidity\":0.2},\"type\":\"scatter\"}],\"parcoords\":[{\"type\":\"parcoords\",\"line\":{\"colorbar\":{\"outlinewidth\":0,\"ticks\":\"\"}}}],\"scatterpolargl\":[{\"type\":\"scatterpolargl\",\"marker\":{\"colorbar\":{\"outlinewidth\":0,\"ticks\":\"\"}}}],\"bar\":[{\"error_x\":{\"color\":\"#2a3f5f\"},\"error_y\":{\"color\":\"#2a3f5f\"},\"marker\":{\"line\":{\"color\":\"#E5ECF6\",\"width\":0.5},\"pattern\":{\"fillmode\":\"overlay\",\"size\":10,\"solidity\":0.2}},\"type\":\"bar\"}],\"scattergeo\":[{\"type\":\"scattergeo\",\"marker\":{\"colorbar\":{\"outlinewidth\":0,\"ticks\":\"\"}}}],\"scatterpolar\":[{\"type\":\"scatterpolar\",\"marker\":{\"colorbar\":{\"outlinewidth\":0,\"ticks\":\"\"}}}],\"histogram\":[{\"marker\":{\"pattern\":{\"fillmode\":\"overlay\",\"size\":10,\"solidity\":0.2}},\"type\":\"histogram\"}],\"scattergl\":[{\"type\":\"scattergl\",\"marker\":{\"colorbar\":{\"outlinewidth\":0,\"ticks\":\"\"}}}],\"scatter3d\":[{\"type\":\"scatter3d\",\"line\":{\"colorbar\":{\"outlinewidth\":0,\"ticks\":\"\"}},\"marker\":{\"colorbar\":{\"outlinewidth\":0,\"ticks\":\"\"}}}],\"scattermapbox\":[{\"type\":\"scattermapbox\",\"marker\":{\"colorbar\":{\"outlinewidth\":0,\"ticks\":\"\"}}}],\"scatterternary\":[{\"type\":\"scatterternary\",\"marker\":{\"colorbar\":{\"outlinewidth\":0,\"ticks\":\"\"}}}],\"scattercarpet\":[{\"type\":\"scattercarpet\",\"marker\":{\"colorbar\":{\"outlinewidth\":0,\"ticks\":\"\"}}}],\"carpet\":[{\"aaxis\":{\"endlinecolor\":\"#2a3f5f\",\"gridcolor\":\"white\",\"linecolor\":\"white\",\"minorgridcolor\":\"white\",\"startlinecolor\":\"#2a3f5f\"},\"baxis\":{\"endlinecolor\":\"#2a3f5f\",\"gridcolor\":\"white\",\"linecolor\":\"white\",\"minorgridcolor\":\"white\",\"startlinecolor\":\"#2a3f5f\"},\"type\":\"carpet\"}],\"table\":[{\"cells\":{\"fill\":{\"color\":\"#EBF0F8\"},\"line\":{\"color\":\"white\"}},\"header\":{\"fill\":{\"color\":\"#C8D4E3\"},\"line\":{\"color\":\"white\"}},\"type\":\"table\"}],\"barpolar\":[{\"marker\":{\"line\":{\"color\":\"#E5ECF6\",\"width\":0.5},\"pattern\":{\"fillmode\":\"overlay\",\"size\":10,\"solidity\":0.2}},\"type\":\"barpolar\"}],\"pie\":[{\"automargin\":true,\"type\":\"pie\"}]},\"layout\":{\"autotypenumbers\":\"strict\",\"colorway\":[\"#636efa\",\"#EF553B\",\"#00cc96\",\"#ab63fa\",\"#FFA15A\",\"#19d3f3\",\"#FF6692\",\"#B6E880\",\"#FF97FF\",\"#FECB52\"],\"font\":{\"color\":\"#2a3f5f\"},\"hovermode\":\"closest\",\"hoverlabel\":{\"align\":\"left\"},\"paper_bgcolor\":\"white\",\"plot_bgcolor\":\"#E5ECF6\",\"polar\":{\"bgcolor\":\"#E5ECF6\",\"angularaxis\":{\"gridcolor\":\"white\",\"linecolor\":\"white\",\"ticks\":\"\"},\"radialaxis\":{\"gridcolor\":\"white\",\"linecolor\":\"white\",\"ticks\":\"\"}},\"ternary\":{\"bgcolor\":\"#E5ECF6\",\"aaxis\":{\"gridcolor\":\"white\",\"linecolor\":\"white\",\"ticks\":\"\"},\"baxis\":{\"gridcolor\":\"white\",\"linecolor\":\"white\",\"ticks\":\"\"},\"caxis\":{\"gridcolor\":\"white\",\"linecolor\":\"white\",\"ticks\":\"\"}},\"coloraxis\":{\"colorbar\":{\"outlinewidth\":0,\"ticks\":\"\"}},\"colorscale\":{\"sequential\":[[0.0,\"#0d0887\"],[0.1111111111111111,\"#46039f\"],[0.2222222222222222,\"#7201a8\"],[0.3333333333333333,\"#9c179e\"],[0.4444444444444444,\"#bd3786\"],[0.5555555555555556,\"#d8576b\"],[0.6666666666666666,\"#ed7953\"],[0.7777777777777778,\"#fb9f3a\"],[0.8888888888888888,\"#fdca26\"],[1.0,\"#f0f921\"]],\"sequentialminus\":[[0.0,\"#0d0887\"],[0.1111111111111111,\"#46039f\"],[0.2222222222222222,\"#7201a8\"],[0.3333333333333333,\"#9c179e\"],[0.4444444444444444,\"#bd3786\"],[0.5555555555555556,\"#d8576b\"],[0.6666666666666666,\"#ed7953\"],[0.7777777777777778,\"#fb9f3a\"],[0.8888888888888888,\"#fdca26\"],[1.0,\"#f0f921\"]],\"diverging\":[[0,\"#8e0152\"],[0.1,\"#c51b7d\"],[0.2,\"#de77ae\"],[0.3,\"#f1b6da\"],[0.4,\"#fde0ef\"],[0.5,\"#f7f7f7\"],[0.6,\"#e6f5d0\"],[0.7,\"#b8e186\"],[0.8,\"#7fbc41\"],[0.9,\"#4d9221\"],[1,\"#276419\"]]},\"xaxis\":{\"gridcolor\":\"white\",\"linecolor\":\"white\",\"ticks\":\"\",\"title\":{\"standoff\":15},\"zerolinecolor\":\"white\",\"automargin\":true,\"zerolinewidth\":2},\"yaxis\":{\"gridcolor\":\"white\",\"linecolor\":\"white\",\"ticks\":\"\",\"title\":{\"standoff\":15},\"zerolinecolor\":\"white\",\"automargin\":true,\"zerolinewidth\":2},\"scene\":{\"xaxis\":{\"backgroundcolor\":\"#E5ECF6\",\"gridcolor\":\"white\",\"linecolor\":\"white\",\"showbackground\":true,\"ticks\":\"\",\"zerolinecolor\":\"white\",\"gridwidth\":2},\"yaxis\":{\"backgroundcolor\":\"#E5ECF6\",\"gridcolor\":\"white\",\"linecolor\":\"white\",\"showbackground\":true,\"ticks\":\"\",\"zerolinecolor\":\"white\",\"gridwidth\":2},\"zaxis\":{\"backgroundcolor\":\"#E5ECF6\",\"gridcolor\":\"white\",\"linecolor\":\"white\",\"showbackground\":true,\"ticks\":\"\",\"zerolinecolor\":\"white\",\"gridwidth\":2}},\"shapedefaults\":{\"line\":{\"color\":\"#2a3f5f\"}},\"annotationdefaults\":{\"arrowcolor\":\"#2a3f5f\",\"arrowhead\":0,\"arrowwidth\":1},\"geo\":{\"bgcolor\":\"white\",\"landcolor\":\"#E5ECF6\",\"subunitcolor\":\"white\",\"showland\":true,\"showlakes\":true,\"lakecolor\":\"white\"},\"title\":{\"x\":0.05},\"mapbox\":{\"style\":\"light\"}}},\"xaxis\":{\"anchor\":\"y\",\"domain\":[0.0,1.0],\"title\":{\"text\":\"height\"}},\"yaxis\":{\"anchor\":\"x\",\"domain\":[0.0,1.0],\"title\":{\"text\":\"count\"}},\"legend\":{\"tracegroupgap\":0},\"title\":{\"text\":\"\\u0420\\u0430\\u0441\\u043f\\u0440\\u0435\\u0434\\u0435\\u043b\\u0435\\u043d\\u0438\\u0435 \\u0444\\u0443\\u0442\\u0431\\u043e\\u043b\\u0438\\u0441\\u0442\\u043e\\u0432 \\u043f\\u043e \\u0440\\u043e\\u0441\\u0442\\u0443\"},\"barmode\":\"relative\",\"width\":800},                        {\"responsive\": true}                    ).then(function(){\n",
              "                            \n",
              "var gd = document.getElementById('88b3a919-8a29-46f7-86d5-5340a72df8dc');\n",
              "var x = new MutationObserver(function (mutations, observer) {{\n",
              "        var display = window.getComputedStyle(gd).display;\n",
              "        if (!display || display === 'none') {{\n",
              "            console.log([gd, 'removed!']);\n",
              "            Plotly.purge(gd);\n",
              "            observer.disconnect();\n",
              "        }}\n",
              "}});\n",
              "\n",
              "// Listen for the removal of the full notebook cells\n",
              "var notebookContainer = gd.closest('#notebook-container');\n",
              "if (notebookContainer) {{\n",
              "    x.observe(notebookContainer, {childList: true});\n",
              "}}\n",
              "\n",
              "// Listen for the clearing of the current output cell\n",
              "var outputEl = gd.closest('.output');\n",
              "if (outputEl) {{\n",
              "    x.observe(outputEl, {childList: true});\n",
              "}}\n",
              "\n",
              "                        })                };                            </script>        </div>\n",
              "</body>\n",
              "</html>"
            ]
          },
          "metadata": {}
        }
      ]
    },
    {
      "cell_type": "markdown",
      "source": [
        "Распределение также близко к нормальному."
      ],
      "metadata": {
        "id": "rNhAyVz50OAe"
      }
    },
    {
      "cell_type": "markdown",
      "source": [
        "#### *nation*"
      ],
      "metadata": {
        "id": "7WMT1D0GVhh9"
      }
    },
    {
      "cell_type": "markdown",
      "source": [
        "Посмотрим на распределение по национальностям."
      ],
      "metadata": {
        "id": "LOOCgCoPVes9"
      }
    },
    {
      "cell_type": "code",
      "source": [
        "print(\"Количество разных национальностей:\", df.nation.nunique())"
      ],
      "metadata": {
        "colab": {
          "base_uri": "https://localhost:8080/"
        },
        "id": "swZq-vUSN9eW",
        "outputId": "ce19449a-46e6-4ed5-91f2-7ba22da0eb87"
      },
      "execution_count": null,
      "outputs": [
        {
          "output_type": "stream",
          "name": "stdout",
          "text": [
            "Количество разных национальностей: 60\n"
          ]
        }
      ]
    },
    {
      "cell_type": "code",
      "source": [
        "nations_count = df.nation.value_counts(normalize=True)\\\n",
        "  .sort_values(ascending=False)\n",
        "top_nations = nations_count[:6]\n",
        "others_count = nations_count[6:].sum()\n",
        "\n",
        "pie_data = pd.concat([top_nations, pd.Series({\"Others\": others_count})])\n",
        "\n",
        "fig = px.pie(pie_data,\n",
        "             values=pie_data.values,\n",
        "             names=pie_data.index,\n",
        "             title=\"Распределение по национальностям\",\n",
        "             width=800)\n",
        "fig.show()"
      ],
      "metadata": {
        "colab": {
          "base_uri": "https://localhost:8080/",
          "height": 542
        },
        "id": "TNqX9uVZOGx2",
        "outputId": "69babe19-4549-4e4b-eab5-737621e2fc3e"
      },
      "execution_count": null,
      "outputs": [
        {
          "output_type": "display_data",
          "data": {
            "text/html": [
              "<html>\n",
              "<head><meta charset=\"utf-8\" /></head>\n",
              "<body>\n",
              "    <div>            <script src=\"https://cdnjs.cloudflare.com/ajax/libs/mathjax/2.7.5/MathJax.js?config=TeX-AMS-MML_SVG\"></script><script type=\"text/javascript\">if (window.MathJax && window.MathJax.Hub && window.MathJax.Hub.Config) {window.MathJax.Hub.Config({SVG: {font: \"STIX-Web\"}});}</script>                <script type=\"text/javascript\">window.PlotlyConfig = {MathJaxConfig: 'local'};</script>\n",
              "        <script src=\"https://cdn.plot.ly/plotly-2.18.2.min.js\"></script>                <div id=\"ff4f4e54-efaf-4369-9821-64c12ecad814\" class=\"plotly-graph-div\" style=\"height:525px; width:800px;\"></div>            <script type=\"text/javascript\">                                    window.PLOTLYENV=window.PLOTLYENV || {};                                    if (document.getElementById(\"ff4f4e54-efaf-4369-9821-64c12ecad814\")) {                    Plotly.newPlot(                        \"ff4f4e54-efaf-4369-9821-64c12ecad814\",                        [{\"domain\":{\"x\":[0.0,1.0],\"y\":[0.0,1.0]},\"hovertemplate\":\"index=%{label}<br>value=%{value}<extra></extra>\",\"labels\":[\"England\",\"Brazil\",\"France\",\"Portugal\",\"Spain\",\"Scotland\",\"Others\"],\"legendgroup\":\"\",\"name\":\"\",\"showlegend\":true,\"values\":[0.32661290322580644,0.06451612903225806,0.05241935483870968,0.04233870967741935,0.04032258064516129,0.036290322580645164,0.4375],\"type\":\"pie\"}],                        {\"template\":{\"data\":{\"histogram2dcontour\":[{\"type\":\"histogram2dcontour\",\"colorbar\":{\"outlinewidth\":0,\"ticks\":\"\"},\"colorscale\":[[0.0,\"#0d0887\"],[0.1111111111111111,\"#46039f\"],[0.2222222222222222,\"#7201a8\"],[0.3333333333333333,\"#9c179e\"],[0.4444444444444444,\"#bd3786\"],[0.5555555555555556,\"#d8576b\"],[0.6666666666666666,\"#ed7953\"],[0.7777777777777778,\"#fb9f3a\"],[0.8888888888888888,\"#fdca26\"],[1.0,\"#f0f921\"]]}],\"choropleth\":[{\"type\":\"choropleth\",\"colorbar\":{\"outlinewidth\":0,\"ticks\":\"\"}}],\"histogram2d\":[{\"type\":\"histogram2d\",\"colorbar\":{\"outlinewidth\":0,\"ticks\":\"\"},\"colorscale\":[[0.0,\"#0d0887\"],[0.1111111111111111,\"#46039f\"],[0.2222222222222222,\"#7201a8\"],[0.3333333333333333,\"#9c179e\"],[0.4444444444444444,\"#bd3786\"],[0.5555555555555556,\"#d8576b\"],[0.6666666666666666,\"#ed7953\"],[0.7777777777777778,\"#fb9f3a\"],[0.8888888888888888,\"#fdca26\"],[1.0,\"#f0f921\"]]}],\"heatmap\":[{\"type\":\"heatmap\",\"colorbar\":{\"outlinewidth\":0,\"ticks\":\"\"},\"colorscale\":[[0.0,\"#0d0887\"],[0.1111111111111111,\"#46039f\"],[0.2222222222222222,\"#7201a8\"],[0.3333333333333333,\"#9c179e\"],[0.4444444444444444,\"#bd3786\"],[0.5555555555555556,\"#d8576b\"],[0.6666666666666666,\"#ed7953\"],[0.7777777777777778,\"#fb9f3a\"],[0.8888888888888888,\"#fdca26\"],[1.0,\"#f0f921\"]]}],\"heatmapgl\":[{\"type\":\"heatmapgl\",\"colorbar\":{\"outlinewidth\":0,\"ticks\":\"\"},\"colorscale\":[[0.0,\"#0d0887\"],[0.1111111111111111,\"#46039f\"],[0.2222222222222222,\"#7201a8\"],[0.3333333333333333,\"#9c179e\"],[0.4444444444444444,\"#bd3786\"],[0.5555555555555556,\"#d8576b\"],[0.6666666666666666,\"#ed7953\"],[0.7777777777777778,\"#fb9f3a\"],[0.8888888888888888,\"#fdca26\"],[1.0,\"#f0f921\"]]}],\"contourcarpet\":[{\"type\":\"contourcarpet\",\"colorbar\":{\"outlinewidth\":0,\"ticks\":\"\"}}],\"contour\":[{\"type\":\"contour\",\"colorbar\":{\"outlinewidth\":0,\"ticks\":\"\"},\"colorscale\":[[0.0,\"#0d0887\"],[0.1111111111111111,\"#46039f\"],[0.2222222222222222,\"#7201a8\"],[0.3333333333333333,\"#9c179e\"],[0.4444444444444444,\"#bd3786\"],[0.5555555555555556,\"#d8576b\"],[0.6666666666666666,\"#ed7953\"],[0.7777777777777778,\"#fb9f3a\"],[0.8888888888888888,\"#fdca26\"],[1.0,\"#f0f921\"]]}],\"surface\":[{\"type\":\"surface\",\"colorbar\":{\"outlinewidth\":0,\"ticks\":\"\"},\"colorscale\":[[0.0,\"#0d0887\"],[0.1111111111111111,\"#46039f\"],[0.2222222222222222,\"#7201a8\"],[0.3333333333333333,\"#9c179e\"],[0.4444444444444444,\"#bd3786\"],[0.5555555555555556,\"#d8576b\"],[0.6666666666666666,\"#ed7953\"],[0.7777777777777778,\"#fb9f3a\"],[0.8888888888888888,\"#fdca26\"],[1.0,\"#f0f921\"]]}],\"mesh3d\":[{\"type\":\"mesh3d\",\"colorbar\":{\"outlinewidth\":0,\"ticks\":\"\"}}],\"scatter\":[{\"fillpattern\":{\"fillmode\":\"overlay\",\"size\":10,\"solidity\":0.2},\"type\":\"scatter\"}],\"parcoords\":[{\"type\":\"parcoords\",\"line\":{\"colorbar\":{\"outlinewidth\":0,\"ticks\":\"\"}}}],\"scatterpolargl\":[{\"type\":\"scatterpolargl\",\"marker\":{\"colorbar\":{\"outlinewidth\":0,\"ticks\":\"\"}}}],\"bar\":[{\"error_x\":{\"color\":\"#2a3f5f\"},\"error_y\":{\"color\":\"#2a3f5f\"},\"marker\":{\"line\":{\"color\":\"#E5ECF6\",\"width\":0.5},\"pattern\":{\"fillmode\":\"overlay\",\"size\":10,\"solidity\":0.2}},\"type\":\"bar\"}],\"scattergeo\":[{\"type\":\"scattergeo\",\"marker\":{\"colorbar\":{\"outlinewidth\":0,\"ticks\":\"\"}}}],\"scatterpolar\":[{\"type\":\"scatterpolar\",\"marker\":{\"colorbar\":{\"outlinewidth\":0,\"ticks\":\"\"}}}],\"histogram\":[{\"marker\":{\"pattern\":{\"fillmode\":\"overlay\",\"size\":10,\"solidity\":0.2}},\"type\":\"histogram\"}],\"scattergl\":[{\"type\":\"scattergl\",\"marker\":{\"colorbar\":{\"outlinewidth\":0,\"ticks\":\"\"}}}],\"scatter3d\":[{\"type\":\"scatter3d\",\"line\":{\"colorbar\":{\"outlinewidth\":0,\"ticks\":\"\"}},\"marker\":{\"colorbar\":{\"outlinewidth\":0,\"ticks\":\"\"}}}],\"scattermapbox\":[{\"type\":\"scattermapbox\",\"marker\":{\"colorbar\":{\"outlinewidth\":0,\"ticks\":\"\"}}}],\"scatterternary\":[{\"type\":\"scatterternary\",\"marker\":{\"colorbar\":{\"outlinewidth\":0,\"ticks\":\"\"}}}],\"scattercarpet\":[{\"type\":\"scattercarpet\",\"marker\":{\"colorbar\":{\"outlinewidth\":0,\"ticks\":\"\"}}}],\"carpet\":[{\"aaxis\":{\"endlinecolor\":\"#2a3f5f\",\"gridcolor\":\"white\",\"linecolor\":\"white\",\"minorgridcolor\":\"white\",\"startlinecolor\":\"#2a3f5f\"},\"baxis\":{\"endlinecolor\":\"#2a3f5f\",\"gridcolor\":\"white\",\"linecolor\":\"white\",\"minorgridcolor\":\"white\",\"startlinecolor\":\"#2a3f5f\"},\"type\":\"carpet\"}],\"table\":[{\"cells\":{\"fill\":{\"color\":\"#EBF0F8\"},\"line\":{\"color\":\"white\"}},\"header\":{\"fill\":{\"color\":\"#C8D4E3\"},\"line\":{\"color\":\"white\"}},\"type\":\"table\"}],\"barpolar\":[{\"marker\":{\"line\":{\"color\":\"#E5ECF6\",\"width\":0.5},\"pattern\":{\"fillmode\":\"overlay\",\"size\":10,\"solidity\":0.2}},\"type\":\"barpolar\"}],\"pie\":[{\"automargin\":true,\"type\":\"pie\"}]},\"layout\":{\"autotypenumbers\":\"strict\",\"colorway\":[\"#636efa\",\"#EF553B\",\"#00cc96\",\"#ab63fa\",\"#FFA15A\",\"#19d3f3\",\"#FF6692\",\"#B6E880\",\"#FF97FF\",\"#FECB52\"],\"font\":{\"color\":\"#2a3f5f\"},\"hovermode\":\"closest\",\"hoverlabel\":{\"align\":\"left\"},\"paper_bgcolor\":\"white\",\"plot_bgcolor\":\"#E5ECF6\",\"polar\":{\"bgcolor\":\"#E5ECF6\",\"angularaxis\":{\"gridcolor\":\"white\",\"linecolor\":\"white\",\"ticks\":\"\"},\"radialaxis\":{\"gridcolor\":\"white\",\"linecolor\":\"white\",\"ticks\":\"\"}},\"ternary\":{\"bgcolor\":\"#E5ECF6\",\"aaxis\":{\"gridcolor\":\"white\",\"linecolor\":\"white\",\"ticks\":\"\"},\"baxis\":{\"gridcolor\":\"white\",\"linecolor\":\"white\",\"ticks\":\"\"},\"caxis\":{\"gridcolor\":\"white\",\"linecolor\":\"white\",\"ticks\":\"\"}},\"coloraxis\":{\"colorbar\":{\"outlinewidth\":0,\"ticks\":\"\"}},\"colorscale\":{\"sequential\":[[0.0,\"#0d0887\"],[0.1111111111111111,\"#46039f\"],[0.2222222222222222,\"#7201a8\"],[0.3333333333333333,\"#9c179e\"],[0.4444444444444444,\"#bd3786\"],[0.5555555555555556,\"#d8576b\"],[0.6666666666666666,\"#ed7953\"],[0.7777777777777778,\"#fb9f3a\"],[0.8888888888888888,\"#fdca26\"],[1.0,\"#f0f921\"]],\"sequentialminus\":[[0.0,\"#0d0887\"],[0.1111111111111111,\"#46039f\"],[0.2222222222222222,\"#7201a8\"],[0.3333333333333333,\"#9c179e\"],[0.4444444444444444,\"#bd3786\"],[0.5555555555555556,\"#d8576b\"],[0.6666666666666666,\"#ed7953\"],[0.7777777777777778,\"#fb9f3a\"],[0.8888888888888888,\"#fdca26\"],[1.0,\"#f0f921\"]],\"diverging\":[[0,\"#8e0152\"],[0.1,\"#c51b7d\"],[0.2,\"#de77ae\"],[0.3,\"#f1b6da\"],[0.4,\"#fde0ef\"],[0.5,\"#f7f7f7\"],[0.6,\"#e6f5d0\"],[0.7,\"#b8e186\"],[0.8,\"#7fbc41\"],[0.9,\"#4d9221\"],[1,\"#276419\"]]},\"xaxis\":{\"gridcolor\":\"white\",\"linecolor\":\"white\",\"ticks\":\"\",\"title\":{\"standoff\":15},\"zerolinecolor\":\"white\",\"automargin\":true,\"zerolinewidth\":2},\"yaxis\":{\"gridcolor\":\"white\",\"linecolor\":\"white\",\"ticks\":\"\",\"title\":{\"standoff\":15},\"zerolinecolor\":\"white\",\"automargin\":true,\"zerolinewidth\":2},\"scene\":{\"xaxis\":{\"backgroundcolor\":\"#E5ECF6\",\"gridcolor\":\"white\",\"linecolor\":\"white\",\"showbackground\":true,\"ticks\":\"\",\"zerolinecolor\":\"white\",\"gridwidth\":2},\"yaxis\":{\"backgroundcolor\":\"#E5ECF6\",\"gridcolor\":\"white\",\"linecolor\":\"white\",\"showbackground\":true,\"ticks\":\"\",\"zerolinecolor\":\"white\",\"gridwidth\":2},\"zaxis\":{\"backgroundcolor\":\"#E5ECF6\",\"gridcolor\":\"white\",\"linecolor\":\"white\",\"showbackground\":true,\"ticks\":\"\",\"zerolinecolor\":\"white\",\"gridwidth\":2}},\"shapedefaults\":{\"line\":{\"color\":\"#2a3f5f\"}},\"annotationdefaults\":{\"arrowcolor\":\"#2a3f5f\",\"arrowhead\":0,\"arrowwidth\":1},\"geo\":{\"bgcolor\":\"white\",\"landcolor\":\"#E5ECF6\",\"subunitcolor\":\"white\",\"showland\":true,\"showlakes\":true,\"lakecolor\":\"white\"},\"title\":{\"x\":0.05},\"mapbox\":{\"style\":\"light\"}}},\"legend\":{\"tracegroupgap\":0},\"title\":{\"text\":\"\\u0420\\u0430\\u0441\\u043f\\u0440\\u0435\\u0434\\u0435\\u043b\\u0435\\u043d\\u0438\\u0435 \\u043f\\u043e \\u043d\\u0430\\u0446\\u0438\\u043e\\u043d\\u0430\\u043b\\u044c\\u043d\\u043e\\u0441\\u0442\\u044f\\u043c\"},\"width\":800},                        {\"responsive\": true}                    ).then(function(){\n",
              "                            \n",
              "var gd = document.getElementById('ff4f4e54-efaf-4369-9821-64c12ecad814');\n",
              "var x = new MutationObserver(function (mutations, observer) {{\n",
              "        var display = window.getComputedStyle(gd).display;\n",
              "        if (!display || display === 'none') {{\n",
              "            console.log([gd, 'removed!']);\n",
              "            Plotly.purge(gd);\n",
              "            observer.disconnect();\n",
              "        }}\n",
              "}});\n",
              "\n",
              "// Listen for the removal of the full notebook cells\n",
              "var notebookContainer = gd.closest('#notebook-container');\n",
              "if (notebookContainer) {{\n",
              "    x.observe(notebookContainer, {childList: true});\n",
              "}}\n",
              "\n",
              "// Listen for the clearing of the current output cell\n",
              "var outputEl = gd.closest('.output');\n",
              "if (outputEl) {{\n",
              "    x.observe(outputEl, {childList: true});\n",
              "}}\n",
              "\n",
              "                        })                };                            </script>        </div>\n",
              "</body>\n",
              "</html>"
            ]
          },
          "metadata": {}
        }
      ]
    },
    {
      "cell_type": "markdown",
      "source": [
        "Преобладают футболисты из Англии, что логично, учитывая то, что мы рассматриваем статистику Английской Премьер-Лиги. Однако также довольно много представителей Бразилии, Франции, Португалии."
      ],
      "metadata": {
        "id": "BaRLf9aHirwa"
      }
    },
    {
      "cell_type": "markdown",
      "source": [
        "#### *games*"
      ],
      "metadata": {
        "id": "8tujHLwpVqCw"
      }
    },
    {
      "cell_type": "markdown",
      "source": [
        "Смотрим распределение по количеству игр."
      ],
      "metadata": {
        "id": "x8AfTETcQJUd"
      }
    },
    {
      "cell_type": "code",
      "source": [
        "fig = px.histogram(df, x=\"games\", width=800,\n",
        "                   title=\"Распределение по кол-ву сыгранных игр\",\n",
        "                   nbins=39)\n",
        "fig.show()"
      ],
      "metadata": {
        "colab": {
          "base_uri": "https://localhost:8080/",
          "height": 542
        },
        "id": "O2coeCKlQN1_",
        "outputId": "c4ac1576-e172-4795-db30-f883b80faf49"
      },
      "execution_count": null,
      "outputs": [
        {
          "output_type": "display_data",
          "data": {
            "text/html": [
              "<html>\n",
              "<head><meta charset=\"utf-8\" /></head>\n",
              "<body>\n",
              "    <div>            <script src=\"https://cdnjs.cloudflare.com/ajax/libs/mathjax/2.7.5/MathJax.js?config=TeX-AMS-MML_SVG\"></script><script type=\"text/javascript\">if (window.MathJax && window.MathJax.Hub && window.MathJax.Hub.Config) {window.MathJax.Hub.Config({SVG: {font: \"STIX-Web\"}});}</script>                <script type=\"text/javascript\">window.PlotlyConfig = {MathJaxConfig: 'local'};</script>\n",
              "        <script src=\"https://cdn.plot.ly/plotly-2.18.2.min.js\"></script>                <div id=\"3eeee730-3067-4e7c-bf23-08effd124654\" class=\"plotly-graph-div\" style=\"height:525px; width:800px;\"></div>            <script type=\"text/javascript\">                                    window.PLOTLYENV=window.PLOTLYENV || {};                                    if (document.getElementById(\"3eeee730-3067-4e7c-bf23-08effd124654\")) {                    Plotly.newPlot(                        \"3eeee730-3067-4e7c-bf23-08effd124654\",                        [{\"alignmentgroup\":\"True\",\"bingroup\":\"x\",\"hovertemplate\":\"games=%{x}<br>count=%{y}<extra></extra>\",\"legendgroup\":\"\",\"marker\":{\"color\":\"#636efa\",\"pattern\":{\"shape\":\"\"}},\"name\":\"\",\"nbinsx\":39,\"offsetgroup\":\"\",\"orientation\":\"v\",\"showlegend\":false,\"x\":[26,26,23,12,29,12,27,14,36,12,1,31,32,34,14,32,28,30,35,31,15,11,23,25,27,24,23,9,0,16,25,18,7,7,27,35,25,14,24,35,15,28,24,12,18,16,12,3,15,27,38,7,0,14,27,27,38,21,33,14,5,37,9,22,37,12,22,36,20,38,1,11,26,30,32,18,21,14,2,0,34,20,37,0,36,11,18,8,18,0,35,9,31,32,13,17,21,22,38,29,25,27,24,16,20,0,0,0,31,22,0,0,26,19,28,24,28,11,35,7,0,1,37,0,35,26,16,19,25,0,0,4,21,17,27,33,18,26,4,31,15,26,23,35,18,23,11,17,34,36,9,30,15,38,27,36,36,7,0,0,17,38,2,0,38,1,4,0,32,0,35,33,0,0,7,32,22,16,25,8,34,36,0,22,31,3,35,38,14,0,19,28,26,29,24,20,0,37,35,34,0,33,20,0,38,8,37,6,12,0,18,25,27,16,22,28,17,27,37,36,1,21,28,32,10,35,14,38,16,17,33,31,7,12,20,0,13,12,17,0,37,14,10,27,26,0,19,31,31,22,6,30,34,13,30,28,37,0,24,22,13,20,15,21,29,5,31,2,5,29,18,38,18,32,0,21,18,33,16,1,17,0,20,28,11,30,22,0,37,26,17,17,21,18,21,36,0,35,19,10,6,34,11,0,31,32,0,18,13,34,17,1,27,15,23,36,16,0,18,0,29,19,26,1,29,0,24,32,19,0,12,36,18,36,19,24,20,28,0,11,28,31,15,0,38,24,13,8,7,12,34,2,19,23,33,16,25,19,33,38,33,36,0,17,27,11,27,36,8,0,35,20,31,37,35,0,14,37,3,0,13,9,16,33,33,20,19,31,22,0,9,30,12,37,18,0,37,26,20,0,35,22,37,36,21,23,15,38,10,26,0,38,18,33,1,14,20,30,11,0,12,16,28,0,19,31,2,24,13,21,11,27,28,26,8,0,1,35,38,17,6,13,1,0,27,19,7,20,0,37,32,9,0,6,36,22,28,34,6,18,8,27,4,34,38,27,37,3,35,29,38,0,25,25,5,33,35,3,31,6,0,35,37,12,33,1,33,36,19,17,27,29,0,24,0,28],\"xaxis\":\"x\",\"yaxis\":\"y\",\"type\":\"histogram\"}],                        {\"template\":{\"data\":{\"histogram2dcontour\":[{\"type\":\"histogram2dcontour\",\"colorbar\":{\"outlinewidth\":0,\"ticks\":\"\"},\"colorscale\":[[0.0,\"#0d0887\"],[0.1111111111111111,\"#46039f\"],[0.2222222222222222,\"#7201a8\"],[0.3333333333333333,\"#9c179e\"],[0.4444444444444444,\"#bd3786\"],[0.5555555555555556,\"#d8576b\"],[0.6666666666666666,\"#ed7953\"],[0.7777777777777778,\"#fb9f3a\"],[0.8888888888888888,\"#fdca26\"],[1.0,\"#f0f921\"]]}],\"choropleth\":[{\"type\":\"choropleth\",\"colorbar\":{\"outlinewidth\":0,\"ticks\":\"\"}}],\"histogram2d\":[{\"type\":\"histogram2d\",\"colorbar\":{\"outlinewidth\":0,\"ticks\":\"\"},\"colorscale\":[[0.0,\"#0d0887\"],[0.1111111111111111,\"#46039f\"],[0.2222222222222222,\"#7201a8\"],[0.3333333333333333,\"#9c179e\"],[0.4444444444444444,\"#bd3786\"],[0.5555555555555556,\"#d8576b\"],[0.6666666666666666,\"#ed7953\"],[0.7777777777777778,\"#fb9f3a\"],[0.8888888888888888,\"#fdca26\"],[1.0,\"#f0f921\"]]}],\"heatmap\":[{\"type\":\"heatmap\",\"colorbar\":{\"outlinewidth\":0,\"ticks\":\"\"},\"colorscale\":[[0.0,\"#0d0887\"],[0.1111111111111111,\"#46039f\"],[0.2222222222222222,\"#7201a8\"],[0.3333333333333333,\"#9c179e\"],[0.4444444444444444,\"#bd3786\"],[0.5555555555555556,\"#d8576b\"],[0.6666666666666666,\"#ed7953\"],[0.7777777777777778,\"#fb9f3a\"],[0.8888888888888888,\"#fdca26\"],[1.0,\"#f0f921\"]]}],\"heatmapgl\":[{\"type\":\"heatmapgl\",\"colorbar\":{\"outlinewidth\":0,\"ticks\":\"\"},\"colorscale\":[[0.0,\"#0d0887\"],[0.1111111111111111,\"#46039f\"],[0.2222222222222222,\"#7201a8\"],[0.3333333333333333,\"#9c179e\"],[0.4444444444444444,\"#bd3786\"],[0.5555555555555556,\"#d8576b\"],[0.6666666666666666,\"#ed7953\"],[0.7777777777777778,\"#fb9f3a\"],[0.8888888888888888,\"#fdca26\"],[1.0,\"#f0f921\"]]}],\"contourcarpet\":[{\"type\":\"contourcarpet\",\"colorbar\":{\"outlinewidth\":0,\"ticks\":\"\"}}],\"contour\":[{\"type\":\"contour\",\"colorbar\":{\"outlinewidth\":0,\"ticks\":\"\"},\"colorscale\":[[0.0,\"#0d0887\"],[0.1111111111111111,\"#46039f\"],[0.2222222222222222,\"#7201a8\"],[0.3333333333333333,\"#9c179e\"],[0.4444444444444444,\"#bd3786\"],[0.5555555555555556,\"#d8576b\"],[0.6666666666666666,\"#ed7953\"],[0.7777777777777778,\"#fb9f3a\"],[0.8888888888888888,\"#fdca26\"],[1.0,\"#f0f921\"]]}],\"surface\":[{\"type\":\"surface\",\"colorbar\":{\"outlinewidth\":0,\"ticks\":\"\"},\"colorscale\":[[0.0,\"#0d0887\"],[0.1111111111111111,\"#46039f\"],[0.2222222222222222,\"#7201a8\"],[0.3333333333333333,\"#9c179e\"],[0.4444444444444444,\"#bd3786\"],[0.5555555555555556,\"#d8576b\"],[0.6666666666666666,\"#ed7953\"],[0.7777777777777778,\"#fb9f3a\"],[0.8888888888888888,\"#fdca26\"],[1.0,\"#f0f921\"]]}],\"mesh3d\":[{\"type\":\"mesh3d\",\"colorbar\":{\"outlinewidth\":0,\"ticks\":\"\"}}],\"scatter\":[{\"fillpattern\":{\"fillmode\":\"overlay\",\"size\":10,\"solidity\":0.2},\"type\":\"scatter\"}],\"parcoords\":[{\"type\":\"parcoords\",\"line\":{\"colorbar\":{\"outlinewidth\":0,\"ticks\":\"\"}}}],\"scatterpolargl\":[{\"type\":\"scatterpolargl\",\"marker\":{\"colorbar\":{\"outlinewidth\":0,\"ticks\":\"\"}}}],\"bar\":[{\"error_x\":{\"color\":\"#2a3f5f\"},\"error_y\":{\"color\":\"#2a3f5f\"},\"marker\":{\"line\":{\"color\":\"#E5ECF6\",\"width\":0.5},\"pattern\":{\"fillmode\":\"overlay\",\"size\":10,\"solidity\":0.2}},\"type\":\"bar\"}],\"scattergeo\":[{\"type\":\"scattergeo\",\"marker\":{\"colorbar\":{\"outlinewidth\":0,\"ticks\":\"\"}}}],\"scatterpolar\":[{\"type\":\"scatterpolar\",\"marker\":{\"colorbar\":{\"outlinewidth\":0,\"ticks\":\"\"}}}],\"histogram\":[{\"marker\":{\"pattern\":{\"fillmode\":\"overlay\",\"size\":10,\"solidity\":0.2}},\"type\":\"histogram\"}],\"scattergl\":[{\"type\":\"scattergl\",\"marker\":{\"colorbar\":{\"outlinewidth\":0,\"ticks\":\"\"}}}],\"scatter3d\":[{\"type\":\"scatter3d\",\"line\":{\"colorbar\":{\"outlinewidth\":0,\"ticks\":\"\"}},\"marker\":{\"colorbar\":{\"outlinewidth\":0,\"ticks\":\"\"}}}],\"scattermapbox\":[{\"type\":\"scattermapbox\",\"marker\":{\"colorbar\":{\"outlinewidth\":0,\"ticks\":\"\"}}}],\"scatterternary\":[{\"type\":\"scatterternary\",\"marker\":{\"colorbar\":{\"outlinewidth\":0,\"ticks\":\"\"}}}],\"scattercarpet\":[{\"type\":\"scattercarpet\",\"marker\":{\"colorbar\":{\"outlinewidth\":0,\"ticks\":\"\"}}}],\"carpet\":[{\"aaxis\":{\"endlinecolor\":\"#2a3f5f\",\"gridcolor\":\"white\",\"linecolor\":\"white\",\"minorgridcolor\":\"white\",\"startlinecolor\":\"#2a3f5f\"},\"baxis\":{\"endlinecolor\":\"#2a3f5f\",\"gridcolor\":\"white\",\"linecolor\":\"white\",\"minorgridcolor\":\"white\",\"startlinecolor\":\"#2a3f5f\"},\"type\":\"carpet\"}],\"table\":[{\"cells\":{\"fill\":{\"color\":\"#EBF0F8\"},\"line\":{\"color\":\"white\"}},\"header\":{\"fill\":{\"color\":\"#C8D4E3\"},\"line\":{\"color\":\"white\"}},\"type\":\"table\"}],\"barpolar\":[{\"marker\":{\"line\":{\"color\":\"#E5ECF6\",\"width\":0.5},\"pattern\":{\"fillmode\":\"overlay\",\"size\":10,\"solidity\":0.2}},\"type\":\"barpolar\"}],\"pie\":[{\"automargin\":true,\"type\":\"pie\"}]},\"layout\":{\"autotypenumbers\":\"strict\",\"colorway\":[\"#636efa\",\"#EF553B\",\"#00cc96\",\"#ab63fa\",\"#FFA15A\",\"#19d3f3\",\"#FF6692\",\"#B6E880\",\"#FF97FF\",\"#FECB52\"],\"font\":{\"color\":\"#2a3f5f\"},\"hovermode\":\"closest\",\"hoverlabel\":{\"align\":\"left\"},\"paper_bgcolor\":\"white\",\"plot_bgcolor\":\"#E5ECF6\",\"polar\":{\"bgcolor\":\"#E5ECF6\",\"angularaxis\":{\"gridcolor\":\"white\",\"linecolor\":\"white\",\"ticks\":\"\"},\"radialaxis\":{\"gridcolor\":\"white\",\"linecolor\":\"white\",\"ticks\":\"\"}},\"ternary\":{\"bgcolor\":\"#E5ECF6\",\"aaxis\":{\"gridcolor\":\"white\",\"linecolor\":\"white\",\"ticks\":\"\"},\"baxis\":{\"gridcolor\":\"white\",\"linecolor\":\"white\",\"ticks\":\"\"},\"caxis\":{\"gridcolor\":\"white\",\"linecolor\":\"white\",\"ticks\":\"\"}},\"coloraxis\":{\"colorbar\":{\"outlinewidth\":0,\"ticks\":\"\"}},\"colorscale\":{\"sequential\":[[0.0,\"#0d0887\"],[0.1111111111111111,\"#46039f\"],[0.2222222222222222,\"#7201a8\"],[0.3333333333333333,\"#9c179e\"],[0.4444444444444444,\"#bd3786\"],[0.5555555555555556,\"#d8576b\"],[0.6666666666666666,\"#ed7953\"],[0.7777777777777778,\"#fb9f3a\"],[0.8888888888888888,\"#fdca26\"],[1.0,\"#f0f921\"]],\"sequentialminus\":[[0.0,\"#0d0887\"],[0.1111111111111111,\"#46039f\"],[0.2222222222222222,\"#7201a8\"],[0.3333333333333333,\"#9c179e\"],[0.4444444444444444,\"#bd3786\"],[0.5555555555555556,\"#d8576b\"],[0.6666666666666666,\"#ed7953\"],[0.7777777777777778,\"#fb9f3a\"],[0.8888888888888888,\"#fdca26\"],[1.0,\"#f0f921\"]],\"diverging\":[[0,\"#8e0152\"],[0.1,\"#c51b7d\"],[0.2,\"#de77ae\"],[0.3,\"#f1b6da\"],[0.4,\"#fde0ef\"],[0.5,\"#f7f7f7\"],[0.6,\"#e6f5d0\"],[0.7,\"#b8e186\"],[0.8,\"#7fbc41\"],[0.9,\"#4d9221\"],[1,\"#276419\"]]},\"xaxis\":{\"gridcolor\":\"white\",\"linecolor\":\"white\",\"ticks\":\"\",\"title\":{\"standoff\":15},\"zerolinecolor\":\"white\",\"automargin\":true,\"zerolinewidth\":2},\"yaxis\":{\"gridcolor\":\"white\",\"linecolor\":\"white\",\"ticks\":\"\",\"title\":{\"standoff\":15},\"zerolinecolor\":\"white\",\"automargin\":true,\"zerolinewidth\":2},\"scene\":{\"xaxis\":{\"backgroundcolor\":\"#E5ECF6\",\"gridcolor\":\"white\",\"linecolor\":\"white\",\"showbackground\":true,\"ticks\":\"\",\"zerolinecolor\":\"white\",\"gridwidth\":2},\"yaxis\":{\"backgroundcolor\":\"#E5ECF6\",\"gridcolor\":\"white\",\"linecolor\":\"white\",\"showbackground\":true,\"ticks\":\"\",\"zerolinecolor\":\"white\",\"gridwidth\":2},\"zaxis\":{\"backgroundcolor\":\"#E5ECF6\",\"gridcolor\":\"white\",\"linecolor\":\"white\",\"showbackground\":true,\"ticks\":\"\",\"zerolinecolor\":\"white\",\"gridwidth\":2}},\"shapedefaults\":{\"line\":{\"color\":\"#2a3f5f\"}},\"annotationdefaults\":{\"arrowcolor\":\"#2a3f5f\",\"arrowhead\":0,\"arrowwidth\":1},\"geo\":{\"bgcolor\":\"white\",\"landcolor\":\"#E5ECF6\",\"subunitcolor\":\"white\",\"showland\":true,\"showlakes\":true,\"lakecolor\":\"white\"},\"title\":{\"x\":0.05},\"mapbox\":{\"style\":\"light\"}}},\"xaxis\":{\"anchor\":\"y\",\"domain\":[0.0,1.0],\"title\":{\"text\":\"games\"}},\"yaxis\":{\"anchor\":\"x\",\"domain\":[0.0,1.0],\"title\":{\"text\":\"count\"}},\"legend\":{\"tracegroupgap\":0},\"title\":{\"text\":\"\\u0420\\u0430\\u0441\\u043f\\u0440\\u0435\\u0434\\u0435\\u043b\\u0435\\u043d\\u0438\\u0435 \\u043f\\u043e \\u043a\\u043e\\u043b-\\u0432\\u0443 \\u0441\\u044b\\u0433\\u0440\\u0430\\u043d\\u043d\\u044b\\u0445 \\u0438\\u0433\\u0440\"},\"barmode\":\"relative\",\"width\":800},                        {\"responsive\": true}                    ).then(function(){\n",
              "                            \n",
              "var gd = document.getElementById('3eeee730-3067-4e7c-bf23-08effd124654');\n",
              "var x = new MutationObserver(function (mutations, observer) {{\n",
              "        var display = window.getComputedStyle(gd).display;\n",
              "        if (!display || display === 'none') {{\n",
              "            console.log([gd, 'removed!']);\n",
              "            Plotly.purge(gd);\n",
              "            observer.disconnect();\n",
              "        }}\n",
              "}});\n",
              "\n",
              "// Listen for the removal of the full notebook cells\n",
              "var notebookContainer = gd.closest('#notebook-container');\n",
              "if (notebookContainer) {{\n",
              "    x.observe(notebookContainer, {childList: true});\n",
              "}}\n",
              "\n",
              "// Listen for the clearing of the current output cell\n",
              "var outputEl = gd.closest('.output');\n",
              "if (outputEl) {{\n",
              "    x.observe(outputEl, {childList: true});\n",
              "}}\n",
              "\n",
              "                        })                };                            </script>        </div>\n",
              "</body>\n",
              "</html>"
            ]
          },
          "metadata": {}
        }
      ]
    },
    {
      "cell_type": "markdown",
      "source": [
        "Видим, что есть большое количество футболистов, не сыгравших за сезон ни одной игры. Посмотрим, о каких именно футболистах идет речь."
      ],
      "metadata": {
        "id": "WJ3TX7A9QgU-"
      }
    },
    {
      "cell_type": "code",
      "source": [
        "df_zero_games = df[df[\"games\"] == 0]"
      ],
      "metadata": {
        "id": "BsDlTpW6QwKq"
      },
      "execution_count": null,
      "outputs": []
    },
    {
      "cell_type": "code",
      "source": [
        "fig = px.histogram(df_zero_games, x=\"age\", width=800, nbins=25,\n",
        "                   title=\"Распределение футболистов, не сыгравших ни одной игры, по возрасту\")\n",
        "fig.show()"
      ],
      "metadata": {
        "colab": {
          "base_uri": "https://localhost:8080/",
          "height": 542
        },
        "id": "8QfTq2gjQ20Q",
        "outputId": "e4743aa2-47ec-4a3c-b003-77bcd67f7d6b"
      },
      "execution_count": null,
      "outputs": [
        {
          "output_type": "display_data",
          "data": {
            "text/html": [
              "<html>\n",
              "<head><meta charset=\"utf-8\" /></head>\n",
              "<body>\n",
              "    <div>            <script src=\"https://cdnjs.cloudflare.com/ajax/libs/mathjax/2.7.5/MathJax.js?config=TeX-AMS-MML_SVG\"></script><script type=\"text/javascript\">if (window.MathJax && window.MathJax.Hub && window.MathJax.Hub.Config) {window.MathJax.Hub.Config({SVG: {font: \"STIX-Web\"}});}</script>                <script type=\"text/javascript\">window.PlotlyConfig = {MathJaxConfig: 'local'};</script>\n",
              "        <script src=\"https://cdn.plot.ly/plotly-2.18.2.min.js\"></script>                <div id=\"5696678f-1fbc-4262-aac6-56855fe5e216\" class=\"plotly-graph-div\" style=\"height:525px; width:800px;\"></div>            <script type=\"text/javascript\">                                    window.PLOTLYENV=window.PLOTLYENV || {};                                    if (document.getElementById(\"5696678f-1fbc-4262-aac6-56855fe5e216\")) {                    Plotly.newPlot(                        \"5696678f-1fbc-4262-aac6-56855fe5e216\",                        [{\"alignmentgroup\":\"True\",\"bingroup\":\"x\",\"hovertemplate\":\"age=%{x}<br>count=%{y}<extra></extra>\",\"legendgroup\":\"\",\"marker\":{\"color\":\"#636efa\",\"pattern\":{\"shape\":\"\"}},\"name\":\"\",\"nbinsx\":25,\"offsetgroup\":\"\",\"orientation\":\"v\",\"showlegend\":false,\"x\":[28,24,22,19,26,25,31,21,22,20,20,20,20,19,33,23,31,21,28,31,23,18,27,29,19,21,25,30,33,25,24,23,23,24,21,21,23,20,19,32,23,23,24,31,21,24,22,23,27,20,27,22,25,33,24,33,22,20,23,31,22],\"xaxis\":\"x\",\"yaxis\":\"y\",\"type\":\"histogram\"}],                        {\"template\":{\"data\":{\"histogram2dcontour\":[{\"type\":\"histogram2dcontour\",\"colorbar\":{\"outlinewidth\":0,\"ticks\":\"\"},\"colorscale\":[[0.0,\"#0d0887\"],[0.1111111111111111,\"#46039f\"],[0.2222222222222222,\"#7201a8\"],[0.3333333333333333,\"#9c179e\"],[0.4444444444444444,\"#bd3786\"],[0.5555555555555556,\"#d8576b\"],[0.6666666666666666,\"#ed7953\"],[0.7777777777777778,\"#fb9f3a\"],[0.8888888888888888,\"#fdca26\"],[1.0,\"#f0f921\"]]}],\"choropleth\":[{\"type\":\"choropleth\",\"colorbar\":{\"outlinewidth\":0,\"ticks\":\"\"}}],\"histogram2d\":[{\"type\":\"histogram2d\",\"colorbar\":{\"outlinewidth\":0,\"ticks\":\"\"},\"colorscale\":[[0.0,\"#0d0887\"],[0.1111111111111111,\"#46039f\"],[0.2222222222222222,\"#7201a8\"],[0.3333333333333333,\"#9c179e\"],[0.4444444444444444,\"#bd3786\"],[0.5555555555555556,\"#d8576b\"],[0.6666666666666666,\"#ed7953\"],[0.7777777777777778,\"#fb9f3a\"],[0.8888888888888888,\"#fdca26\"],[1.0,\"#f0f921\"]]}],\"heatmap\":[{\"type\":\"heatmap\",\"colorbar\":{\"outlinewidth\":0,\"ticks\":\"\"},\"colorscale\":[[0.0,\"#0d0887\"],[0.1111111111111111,\"#46039f\"],[0.2222222222222222,\"#7201a8\"],[0.3333333333333333,\"#9c179e\"],[0.4444444444444444,\"#bd3786\"],[0.5555555555555556,\"#d8576b\"],[0.6666666666666666,\"#ed7953\"],[0.7777777777777778,\"#fb9f3a\"],[0.8888888888888888,\"#fdca26\"],[1.0,\"#f0f921\"]]}],\"heatmapgl\":[{\"type\":\"heatmapgl\",\"colorbar\":{\"outlinewidth\":0,\"ticks\":\"\"},\"colorscale\":[[0.0,\"#0d0887\"],[0.1111111111111111,\"#46039f\"],[0.2222222222222222,\"#7201a8\"],[0.3333333333333333,\"#9c179e\"],[0.4444444444444444,\"#bd3786\"],[0.5555555555555556,\"#d8576b\"],[0.6666666666666666,\"#ed7953\"],[0.7777777777777778,\"#fb9f3a\"],[0.8888888888888888,\"#fdca26\"],[1.0,\"#f0f921\"]]}],\"contourcarpet\":[{\"type\":\"contourcarpet\",\"colorbar\":{\"outlinewidth\":0,\"ticks\":\"\"}}],\"contour\":[{\"type\":\"contour\",\"colorbar\":{\"outlinewidth\":0,\"ticks\":\"\"},\"colorscale\":[[0.0,\"#0d0887\"],[0.1111111111111111,\"#46039f\"],[0.2222222222222222,\"#7201a8\"],[0.3333333333333333,\"#9c179e\"],[0.4444444444444444,\"#bd3786\"],[0.5555555555555556,\"#d8576b\"],[0.6666666666666666,\"#ed7953\"],[0.7777777777777778,\"#fb9f3a\"],[0.8888888888888888,\"#fdca26\"],[1.0,\"#f0f921\"]]}],\"surface\":[{\"type\":\"surface\",\"colorbar\":{\"outlinewidth\":0,\"ticks\":\"\"},\"colorscale\":[[0.0,\"#0d0887\"],[0.1111111111111111,\"#46039f\"],[0.2222222222222222,\"#7201a8\"],[0.3333333333333333,\"#9c179e\"],[0.4444444444444444,\"#bd3786\"],[0.5555555555555556,\"#d8576b\"],[0.6666666666666666,\"#ed7953\"],[0.7777777777777778,\"#fb9f3a\"],[0.8888888888888888,\"#fdca26\"],[1.0,\"#f0f921\"]]}],\"mesh3d\":[{\"type\":\"mesh3d\",\"colorbar\":{\"outlinewidth\":0,\"ticks\":\"\"}}],\"scatter\":[{\"fillpattern\":{\"fillmode\":\"overlay\",\"size\":10,\"solidity\":0.2},\"type\":\"scatter\"}],\"parcoords\":[{\"type\":\"parcoords\",\"line\":{\"colorbar\":{\"outlinewidth\":0,\"ticks\":\"\"}}}],\"scatterpolargl\":[{\"type\":\"scatterpolargl\",\"marker\":{\"colorbar\":{\"outlinewidth\":0,\"ticks\":\"\"}}}],\"bar\":[{\"error_x\":{\"color\":\"#2a3f5f\"},\"error_y\":{\"color\":\"#2a3f5f\"},\"marker\":{\"line\":{\"color\":\"#E5ECF6\",\"width\":0.5},\"pattern\":{\"fillmode\":\"overlay\",\"size\":10,\"solidity\":0.2}},\"type\":\"bar\"}],\"scattergeo\":[{\"type\":\"scattergeo\",\"marker\":{\"colorbar\":{\"outlinewidth\":0,\"ticks\":\"\"}}}],\"scatterpolar\":[{\"type\":\"scatterpolar\",\"marker\":{\"colorbar\":{\"outlinewidth\":0,\"ticks\":\"\"}}}],\"histogram\":[{\"marker\":{\"pattern\":{\"fillmode\":\"overlay\",\"size\":10,\"solidity\":0.2}},\"type\":\"histogram\"}],\"scattergl\":[{\"type\":\"scattergl\",\"marker\":{\"colorbar\":{\"outlinewidth\":0,\"ticks\":\"\"}}}],\"scatter3d\":[{\"type\":\"scatter3d\",\"line\":{\"colorbar\":{\"outlinewidth\":0,\"ticks\":\"\"}},\"marker\":{\"colorbar\":{\"outlinewidth\":0,\"ticks\":\"\"}}}],\"scattermapbox\":[{\"type\":\"scattermapbox\",\"marker\":{\"colorbar\":{\"outlinewidth\":0,\"ticks\":\"\"}}}],\"scatterternary\":[{\"type\":\"scatterternary\",\"marker\":{\"colorbar\":{\"outlinewidth\":0,\"ticks\":\"\"}}}],\"scattercarpet\":[{\"type\":\"scattercarpet\",\"marker\":{\"colorbar\":{\"outlinewidth\":0,\"ticks\":\"\"}}}],\"carpet\":[{\"aaxis\":{\"endlinecolor\":\"#2a3f5f\",\"gridcolor\":\"white\",\"linecolor\":\"white\",\"minorgridcolor\":\"white\",\"startlinecolor\":\"#2a3f5f\"},\"baxis\":{\"endlinecolor\":\"#2a3f5f\",\"gridcolor\":\"white\",\"linecolor\":\"white\",\"minorgridcolor\":\"white\",\"startlinecolor\":\"#2a3f5f\"},\"type\":\"carpet\"}],\"table\":[{\"cells\":{\"fill\":{\"color\":\"#EBF0F8\"},\"line\":{\"color\":\"white\"}},\"header\":{\"fill\":{\"color\":\"#C8D4E3\"},\"line\":{\"color\":\"white\"}},\"type\":\"table\"}],\"barpolar\":[{\"marker\":{\"line\":{\"color\":\"#E5ECF6\",\"width\":0.5},\"pattern\":{\"fillmode\":\"overlay\",\"size\":10,\"solidity\":0.2}},\"type\":\"barpolar\"}],\"pie\":[{\"automargin\":true,\"type\":\"pie\"}]},\"layout\":{\"autotypenumbers\":\"strict\",\"colorway\":[\"#636efa\",\"#EF553B\",\"#00cc96\",\"#ab63fa\",\"#FFA15A\",\"#19d3f3\",\"#FF6692\",\"#B6E880\",\"#FF97FF\",\"#FECB52\"],\"font\":{\"color\":\"#2a3f5f\"},\"hovermode\":\"closest\",\"hoverlabel\":{\"align\":\"left\"},\"paper_bgcolor\":\"white\",\"plot_bgcolor\":\"#E5ECF6\",\"polar\":{\"bgcolor\":\"#E5ECF6\",\"angularaxis\":{\"gridcolor\":\"white\",\"linecolor\":\"white\",\"ticks\":\"\"},\"radialaxis\":{\"gridcolor\":\"white\",\"linecolor\":\"white\",\"ticks\":\"\"}},\"ternary\":{\"bgcolor\":\"#E5ECF6\",\"aaxis\":{\"gridcolor\":\"white\",\"linecolor\":\"white\",\"ticks\":\"\"},\"baxis\":{\"gridcolor\":\"white\",\"linecolor\":\"white\",\"ticks\":\"\"},\"caxis\":{\"gridcolor\":\"white\",\"linecolor\":\"white\",\"ticks\":\"\"}},\"coloraxis\":{\"colorbar\":{\"outlinewidth\":0,\"ticks\":\"\"}},\"colorscale\":{\"sequential\":[[0.0,\"#0d0887\"],[0.1111111111111111,\"#46039f\"],[0.2222222222222222,\"#7201a8\"],[0.3333333333333333,\"#9c179e\"],[0.4444444444444444,\"#bd3786\"],[0.5555555555555556,\"#d8576b\"],[0.6666666666666666,\"#ed7953\"],[0.7777777777777778,\"#fb9f3a\"],[0.8888888888888888,\"#fdca26\"],[1.0,\"#f0f921\"]],\"sequentialminus\":[[0.0,\"#0d0887\"],[0.1111111111111111,\"#46039f\"],[0.2222222222222222,\"#7201a8\"],[0.3333333333333333,\"#9c179e\"],[0.4444444444444444,\"#bd3786\"],[0.5555555555555556,\"#d8576b\"],[0.6666666666666666,\"#ed7953\"],[0.7777777777777778,\"#fb9f3a\"],[0.8888888888888888,\"#fdca26\"],[1.0,\"#f0f921\"]],\"diverging\":[[0,\"#8e0152\"],[0.1,\"#c51b7d\"],[0.2,\"#de77ae\"],[0.3,\"#f1b6da\"],[0.4,\"#fde0ef\"],[0.5,\"#f7f7f7\"],[0.6,\"#e6f5d0\"],[0.7,\"#b8e186\"],[0.8,\"#7fbc41\"],[0.9,\"#4d9221\"],[1,\"#276419\"]]},\"xaxis\":{\"gridcolor\":\"white\",\"linecolor\":\"white\",\"ticks\":\"\",\"title\":{\"standoff\":15},\"zerolinecolor\":\"white\",\"automargin\":true,\"zerolinewidth\":2},\"yaxis\":{\"gridcolor\":\"white\",\"linecolor\":\"white\",\"ticks\":\"\",\"title\":{\"standoff\":15},\"zerolinecolor\":\"white\",\"automargin\":true,\"zerolinewidth\":2},\"scene\":{\"xaxis\":{\"backgroundcolor\":\"#E5ECF6\",\"gridcolor\":\"white\",\"linecolor\":\"white\",\"showbackground\":true,\"ticks\":\"\",\"zerolinecolor\":\"white\",\"gridwidth\":2},\"yaxis\":{\"backgroundcolor\":\"#E5ECF6\",\"gridcolor\":\"white\",\"linecolor\":\"white\",\"showbackground\":true,\"ticks\":\"\",\"zerolinecolor\":\"white\",\"gridwidth\":2},\"zaxis\":{\"backgroundcolor\":\"#E5ECF6\",\"gridcolor\":\"white\",\"linecolor\":\"white\",\"showbackground\":true,\"ticks\":\"\",\"zerolinecolor\":\"white\",\"gridwidth\":2}},\"shapedefaults\":{\"line\":{\"color\":\"#2a3f5f\"}},\"annotationdefaults\":{\"arrowcolor\":\"#2a3f5f\",\"arrowhead\":0,\"arrowwidth\":1},\"geo\":{\"bgcolor\":\"white\",\"landcolor\":\"#E5ECF6\",\"subunitcolor\":\"white\",\"showland\":true,\"showlakes\":true,\"lakecolor\":\"white\"},\"title\":{\"x\":0.05},\"mapbox\":{\"style\":\"light\"}}},\"xaxis\":{\"anchor\":\"y\",\"domain\":[0.0,1.0],\"title\":{\"text\":\"age\"}},\"yaxis\":{\"anchor\":\"x\",\"domain\":[0.0,1.0],\"title\":{\"text\":\"count\"}},\"legend\":{\"tracegroupgap\":0},\"title\":{\"text\":\"\\u0420\\u0430\\u0441\\u043f\\u0440\\u0435\\u0434\\u0435\\u043b\\u0435\\u043d\\u0438\\u0435 \\u0444\\u0443\\u0442\\u0431\\u043e\\u043b\\u0438\\u0441\\u0442\\u043e\\u0432, \\u043d\\u0435 \\u0441\\u044b\\u0433\\u0440\\u0430\\u0432\\u0448\\u0438\\u0445 \\u043d\\u0438 \\u043e\\u0434\\u043d\\u043e\\u0439 \\u0438\\u0433\\u0440\\u044b, \\u043f\\u043e \\u0432\\u043e\\u0437\\u0440\\u0430\\u0441\\u0442\\u0443\"},\"barmode\":\"relative\",\"width\":800},                        {\"responsive\": true}                    ).then(function(){\n",
              "                            \n",
              "var gd = document.getElementById('5696678f-1fbc-4262-aac6-56855fe5e216');\n",
              "var x = new MutationObserver(function (mutations, observer) {{\n",
              "        var display = window.getComputedStyle(gd).display;\n",
              "        if (!display || display === 'none') {{\n",
              "            console.log([gd, 'removed!']);\n",
              "            Plotly.purge(gd);\n",
              "            observer.disconnect();\n",
              "        }}\n",
              "}});\n",
              "\n",
              "// Listen for the removal of the full notebook cells\n",
              "var notebookContainer = gd.closest('#notebook-container');\n",
              "if (notebookContainer) {{\n",
              "    x.observe(notebookContainer, {childList: true});\n",
              "}}\n",
              "\n",
              "// Listen for the clearing of the current output cell\n",
              "var outputEl = gd.closest('.output');\n",
              "if (outputEl) {{\n",
              "    x.observe(outputEl, {childList: true});\n",
              "}}\n",
              "\n",
              "                        })                };                            </script>        </div>\n",
              "</body>\n",
              "</html>"
            ]
          },
          "metadata": {}
        }
      ]
    },
    {
      "cell_type": "markdown",
      "source": [
        "Можем сделать вывод: большинство футболистов, не сыгравших ни одной игры в сезоне, - молодые футболисты возрастом до 23 лет."
      ],
      "metadata": {
        "id": "MQqEhgJvROUy"
      }
    },
    {
      "cell_type": "markdown",
      "source": [
        "#### *goals, assists*"
      ],
      "metadata": {
        "id": "Cl1-xknAVt6Y"
      }
    },
    {
      "cell_type": "markdown",
      "source": [
        "Распределения по количеству голов и голевых передач."
      ],
      "metadata": {
        "id": "7UXBm6hSR3Yi"
      }
    },
    {
      "cell_type": "code",
      "source": [
        "fig1 = px.histogram(df, x=\"goals\")\n",
        "fig2 = px.histogram(df, x=\"assists\")\n",
        "\n",
        "fig = sp.make_subplots(rows=1, cols=2)\n",
        "\n",
        "fig.add_trace(fig1.data[0], row=1, col=1)\n",
        "fig.add_trace(fig2.data[0], row=1, col=2)\n",
        "\n",
        "fig.update_layout(title='Распределение по кол-ву голов, ассистов')\n",
        "fig.show()"
      ],
      "metadata": {
        "colab": {
          "base_uri": "https://localhost:8080/",
          "height": 542
        },
        "id": "kAZThHdOR7e4",
        "outputId": "5f3278e2-b570-4614-b843-e1b614a01ce4"
      },
      "execution_count": null,
      "outputs": [
        {
          "output_type": "display_data",
          "data": {
            "text/html": [
              "<html>\n",
              "<head><meta charset=\"utf-8\" /></head>\n",
              "<body>\n",
              "    <div>            <script src=\"https://cdnjs.cloudflare.com/ajax/libs/mathjax/2.7.5/MathJax.js?config=TeX-AMS-MML_SVG\"></script><script type=\"text/javascript\">if (window.MathJax && window.MathJax.Hub && window.MathJax.Hub.Config) {window.MathJax.Hub.Config({SVG: {font: \"STIX-Web\"}});}</script>                <script type=\"text/javascript\">window.PlotlyConfig = {MathJaxConfig: 'local'};</script>\n",
              "        <script src=\"https://cdn.plot.ly/plotly-2.18.2.min.js\"></script>                <div id=\"bbb470fd-5872-42eb-adc9-c936c49c2236\" class=\"plotly-graph-div\" style=\"height:525px; width:100%;\"></div>            <script type=\"text/javascript\">                                    window.PLOTLYENV=window.PLOTLYENV || {};                                    if (document.getElementById(\"bbb470fd-5872-42eb-adc9-c936c49c2236\")) {                    Plotly.newPlot(                        \"bbb470fd-5872-42eb-adc9-c936c49c2236\",                        [{\"alignmentgroup\":\"True\",\"bingroup\":\"x\",\"hovertemplate\":\"goals=%{x}<br>count=%{y}<extra></extra>\",\"legendgroup\":\"\",\"marker\":{\"color\":\"#636efa\",\"pattern\":{\"shape\":\"\"}},\"name\":\"\",\"offsetgroup\":\"\",\"orientation\":\"v\",\"showlegend\":false,\"x\":[0,1,2,0,0,0,0,0,2,0,0,8,7,4,0,11,5,5,36,9,1,1,2,0,0,0,2,0,0,1,0,0,0,0,1,3,0,0,3,7,0,6,1,1,0,4,1,0,1,2,3,1,0,1,1,0,2,0,3,0,0,7,0,0,15,0,1,15,1,14,0,3,11,4,3,0,0,1,0,0,0,0,2,0,0,1,0,0,3,0,0,1,0,1,2,4,7,7,19,9,11,1,0,0,0,0,0,0,1,0,0,0,1,0,4,1,1,0,2,0,0,0,8,0,17,6,0,3,4,0,0,0,6,0,0,2,0,0,0,2,3,2,1,4,5,0,0,2,1,10,1,2,1,30,1,0,1,0,0,0,0,1,0,0,1,0,0,0,4,0,3,1,0,0,0,6,0,1,1,0,11,4,0,10,18,0,1,0,0,0,0,1,0,1,0,0,0,6,6,1,0,4,1,0,5,2,15,0,0,0,2,2,0,0,1,0,0,0,4,2,0,0,4,3,1,6,0,6,3,2,5,1,1,0,0,0,0,0,0,0,2,0,1,0,0,0,1,3,2,1,1,10,13,1,4,5,3,0,0,0,1,0,0,1,2,0,1,0,0,1,0,9,4,2,0,2,2,1,0,0,0,0,2,5,0,2,1,0,0,0,1,1,1,1,0,0,0,6,0,0,0,1,1,0,0,6,0,0,1,2,2,0,3,0,1,0,0,0,1,0,2,1,3,0,2,0,0,1,0,0,0,1,1,5,5,2,2,4,0,0,4,13,0,0,1,1,0,0,2,1,0,0,0,1,1,0,5,0,0,2,4,7,0,2,1,1,0,1,0,0,1,0,1,1,10,0,0,9,0,0,1,0,2,7,7,4,6,6,5,0,0,3,1,3,0,0,0,0,0,0,3,1,5,4,0,0,0,7,0,0,0,9,0,20,0,0,0,1,0,0,0,0,0,0,0,1,0,1,3,1,0,1,0,0,0,0,0,5,8,0,0,0,0,0,10,2,1,1,0,1,1,0,0,1,0,0,1,0,0,0,0,1,0,3,10,7,2,0,5,2,4,0,1,1,0,1,0,0,1,0,0,3,3,0,2,0,4,4,4,0,5,2,0,14,0,5],\"xaxis\":\"x\",\"yaxis\":\"y\",\"type\":\"histogram\"},{\"alignmentgroup\":\"True\",\"bingroup\":\"x\",\"hovertemplate\":\"assists=%{x}<br>count=%{y}<extra></extra>\",\"legendgroup\":\"\",\"marker\":{\"color\":\"#636efa\",\"pattern\":{\"shape\":\"\"}},\"name\":\"\",\"offsetgroup\":\"\",\"orientation\":\"v\",\"showlegend\":false,\"x\":[0,0,2,0,1,1,0,0,6,0,0,5,18,6,1,5,7,10,8,1,0,0,1,0,2,2,3,0,0,1,0,2,1,0,2,1,1,0,2,1,2,3,1,0,3,0,1,0,0,1,0,0,0,0,2,1,5,1,0,1,0,7,0,1,8,2,2,5,10,11,0,2,7,2,1,0,0,0,0,0,8,4,9,0,2,0,0,0,1,0,2,0,1,2,0,2,3,4,12,3,4,0,0,0,0,0,0,0,2,0,0,0,2,0,3,0,8,1,2,0,0,0,8,0,5,3,1,2,2,0,0,0,2,1,1,1,0,2,0,2,3,1,0,5,2,0,1,0,8,6,0,7,0,3,4,0,3,0,0,0,0,0,0,0,7,0,0,0,5,0,6,4,0,0,0,2,1,0,5,0,2,2,0,1,5,0,2,0,0,0,3,0,1,0,1,0,0,6,7,3,0,4,0,0,2,0,6,0,0,0,0,0,2,0,0,1,0,1,2,3,0,0,3,1,0,3,0,6,0,2,3,2,0,1,0,0,0,1,0,0,3,1,1,0,0,0,0,2,2,0,0,9,1,0,4,5,4,0,2,1,0,0,0,1,2,0,0,0,0,0,0,4,2,1,0,0,1,1,2,0,0,0,2,3,0,1,2,0,0,0,0,0,0,0,1,1,0,1,1,1,0,1,0,0,2,0,0,0,0,2,0,0,1,1,0,0,0,0,0,0,1,1,1,0,1,0,0,2,1,0,0,3,2,7,0,4,1,2,0,1,2,1,2,0,1,1,1,0,0,2,0,0,0,0,2,1,2,0,1,8,1,3,0,1,0,0,0,0,0,0,6,0,1,1,2,0,1,8,0,0,1,1,1,6,7,2,2,4,0,0,0,0,0,2,0,0,2,1,0,0,1,4,6,2,2,1,0,3,1,0,0,8,1,4,0,0,0,0,1,0,0,1,1,0,0,0,0,0,2,0,0,1,0,2,0,0,0,8,3,0,0,0,0,0,1,2,0,0,0,0,0,0,0,0,2,0,0,3,0,0,0,1,0,1,4,2,11,0,2,0,3,0,0,0,0,0,1,0,5,0,0,0,4,0,0,0,6,1,0,3,6,5,0,2,0,2],\"xaxis\":\"x2\",\"yaxis\":\"y2\",\"type\":\"histogram\"}],                        {\"template\":{\"data\":{\"histogram2dcontour\":[{\"type\":\"histogram2dcontour\",\"colorbar\":{\"outlinewidth\":0,\"ticks\":\"\"},\"colorscale\":[[0.0,\"#0d0887\"],[0.1111111111111111,\"#46039f\"],[0.2222222222222222,\"#7201a8\"],[0.3333333333333333,\"#9c179e\"],[0.4444444444444444,\"#bd3786\"],[0.5555555555555556,\"#d8576b\"],[0.6666666666666666,\"#ed7953\"],[0.7777777777777778,\"#fb9f3a\"],[0.8888888888888888,\"#fdca26\"],[1.0,\"#f0f921\"]]}],\"choropleth\":[{\"type\":\"choropleth\",\"colorbar\":{\"outlinewidth\":0,\"ticks\":\"\"}}],\"histogram2d\":[{\"type\":\"histogram2d\",\"colorbar\":{\"outlinewidth\":0,\"ticks\":\"\"},\"colorscale\":[[0.0,\"#0d0887\"],[0.1111111111111111,\"#46039f\"],[0.2222222222222222,\"#7201a8\"],[0.3333333333333333,\"#9c179e\"],[0.4444444444444444,\"#bd3786\"],[0.5555555555555556,\"#d8576b\"],[0.6666666666666666,\"#ed7953\"],[0.7777777777777778,\"#fb9f3a\"],[0.8888888888888888,\"#fdca26\"],[1.0,\"#f0f921\"]]}],\"heatmap\":[{\"type\":\"heatmap\",\"colorbar\":{\"outlinewidth\":0,\"ticks\":\"\"},\"colorscale\":[[0.0,\"#0d0887\"],[0.1111111111111111,\"#46039f\"],[0.2222222222222222,\"#7201a8\"],[0.3333333333333333,\"#9c179e\"],[0.4444444444444444,\"#bd3786\"],[0.5555555555555556,\"#d8576b\"],[0.6666666666666666,\"#ed7953\"],[0.7777777777777778,\"#fb9f3a\"],[0.8888888888888888,\"#fdca26\"],[1.0,\"#f0f921\"]]}],\"heatmapgl\":[{\"type\":\"heatmapgl\",\"colorbar\":{\"outlinewidth\":0,\"ticks\":\"\"},\"colorscale\":[[0.0,\"#0d0887\"],[0.1111111111111111,\"#46039f\"],[0.2222222222222222,\"#7201a8\"],[0.3333333333333333,\"#9c179e\"],[0.4444444444444444,\"#bd3786\"],[0.5555555555555556,\"#d8576b\"],[0.6666666666666666,\"#ed7953\"],[0.7777777777777778,\"#fb9f3a\"],[0.8888888888888888,\"#fdca26\"],[1.0,\"#f0f921\"]]}],\"contourcarpet\":[{\"type\":\"contourcarpet\",\"colorbar\":{\"outlinewidth\":0,\"ticks\":\"\"}}],\"contour\":[{\"type\":\"contour\",\"colorbar\":{\"outlinewidth\":0,\"ticks\":\"\"},\"colorscale\":[[0.0,\"#0d0887\"],[0.1111111111111111,\"#46039f\"],[0.2222222222222222,\"#7201a8\"],[0.3333333333333333,\"#9c179e\"],[0.4444444444444444,\"#bd3786\"],[0.5555555555555556,\"#d8576b\"],[0.6666666666666666,\"#ed7953\"],[0.7777777777777778,\"#fb9f3a\"],[0.8888888888888888,\"#fdca26\"],[1.0,\"#f0f921\"]]}],\"surface\":[{\"type\":\"surface\",\"colorbar\":{\"outlinewidth\":0,\"ticks\":\"\"},\"colorscale\":[[0.0,\"#0d0887\"],[0.1111111111111111,\"#46039f\"],[0.2222222222222222,\"#7201a8\"],[0.3333333333333333,\"#9c179e\"],[0.4444444444444444,\"#bd3786\"],[0.5555555555555556,\"#d8576b\"],[0.6666666666666666,\"#ed7953\"],[0.7777777777777778,\"#fb9f3a\"],[0.8888888888888888,\"#fdca26\"],[1.0,\"#f0f921\"]]}],\"mesh3d\":[{\"type\":\"mesh3d\",\"colorbar\":{\"outlinewidth\":0,\"ticks\":\"\"}}],\"scatter\":[{\"fillpattern\":{\"fillmode\":\"overlay\",\"size\":10,\"solidity\":0.2},\"type\":\"scatter\"}],\"parcoords\":[{\"type\":\"parcoords\",\"line\":{\"colorbar\":{\"outlinewidth\":0,\"ticks\":\"\"}}}],\"scatterpolargl\":[{\"type\":\"scatterpolargl\",\"marker\":{\"colorbar\":{\"outlinewidth\":0,\"ticks\":\"\"}}}],\"bar\":[{\"error_x\":{\"color\":\"#2a3f5f\"},\"error_y\":{\"color\":\"#2a3f5f\"},\"marker\":{\"line\":{\"color\":\"#E5ECF6\",\"width\":0.5},\"pattern\":{\"fillmode\":\"overlay\",\"size\":10,\"solidity\":0.2}},\"type\":\"bar\"}],\"scattergeo\":[{\"type\":\"scattergeo\",\"marker\":{\"colorbar\":{\"outlinewidth\":0,\"ticks\":\"\"}}}],\"scatterpolar\":[{\"type\":\"scatterpolar\",\"marker\":{\"colorbar\":{\"outlinewidth\":0,\"ticks\":\"\"}}}],\"histogram\":[{\"marker\":{\"pattern\":{\"fillmode\":\"overlay\",\"size\":10,\"solidity\":0.2}},\"type\":\"histogram\"}],\"scattergl\":[{\"type\":\"scattergl\",\"marker\":{\"colorbar\":{\"outlinewidth\":0,\"ticks\":\"\"}}}],\"scatter3d\":[{\"type\":\"scatter3d\",\"line\":{\"colorbar\":{\"outlinewidth\":0,\"ticks\":\"\"}},\"marker\":{\"colorbar\":{\"outlinewidth\":0,\"ticks\":\"\"}}}],\"scattermapbox\":[{\"type\":\"scattermapbox\",\"marker\":{\"colorbar\":{\"outlinewidth\":0,\"ticks\":\"\"}}}],\"scatterternary\":[{\"type\":\"scatterternary\",\"marker\":{\"colorbar\":{\"outlinewidth\":0,\"ticks\":\"\"}}}],\"scattercarpet\":[{\"type\":\"scattercarpet\",\"marker\":{\"colorbar\":{\"outlinewidth\":0,\"ticks\":\"\"}}}],\"carpet\":[{\"aaxis\":{\"endlinecolor\":\"#2a3f5f\",\"gridcolor\":\"white\",\"linecolor\":\"white\",\"minorgridcolor\":\"white\",\"startlinecolor\":\"#2a3f5f\"},\"baxis\":{\"endlinecolor\":\"#2a3f5f\",\"gridcolor\":\"white\",\"linecolor\":\"white\",\"minorgridcolor\":\"white\",\"startlinecolor\":\"#2a3f5f\"},\"type\":\"carpet\"}],\"table\":[{\"cells\":{\"fill\":{\"color\":\"#EBF0F8\"},\"line\":{\"color\":\"white\"}},\"header\":{\"fill\":{\"color\":\"#C8D4E3\"},\"line\":{\"color\":\"white\"}},\"type\":\"table\"}],\"barpolar\":[{\"marker\":{\"line\":{\"color\":\"#E5ECF6\",\"width\":0.5},\"pattern\":{\"fillmode\":\"overlay\",\"size\":10,\"solidity\":0.2}},\"type\":\"barpolar\"}],\"pie\":[{\"automargin\":true,\"type\":\"pie\"}]},\"layout\":{\"autotypenumbers\":\"strict\",\"colorway\":[\"#636efa\",\"#EF553B\",\"#00cc96\",\"#ab63fa\",\"#FFA15A\",\"#19d3f3\",\"#FF6692\",\"#B6E880\",\"#FF97FF\",\"#FECB52\"],\"font\":{\"color\":\"#2a3f5f\"},\"hovermode\":\"closest\",\"hoverlabel\":{\"align\":\"left\"},\"paper_bgcolor\":\"white\",\"plot_bgcolor\":\"#E5ECF6\",\"polar\":{\"bgcolor\":\"#E5ECF6\",\"angularaxis\":{\"gridcolor\":\"white\",\"linecolor\":\"white\",\"ticks\":\"\"},\"radialaxis\":{\"gridcolor\":\"white\",\"linecolor\":\"white\",\"ticks\":\"\"}},\"ternary\":{\"bgcolor\":\"#E5ECF6\",\"aaxis\":{\"gridcolor\":\"white\",\"linecolor\":\"white\",\"ticks\":\"\"},\"baxis\":{\"gridcolor\":\"white\",\"linecolor\":\"white\",\"ticks\":\"\"},\"caxis\":{\"gridcolor\":\"white\",\"linecolor\":\"white\",\"ticks\":\"\"}},\"coloraxis\":{\"colorbar\":{\"outlinewidth\":0,\"ticks\":\"\"}},\"colorscale\":{\"sequential\":[[0.0,\"#0d0887\"],[0.1111111111111111,\"#46039f\"],[0.2222222222222222,\"#7201a8\"],[0.3333333333333333,\"#9c179e\"],[0.4444444444444444,\"#bd3786\"],[0.5555555555555556,\"#d8576b\"],[0.6666666666666666,\"#ed7953\"],[0.7777777777777778,\"#fb9f3a\"],[0.8888888888888888,\"#fdca26\"],[1.0,\"#f0f921\"]],\"sequentialminus\":[[0.0,\"#0d0887\"],[0.1111111111111111,\"#46039f\"],[0.2222222222222222,\"#7201a8\"],[0.3333333333333333,\"#9c179e\"],[0.4444444444444444,\"#bd3786\"],[0.5555555555555556,\"#d8576b\"],[0.6666666666666666,\"#ed7953\"],[0.7777777777777778,\"#fb9f3a\"],[0.8888888888888888,\"#fdca26\"],[1.0,\"#f0f921\"]],\"diverging\":[[0,\"#8e0152\"],[0.1,\"#c51b7d\"],[0.2,\"#de77ae\"],[0.3,\"#f1b6da\"],[0.4,\"#fde0ef\"],[0.5,\"#f7f7f7\"],[0.6,\"#e6f5d0\"],[0.7,\"#b8e186\"],[0.8,\"#7fbc41\"],[0.9,\"#4d9221\"],[1,\"#276419\"]]},\"xaxis\":{\"gridcolor\":\"white\",\"linecolor\":\"white\",\"ticks\":\"\",\"title\":{\"standoff\":15},\"zerolinecolor\":\"white\",\"automargin\":true,\"zerolinewidth\":2},\"yaxis\":{\"gridcolor\":\"white\",\"linecolor\":\"white\",\"ticks\":\"\",\"title\":{\"standoff\":15},\"zerolinecolor\":\"white\",\"automargin\":true,\"zerolinewidth\":2},\"scene\":{\"xaxis\":{\"backgroundcolor\":\"#E5ECF6\",\"gridcolor\":\"white\",\"linecolor\":\"white\",\"showbackground\":true,\"ticks\":\"\",\"zerolinecolor\":\"white\",\"gridwidth\":2},\"yaxis\":{\"backgroundcolor\":\"#E5ECF6\",\"gridcolor\":\"white\",\"linecolor\":\"white\",\"showbackground\":true,\"ticks\":\"\",\"zerolinecolor\":\"white\",\"gridwidth\":2},\"zaxis\":{\"backgroundcolor\":\"#E5ECF6\",\"gridcolor\":\"white\",\"linecolor\":\"white\",\"showbackground\":true,\"ticks\":\"\",\"zerolinecolor\":\"white\",\"gridwidth\":2}},\"shapedefaults\":{\"line\":{\"color\":\"#2a3f5f\"}},\"annotationdefaults\":{\"arrowcolor\":\"#2a3f5f\",\"arrowhead\":0,\"arrowwidth\":1},\"geo\":{\"bgcolor\":\"white\",\"landcolor\":\"#E5ECF6\",\"subunitcolor\":\"white\",\"showland\":true,\"showlakes\":true,\"lakecolor\":\"white\"},\"title\":{\"x\":0.05},\"mapbox\":{\"style\":\"light\"}}},\"xaxis\":{\"anchor\":\"y\",\"domain\":[0.0,0.45]},\"yaxis\":{\"anchor\":\"x\",\"domain\":[0.0,1.0]},\"xaxis2\":{\"anchor\":\"y2\",\"domain\":[0.55,1.0]},\"yaxis2\":{\"anchor\":\"x2\",\"domain\":[0.0,1.0]},\"title\":{\"text\":\"\\u0420\\u0430\\u0441\\u043f\\u0440\\u0435\\u0434\\u0435\\u043b\\u0435\\u043d\\u0438\\u0435 \\u043f\\u043e \\u043a\\u043e\\u043b-\\u0432\\u0443 \\u0433\\u043e\\u043b\\u043e\\u0432, \\u0430\\u0441\\u0441\\u0438\\u0441\\u0442\\u043e\\u0432\"}},                        {\"responsive\": true}                    ).then(function(){\n",
              "                            \n",
              "var gd = document.getElementById('bbb470fd-5872-42eb-adc9-c936c49c2236');\n",
              "var x = new MutationObserver(function (mutations, observer) {{\n",
              "        var display = window.getComputedStyle(gd).display;\n",
              "        if (!display || display === 'none') {{\n",
              "            console.log([gd, 'removed!']);\n",
              "            Plotly.purge(gd);\n",
              "            observer.disconnect();\n",
              "        }}\n",
              "}});\n",
              "\n",
              "// Listen for the removal of the full notebook cells\n",
              "var notebookContainer = gd.closest('#notebook-container');\n",
              "if (notebookContainer) {{\n",
              "    x.observe(notebookContainer, {childList: true});\n",
              "}}\n",
              "\n",
              "// Listen for the clearing of the current output cell\n",
              "var outputEl = gd.closest('.output');\n",
              "if (outputEl) {{\n",
              "    x.observe(outputEl, {childList: true});\n",
              "}}\n",
              "\n",
              "                        })                };                            </script>        </div>\n",
              "</body>\n",
              "</html>"
            ]
          },
          "metadata": {}
        }
      ]
    },
    {
      "cell_type": "markdown",
      "source": [
        "Видим, что голы и голевые передачи распределены экспоненциально. Можем посмотреть на игроков с максимальным кол-вом голов и голевых передач."
      ],
      "metadata": {
        "id": "VtQkrqKnTHof"
      }
    },
    {
      "cell_type": "code",
      "source": [
        "df[df.goals == df.goals.max()]"
      ],
      "metadata": {
        "colab": {
          "base_uri": "https://localhost:8080/",
          "height": 81
        },
        "id": "jIGiBW7mTVAc",
        "outputId": "d3d4c7f8-572d-413c-d20c-6d164984a443"
      },
      "execution_count": null,
      "outputs": [
        {
          "output_type": "execute_result",
          "data": {
            "text/plain": [
              "              name             team  age  height  nation  games  goals  \\\n",
              "19  Erling Haaland  Manchester City   22     195  Norway     35     36   \n",
              "\n",
              "    assists  total_minutes main_position    sub_position  right_foot  \\\n",
              "19        8           2777        attack  centre forward       False   \n",
              "\n",
              "    market_value_m  \n",
              "19           170.0  "
            ],
            "text/html": [
              "\n",
              "  <div id=\"df-3f7d60d0-0deb-4915-8cd9-a078c7f5c2d3\">\n",
              "    <div class=\"colab-df-container\">\n",
              "      <div>\n",
              "<style scoped>\n",
              "    .dataframe tbody tr th:only-of-type {\n",
              "        vertical-align: middle;\n",
              "    }\n",
              "\n",
              "    .dataframe tbody tr th {\n",
              "        vertical-align: top;\n",
              "    }\n",
              "\n",
              "    .dataframe thead th {\n",
              "        text-align: right;\n",
              "    }\n",
              "</style>\n",
              "<table border=\"1\" class=\"dataframe\">\n",
              "  <thead>\n",
              "    <tr style=\"text-align: right;\">\n",
              "      <th></th>\n",
              "      <th>name</th>\n",
              "      <th>team</th>\n",
              "      <th>age</th>\n",
              "      <th>height</th>\n",
              "      <th>nation</th>\n",
              "      <th>games</th>\n",
              "      <th>goals</th>\n",
              "      <th>assists</th>\n",
              "      <th>total_minutes</th>\n",
              "      <th>main_position</th>\n",
              "      <th>sub_position</th>\n",
              "      <th>right_foot</th>\n",
              "      <th>market_value_m</th>\n",
              "    </tr>\n",
              "  </thead>\n",
              "  <tbody>\n",
              "    <tr>\n",
              "      <th>19</th>\n",
              "      <td>Erling Haaland</td>\n",
              "      <td>Manchester City</td>\n",
              "      <td>22</td>\n",
              "      <td>195</td>\n",
              "      <td>Norway</td>\n",
              "      <td>35</td>\n",
              "      <td>36</td>\n",
              "      <td>8</td>\n",
              "      <td>2777</td>\n",
              "      <td>attack</td>\n",
              "      <td>centre forward</td>\n",
              "      <td>False</td>\n",
              "      <td>170.0</td>\n",
              "    </tr>\n",
              "  </tbody>\n",
              "</table>\n",
              "</div>\n",
              "      <button class=\"colab-df-convert\" onclick=\"convertToInteractive('df-3f7d60d0-0deb-4915-8cd9-a078c7f5c2d3')\"\n",
              "              title=\"Convert this dataframe to an interactive table.\"\n",
              "              style=\"display:none;\">\n",
              "        \n",
              "  <svg xmlns=\"http://www.w3.org/2000/svg\" height=\"24px\"viewBox=\"0 0 24 24\"\n",
              "       width=\"24px\">\n",
              "    <path d=\"M0 0h24v24H0V0z\" fill=\"none\"/>\n",
              "    <path d=\"M18.56 5.44l.94 2.06.94-2.06 2.06-.94-2.06-.94-.94-2.06-.94 2.06-2.06.94zm-11 1L8.5 8.5l.94-2.06 2.06-.94-2.06-.94L8.5 2.5l-.94 2.06-2.06.94zm10 10l.94 2.06.94-2.06 2.06-.94-2.06-.94-.94-2.06-.94 2.06-2.06.94z\"/><path d=\"M17.41 7.96l-1.37-1.37c-.4-.4-.92-.59-1.43-.59-.52 0-1.04.2-1.43.59L10.3 9.45l-7.72 7.72c-.78.78-.78 2.05 0 2.83L4 21.41c.39.39.9.59 1.41.59.51 0 1.02-.2 1.41-.59l7.78-7.78 2.81-2.81c.8-.78.8-2.07 0-2.86zM5.41 20L4 18.59l7.72-7.72 1.47 1.35L5.41 20z\"/>\n",
              "  </svg>\n",
              "      </button>\n",
              "      \n",
              "  <style>\n",
              "    .colab-df-container {\n",
              "      display:flex;\n",
              "      flex-wrap:wrap;\n",
              "      gap: 12px;\n",
              "    }\n",
              "\n",
              "    .colab-df-convert {\n",
              "      background-color: #E8F0FE;\n",
              "      border: none;\n",
              "      border-radius: 50%;\n",
              "      cursor: pointer;\n",
              "      display: none;\n",
              "      fill: #1967D2;\n",
              "      height: 32px;\n",
              "      padding: 0 0 0 0;\n",
              "      width: 32px;\n",
              "    }\n",
              "\n",
              "    .colab-df-convert:hover {\n",
              "      background-color: #E2EBFA;\n",
              "      box-shadow: 0px 1px 2px rgba(60, 64, 67, 0.3), 0px 1px 3px 1px rgba(60, 64, 67, 0.15);\n",
              "      fill: #174EA6;\n",
              "    }\n",
              "\n",
              "    [theme=dark] .colab-df-convert {\n",
              "      background-color: #3B4455;\n",
              "      fill: #D2E3FC;\n",
              "    }\n",
              "\n",
              "    [theme=dark] .colab-df-convert:hover {\n",
              "      background-color: #434B5C;\n",
              "      box-shadow: 0px 1px 3px 1px rgba(0, 0, 0, 0.15);\n",
              "      filter: drop-shadow(0px 1px 2px rgba(0, 0, 0, 0.3));\n",
              "      fill: #FFFFFF;\n",
              "    }\n",
              "  </style>\n",
              "\n",
              "      <script>\n",
              "        const buttonEl =\n",
              "          document.querySelector('#df-3f7d60d0-0deb-4915-8cd9-a078c7f5c2d3 button.colab-df-convert');\n",
              "        buttonEl.style.display =\n",
              "          google.colab.kernel.accessAllowed ? 'block' : 'none';\n",
              "\n",
              "        async function convertToInteractive(key) {\n",
              "          const element = document.querySelector('#df-3f7d60d0-0deb-4915-8cd9-a078c7f5c2d3');\n",
              "          const dataTable =\n",
              "            await google.colab.kernel.invokeFunction('convertToInteractive',\n",
              "                                                     [key], {});\n",
              "          if (!dataTable) return;\n",
              "\n",
              "          const docLinkHtml = 'Like what you see? Visit the ' +\n",
              "            '<a target=\"_blank\" href=https://colab.research.google.com/notebooks/data_table.ipynb>data table notebook</a>'\n",
              "            + ' to learn more about interactive tables.';\n",
              "          element.innerHTML = '';\n",
              "          dataTable['output_type'] = 'display_data';\n",
              "          await google.colab.output.renderOutput(dataTable, element);\n",
              "          const docLink = document.createElement('div');\n",
              "          docLink.innerHTML = docLinkHtml;\n",
              "          element.appendChild(docLink);\n",
              "        }\n",
              "      </script>\n",
              "    </div>\n",
              "  </div>\n",
              "  "
            ]
          },
          "metadata": {},
          "execution_count": 339
        }
      ]
    },
    {
      "cell_type": "code",
      "source": [
        "df[df.assists == df.assists.max()]"
      ],
      "metadata": {
        "colab": {
          "base_uri": "https://localhost:8080/",
          "height": 81
        },
        "id": "p_heaPoJTaSh",
        "outputId": "1749bf8d-90f8-4c8b-d401-3e1386e5c633"
      },
      "execution_count": null,
      "outputs": [
        {
          "output_type": "execute_result",
          "data": {
            "text/plain": [
              "               name             team  age  height   nation  games  goals  \\\n",
              "13  Kevin De Bruyne  Manchester City   31     181  Belgium     32      7   \n",
              "\n",
              "    assists  total_minutes main_position        sub_position  right_foot  \\\n",
              "13       18           2425      midfield  attacking midfield        True   \n",
              "\n",
              "    market_value_m  \n",
              "13            80.0  "
            ],
            "text/html": [
              "\n",
              "  <div id=\"df-dfc9c36b-9bca-4614-9bae-34e7fbf01216\">\n",
              "    <div class=\"colab-df-container\">\n",
              "      <div>\n",
              "<style scoped>\n",
              "    .dataframe tbody tr th:only-of-type {\n",
              "        vertical-align: middle;\n",
              "    }\n",
              "\n",
              "    .dataframe tbody tr th {\n",
              "        vertical-align: top;\n",
              "    }\n",
              "\n",
              "    .dataframe thead th {\n",
              "        text-align: right;\n",
              "    }\n",
              "</style>\n",
              "<table border=\"1\" class=\"dataframe\">\n",
              "  <thead>\n",
              "    <tr style=\"text-align: right;\">\n",
              "      <th></th>\n",
              "      <th>name</th>\n",
              "      <th>team</th>\n",
              "      <th>age</th>\n",
              "      <th>height</th>\n",
              "      <th>nation</th>\n",
              "      <th>games</th>\n",
              "      <th>goals</th>\n",
              "      <th>assists</th>\n",
              "      <th>total_minutes</th>\n",
              "      <th>main_position</th>\n",
              "      <th>sub_position</th>\n",
              "      <th>right_foot</th>\n",
              "      <th>market_value_m</th>\n",
              "    </tr>\n",
              "  </thead>\n",
              "  <tbody>\n",
              "    <tr>\n",
              "      <th>13</th>\n",
              "      <td>Kevin De Bruyne</td>\n",
              "      <td>Manchester City</td>\n",
              "      <td>31</td>\n",
              "      <td>181</td>\n",
              "      <td>Belgium</td>\n",
              "      <td>32</td>\n",
              "      <td>7</td>\n",
              "      <td>18</td>\n",
              "      <td>2425</td>\n",
              "      <td>midfield</td>\n",
              "      <td>attacking midfield</td>\n",
              "      <td>True</td>\n",
              "      <td>80.0</td>\n",
              "    </tr>\n",
              "  </tbody>\n",
              "</table>\n",
              "</div>\n",
              "      <button class=\"colab-df-convert\" onclick=\"convertToInteractive('df-dfc9c36b-9bca-4614-9bae-34e7fbf01216')\"\n",
              "              title=\"Convert this dataframe to an interactive table.\"\n",
              "              style=\"display:none;\">\n",
              "        \n",
              "  <svg xmlns=\"http://www.w3.org/2000/svg\" height=\"24px\"viewBox=\"0 0 24 24\"\n",
              "       width=\"24px\">\n",
              "    <path d=\"M0 0h24v24H0V0z\" fill=\"none\"/>\n",
              "    <path d=\"M18.56 5.44l.94 2.06.94-2.06 2.06-.94-2.06-.94-.94-2.06-.94 2.06-2.06.94zm-11 1L8.5 8.5l.94-2.06 2.06-.94-2.06-.94L8.5 2.5l-.94 2.06-2.06.94zm10 10l.94 2.06.94-2.06 2.06-.94-2.06-.94-.94-2.06-.94 2.06-2.06.94z\"/><path d=\"M17.41 7.96l-1.37-1.37c-.4-.4-.92-.59-1.43-.59-.52 0-1.04.2-1.43.59L10.3 9.45l-7.72 7.72c-.78.78-.78 2.05 0 2.83L4 21.41c.39.39.9.59 1.41.59.51 0 1.02-.2 1.41-.59l7.78-7.78 2.81-2.81c.8-.78.8-2.07 0-2.86zM5.41 20L4 18.59l7.72-7.72 1.47 1.35L5.41 20z\"/>\n",
              "  </svg>\n",
              "      </button>\n",
              "      \n",
              "  <style>\n",
              "    .colab-df-container {\n",
              "      display:flex;\n",
              "      flex-wrap:wrap;\n",
              "      gap: 12px;\n",
              "    }\n",
              "\n",
              "    .colab-df-convert {\n",
              "      background-color: #E8F0FE;\n",
              "      border: none;\n",
              "      border-radius: 50%;\n",
              "      cursor: pointer;\n",
              "      display: none;\n",
              "      fill: #1967D2;\n",
              "      height: 32px;\n",
              "      padding: 0 0 0 0;\n",
              "      width: 32px;\n",
              "    }\n",
              "\n",
              "    .colab-df-convert:hover {\n",
              "      background-color: #E2EBFA;\n",
              "      box-shadow: 0px 1px 2px rgba(60, 64, 67, 0.3), 0px 1px 3px 1px rgba(60, 64, 67, 0.15);\n",
              "      fill: #174EA6;\n",
              "    }\n",
              "\n",
              "    [theme=dark] .colab-df-convert {\n",
              "      background-color: #3B4455;\n",
              "      fill: #D2E3FC;\n",
              "    }\n",
              "\n",
              "    [theme=dark] .colab-df-convert:hover {\n",
              "      background-color: #434B5C;\n",
              "      box-shadow: 0px 1px 3px 1px rgba(0, 0, 0, 0.15);\n",
              "      filter: drop-shadow(0px 1px 2px rgba(0, 0, 0, 0.3));\n",
              "      fill: #FFFFFF;\n",
              "    }\n",
              "  </style>\n",
              "\n",
              "      <script>\n",
              "        const buttonEl =\n",
              "          document.querySelector('#df-dfc9c36b-9bca-4614-9bae-34e7fbf01216 button.colab-df-convert');\n",
              "        buttonEl.style.display =\n",
              "          google.colab.kernel.accessAllowed ? 'block' : 'none';\n",
              "\n",
              "        async function convertToInteractive(key) {\n",
              "          const element = document.querySelector('#df-dfc9c36b-9bca-4614-9bae-34e7fbf01216');\n",
              "          const dataTable =\n",
              "            await google.colab.kernel.invokeFunction('convertToInteractive',\n",
              "                                                     [key], {});\n",
              "          if (!dataTable) return;\n",
              "\n",
              "          const docLinkHtml = 'Like what you see? Visit the ' +\n",
              "            '<a target=\"_blank\" href=https://colab.research.google.com/notebooks/data_table.ipynb>data table notebook</a>'\n",
              "            + ' to learn more about interactive tables.';\n",
              "          element.innerHTML = '';\n",
              "          dataTable['output_type'] = 'display_data';\n",
              "          await google.colab.output.renderOutput(dataTable, element);\n",
              "          const docLink = document.createElement('div');\n",
              "          docLink.innerHTML = docLinkHtml;\n",
              "          element.appendChild(docLink);\n",
              "        }\n",
              "      </script>\n",
              "    </div>\n",
              "  </div>\n",
              "  "
            ]
          },
          "metadata": {},
          "execution_count": 340
        }
      ]
    },
    {
      "cell_type": "markdown",
      "source": [
        "#### *sub_position*"
      ],
      "metadata": {
        "id": "g7fqjHYHWFd2"
      }
    },
    {
      "cell_type": "markdown",
      "source": [
        "Посмотрим на распределение игроков по позициям."
      ],
      "metadata": {
        "id": "Gx-wNgLPy87q"
      }
    },
    {
      "cell_type": "code",
      "source": [
        "fig = px.histogram(df, x=\"sub_position\", width=800);\n",
        "fig.show()"
      ],
      "metadata": {
        "colab": {
          "base_uri": "https://localhost:8080/",
          "height": 542
        },
        "id": "JFapskdSzyoV",
        "outputId": "ed21dad0-3f4a-4eac-d59c-18a5a280e435"
      },
      "execution_count": null,
      "outputs": [
        {
          "output_type": "display_data",
          "data": {
            "text/html": [
              "<html>\n",
              "<head><meta charset=\"utf-8\" /></head>\n",
              "<body>\n",
              "    <div>            <script src=\"https://cdnjs.cloudflare.com/ajax/libs/mathjax/2.7.5/MathJax.js?config=TeX-AMS-MML_SVG\"></script><script type=\"text/javascript\">if (window.MathJax && window.MathJax.Hub && window.MathJax.Hub.Config) {window.MathJax.Hub.Config({SVG: {font: \"STIX-Web\"}});}</script>                <script type=\"text/javascript\">window.PlotlyConfig = {MathJaxConfig: 'local'};</script>\n",
              "        <script src=\"https://cdn.plot.ly/plotly-2.18.2.min.js\"></script>                <div id=\"c059ae6c-2fa1-4a95-b1f8-f18ec2fb4738\" class=\"plotly-graph-div\" style=\"height:525px; width:800px;\"></div>            <script type=\"text/javascript\">                                    window.PLOTLYENV=window.PLOTLYENV || {};                                    if (document.getElementById(\"c059ae6c-2fa1-4a95-b1f8-f18ec2fb4738\")) {                    Plotly.newPlot(                        \"c059ae6c-2fa1-4a95-b1f8-f18ec2fb4738\",                        [{\"alignmentgroup\":\"True\",\"bingroup\":\"x\",\"hovertemplate\":\"sub_position=%{x}<br>count=%{y}<extra></extra>\",\"legendgroup\":\"\",\"marker\":{\"color\":\"#636efa\",\"pattern\":{\"shape\":\"\"}},\"name\":\"\",\"offsetgroup\":\"\",\"orientation\":\"v\",\"showlegend\":false,\"x\":[\"centre back\",\"centre back\",\"centre back\",\"centre back\",\"centre back\",\"left back\",\"right back\",\"right back\",\"defensive midfield\",\"defensive midfield\",\"defensive midfield\",\"central midfield\",\"attacking midfield\",\"attacking midfield\",\"attacking midfield\",\"left winger\",\"left winger\",\"right winger\",\"centre forward\",\"centre forward\",\"centre back\",\"centre back\",\"centre back\",\"centre back\",\"centre back\",\"left back\",\"left back\",\"left back\",\"left back\",\"right back\",\"right back\",\"defensive midfield\",\"defensive midfield\",\"defensive midfield\",\"central midfield\",\"central midfield\",\"central midfield\",\"central midfield\",\"attacking midfield\",\"attacking midfield\",\"left winger\",\"left winger\",\"right winger\",\"right winger\",\"right winger\",\"second striker\",\"centre forward\",\"centre forward\",\"centre forward\",\"centre back\",\"centre back\",\"centre back\",\"centre back\",\"centre back\",\"left back\",\"left back\",\"right back\",\"right back\",\"defensive midfield\",\"defensive midfield\",\"defensive midfield\",\"central midfield\",\"central midfield\",\"right midfield\",\"attacking midfield\",\"attacking midfield\",\"attacking midfield\",\"left winger\",\"left winger\",\"right winger\",\"right winger\",\"right winger\",\"centre forward\",\"centre forward\",\"centre back\",\"centre back\",\"centre back\",\"centre back\",\"centre back\",\"centre back\",\"left back\",\"left back\",\"right back\",\"right back\",\"defensive midfield\",\"defensive midfield\",\"central midfield\",\"central midfield\",\"central midfield\",\"central midfield\",\"central midfield\",\"central midfield\",\"central midfield\",\"attacking midfield\",\"attacking midfield\",\"left winger\",\"left winger\",\"left winger\",\"right winger\",\"centre forward\",\"centre forward\",\"centre back\",\"centre back\",\"centre back\",\"centre back\",\"centre back\",\"centre back\",\"centre back\",\"left back\",\"left back\",\"left back\",\"left back\",\"right back\",\"right back\",\"defensive midfield\",\"defensive midfield\",\"central midfield\",\"central midfield\",\"central midfield\",\"central midfield\",\"central midfield\",\"central midfield\",\"attacking midfield\",\"attacking midfield\",\"left winger\",\"left winger\",\"left winger\",\"left winger\",\"right winger\",\"right winger\",\"right winger\",\"right winger\",\"centre forward\",\"centre forward\",\"centre back\",\"centre back\",\"centre back\",\"centre back\",\"centre back\",\"left back\",\"right back\",\"right back\",\"defensive midfield\",\"central midfield\",\"central midfield\",\"central midfield\",\"central midfield\",\"left midfield\",\"left midfield\",\"left winger\",\"left winger\",\"right winger\",\"right winger\",\"centre forward\",\"centre forward\",\"centre back\",\"centre back\",\"centre back\",\"centre back\",\"centre back\",\"left back\",\"left back\",\"left back\",\"left back\",\"right back\",\"right back\",\"right back\",\"right back\",\"defensive midfield\",\"defensive midfield\",\"central midfield\",\"central midfield\",\"central midfield\",\"central midfield\",\"right midfield\",\"attacking midfield\",\"attacking midfield\",\"left winger\",\"left winger\",\"left winger\",\"right winger\",\"right winger\",\"right winger\",\"centre forward\",\"centre forward\",\"centre back\",\"centre back\",\"centre back\",\"centre back\",\"centre back\",\"left back\",\"left back\",\"right back\",\"right back\",\"defensive midfield\",\"defensive midfield\",\"defensive midfield\",\"central midfield\",\"central midfield\",\"central midfield\",\"central midfield\",\"left winger\",\"left winger\",\"left winger\",\"right winger\",\"right winger\",\"centre forward\",\"centre forward\",\"centre forward\",\"centre forward\",\"centre back\",\"centre back\",\"centre back\",\"centre back\",\"left back\",\"left back\",\"right back\",\"right back\",\"defensive midfield\",\"defensive midfield\",\"defensive midfield\",\"central midfield\",\"attacking midfield\",\"attacking midfield\",\"attacking midfield\",\"left winger\",\"left winger\",\"right winger\",\"centre forward\",\"centre forward\",\"centre forward\",\"centre back\",\"centre back\",\"centre back\",\"centre back\",\"centre back\",\"centre back\",\"left back\",\"left back\",\"left back\",\"right back\",\"right back\",\"right back\",\"defensive midfield\",\"defensive midfield\",\"defensive midfield\",\"defensive midfield\",\"central midfield\",\"central midfield\",\"central midfield\",\"right midfield\",\"attacking midfield\",\"left winger\",\"right winger\",\"centre forward\",\"centre forward\",\"centre forward\",\"centre forward\",\"centre back\",\"centre back\",\"centre back\",\"centre back\",\"centre back\",\"centre back\",\"left back\",\"left back\",\"right back\",\"right back\",\"right back\",\"defensive midfield\",\"defensive midfield\",\"central midfield\",\"central midfield\",\"central midfield\",\"central midfield\",\"attacking midfield\",\"left winger\",\"left winger\",\"left winger\",\"left winger\",\"left winger\",\"right winger\",\"right winger\",\"centre forward\",\"centre forward\",\"centre forward\",\"centre forward\",\"centre forward\",\"centre back\",\"centre back\",\"centre back\",\"centre back\",\"left back\",\"left back\",\"left back\",\"right back\",\"right back\",\"defensive midfield\",\"defensive midfield\",\"defensive midfield\",\"defensive midfield\",\"central midfield\",\"central midfield\",\"central midfield\",\"central midfield\",\"left winger\",\"left winger\",\"right winger\",\"right winger\",\"right winger\",\"centre forward\",\"centre forward\",\"centre forward\",\"centre forward\",\"centre forward\",\"centre back\",\"centre back\",\"centre back\",\"centre back\",\"centre back\",\"left back\",\"left back\",\"right back\",\"right back\",\"right back\",\"right back\",\"defensive midfield\",\"defensive midfield\",\"central midfield\",\"central midfield\",\"central midfield\",\"attacking midfield\",\"attacking midfield\",\"left winger\",\"left winger\",\"left winger\",\"right winger\",\"right winger\",\"right winger\",\"centre forward\",\"centre forward\",\"centre forward\",\"centre forward\",\"centre forward\",\"centre back\",\"centre back\",\"centre back\",\"centre back\",\"centre back\",\"centre back\",\"left back\",\"left back\",\"right back\",\"right back\",\"defensive midfield\",\"defensive midfield\",\"central midfield\",\"central midfield\",\"central midfield\",\"attacking midfield\",\"left winger\",\"left winger\",\"right winger\",\"centre forward\",\"centre forward\",\"centre forward\",\"centre back\",\"centre back\",\"centre back\",\"centre back\",\"left back\",\"right back\",\"right back\",\"defensive midfield\",\"central midfield\",\"central midfield\",\"central midfield\",\"central midfield\",\"central midfield\",\"central midfield\",\"attacking midfield\",\"attacking midfield\",\"attacking midfield\",\"left winger\",\"right winger\",\"centre forward\",\"centre forward\",\"centre forward\",\"centre forward\",\"centre forward\",\"centre back\",\"centre back\",\"centre back\",\"centre back\",\"centre back\",\"centre back\",\"left back\",\"left back\",\"right back\",\"right back\",\"defensive midfield\",\"defensive midfield\",\"central midfield\",\"central midfield\",\"central midfield\",\"central midfield\",\"attacking midfield\",\"left winger\",\"left winger\",\"left winger\",\"left winger\",\"right winger\",\"right winger\",\"centre forward\",\"centre forward\",\"centre back\",\"centre back\",\"centre back\",\"centre back\",\"centre back\",\"centre back\",\"centre back\",\"left back\",\"left back\",\"left back\",\"right back\",\"right back\",\"right back\",\"defensive midfield\",\"defensive midfield\",\"defensive midfield\",\"central midfield\",\"central midfield\",\"central midfield\",\"central midfield\",\"central midfield\",\"central midfield\",\"attacking midfield\",\"attacking midfield\",\"attacking midfield\",\"attacking midfield\",\"left winger\",\"left winger\",\"right winger\",\"centre forward\",\"centre forward\",\"centre forward\",\"centre forward\",\"centre forward\",\"centre back\",\"centre back\",\"centre back\",\"centre back\",\"centre back\",\"left back\",\"right back\",\"right back\",\"defensive midfield\",\"defensive midfield\",\"defensive midfield\",\"central midfield\",\"central midfield\",\"central midfield\",\"left midfield\",\"attacking midfield\",\"left winger\",\"right winger\",\"right winger\",\"centre forward\",\"centre forward\",\"centre forward\",\"centre forward\",\"centre back\",\"centre back\",\"centre back\",\"centre back\",\"left back\",\"left back\",\"right back\",\"right back\",\"right back\",\"defensive midfield\",\"central midfield\",\"central midfield\",\"central midfield\",\"central midfield\",\"attacking midfield\",\"attacking midfield\",\"left winger\",\"left winger\",\"left winger\",\"right winger\",\"right winger\",\"centre forward\",\"centre forward\",\"centre forward\"],\"xaxis\":\"x\",\"yaxis\":\"y\",\"type\":\"histogram\"}],                        {\"template\":{\"data\":{\"histogram2dcontour\":[{\"type\":\"histogram2dcontour\",\"colorbar\":{\"outlinewidth\":0,\"ticks\":\"\"},\"colorscale\":[[0.0,\"#0d0887\"],[0.1111111111111111,\"#46039f\"],[0.2222222222222222,\"#7201a8\"],[0.3333333333333333,\"#9c179e\"],[0.4444444444444444,\"#bd3786\"],[0.5555555555555556,\"#d8576b\"],[0.6666666666666666,\"#ed7953\"],[0.7777777777777778,\"#fb9f3a\"],[0.8888888888888888,\"#fdca26\"],[1.0,\"#f0f921\"]]}],\"choropleth\":[{\"type\":\"choropleth\",\"colorbar\":{\"outlinewidth\":0,\"ticks\":\"\"}}],\"histogram2d\":[{\"type\":\"histogram2d\",\"colorbar\":{\"outlinewidth\":0,\"ticks\":\"\"},\"colorscale\":[[0.0,\"#0d0887\"],[0.1111111111111111,\"#46039f\"],[0.2222222222222222,\"#7201a8\"],[0.3333333333333333,\"#9c179e\"],[0.4444444444444444,\"#bd3786\"],[0.5555555555555556,\"#d8576b\"],[0.6666666666666666,\"#ed7953\"],[0.7777777777777778,\"#fb9f3a\"],[0.8888888888888888,\"#fdca26\"],[1.0,\"#f0f921\"]]}],\"heatmap\":[{\"type\":\"heatmap\",\"colorbar\":{\"outlinewidth\":0,\"ticks\":\"\"},\"colorscale\":[[0.0,\"#0d0887\"],[0.1111111111111111,\"#46039f\"],[0.2222222222222222,\"#7201a8\"],[0.3333333333333333,\"#9c179e\"],[0.4444444444444444,\"#bd3786\"],[0.5555555555555556,\"#d8576b\"],[0.6666666666666666,\"#ed7953\"],[0.7777777777777778,\"#fb9f3a\"],[0.8888888888888888,\"#fdca26\"],[1.0,\"#f0f921\"]]}],\"heatmapgl\":[{\"type\":\"heatmapgl\",\"colorbar\":{\"outlinewidth\":0,\"ticks\":\"\"},\"colorscale\":[[0.0,\"#0d0887\"],[0.1111111111111111,\"#46039f\"],[0.2222222222222222,\"#7201a8\"],[0.3333333333333333,\"#9c179e\"],[0.4444444444444444,\"#bd3786\"],[0.5555555555555556,\"#d8576b\"],[0.6666666666666666,\"#ed7953\"],[0.7777777777777778,\"#fb9f3a\"],[0.8888888888888888,\"#fdca26\"],[1.0,\"#f0f921\"]]}],\"contourcarpet\":[{\"type\":\"contourcarpet\",\"colorbar\":{\"outlinewidth\":0,\"ticks\":\"\"}}],\"contour\":[{\"type\":\"contour\",\"colorbar\":{\"outlinewidth\":0,\"ticks\":\"\"},\"colorscale\":[[0.0,\"#0d0887\"],[0.1111111111111111,\"#46039f\"],[0.2222222222222222,\"#7201a8\"],[0.3333333333333333,\"#9c179e\"],[0.4444444444444444,\"#bd3786\"],[0.5555555555555556,\"#d8576b\"],[0.6666666666666666,\"#ed7953\"],[0.7777777777777778,\"#fb9f3a\"],[0.8888888888888888,\"#fdca26\"],[1.0,\"#f0f921\"]]}],\"surface\":[{\"type\":\"surface\",\"colorbar\":{\"outlinewidth\":0,\"ticks\":\"\"},\"colorscale\":[[0.0,\"#0d0887\"],[0.1111111111111111,\"#46039f\"],[0.2222222222222222,\"#7201a8\"],[0.3333333333333333,\"#9c179e\"],[0.4444444444444444,\"#bd3786\"],[0.5555555555555556,\"#d8576b\"],[0.6666666666666666,\"#ed7953\"],[0.7777777777777778,\"#fb9f3a\"],[0.8888888888888888,\"#fdca26\"],[1.0,\"#f0f921\"]]}],\"mesh3d\":[{\"type\":\"mesh3d\",\"colorbar\":{\"outlinewidth\":0,\"ticks\":\"\"}}],\"scatter\":[{\"fillpattern\":{\"fillmode\":\"overlay\",\"size\":10,\"solidity\":0.2},\"type\":\"scatter\"}],\"parcoords\":[{\"type\":\"parcoords\",\"line\":{\"colorbar\":{\"outlinewidth\":0,\"ticks\":\"\"}}}],\"scatterpolargl\":[{\"type\":\"scatterpolargl\",\"marker\":{\"colorbar\":{\"outlinewidth\":0,\"ticks\":\"\"}}}],\"bar\":[{\"error_x\":{\"color\":\"#2a3f5f\"},\"error_y\":{\"color\":\"#2a3f5f\"},\"marker\":{\"line\":{\"color\":\"#E5ECF6\",\"width\":0.5},\"pattern\":{\"fillmode\":\"overlay\",\"size\":10,\"solidity\":0.2}},\"type\":\"bar\"}],\"scattergeo\":[{\"type\":\"scattergeo\",\"marker\":{\"colorbar\":{\"outlinewidth\":0,\"ticks\":\"\"}}}],\"scatterpolar\":[{\"type\":\"scatterpolar\",\"marker\":{\"colorbar\":{\"outlinewidth\":0,\"ticks\":\"\"}}}],\"histogram\":[{\"marker\":{\"pattern\":{\"fillmode\":\"overlay\",\"size\":10,\"solidity\":0.2}},\"type\":\"histogram\"}],\"scattergl\":[{\"type\":\"scattergl\",\"marker\":{\"colorbar\":{\"outlinewidth\":0,\"ticks\":\"\"}}}],\"scatter3d\":[{\"type\":\"scatter3d\",\"line\":{\"colorbar\":{\"outlinewidth\":0,\"ticks\":\"\"}},\"marker\":{\"colorbar\":{\"outlinewidth\":0,\"ticks\":\"\"}}}],\"scattermapbox\":[{\"type\":\"scattermapbox\",\"marker\":{\"colorbar\":{\"outlinewidth\":0,\"ticks\":\"\"}}}],\"scatterternary\":[{\"type\":\"scatterternary\",\"marker\":{\"colorbar\":{\"outlinewidth\":0,\"ticks\":\"\"}}}],\"scattercarpet\":[{\"type\":\"scattercarpet\",\"marker\":{\"colorbar\":{\"outlinewidth\":0,\"ticks\":\"\"}}}],\"carpet\":[{\"aaxis\":{\"endlinecolor\":\"#2a3f5f\",\"gridcolor\":\"white\",\"linecolor\":\"white\",\"minorgridcolor\":\"white\",\"startlinecolor\":\"#2a3f5f\"},\"baxis\":{\"endlinecolor\":\"#2a3f5f\",\"gridcolor\":\"white\",\"linecolor\":\"white\",\"minorgridcolor\":\"white\",\"startlinecolor\":\"#2a3f5f\"},\"type\":\"carpet\"}],\"table\":[{\"cells\":{\"fill\":{\"color\":\"#EBF0F8\"},\"line\":{\"color\":\"white\"}},\"header\":{\"fill\":{\"color\":\"#C8D4E3\"},\"line\":{\"color\":\"white\"}},\"type\":\"table\"}],\"barpolar\":[{\"marker\":{\"line\":{\"color\":\"#E5ECF6\",\"width\":0.5},\"pattern\":{\"fillmode\":\"overlay\",\"size\":10,\"solidity\":0.2}},\"type\":\"barpolar\"}],\"pie\":[{\"automargin\":true,\"type\":\"pie\"}]},\"layout\":{\"autotypenumbers\":\"strict\",\"colorway\":[\"#636efa\",\"#EF553B\",\"#00cc96\",\"#ab63fa\",\"#FFA15A\",\"#19d3f3\",\"#FF6692\",\"#B6E880\",\"#FF97FF\",\"#FECB52\"],\"font\":{\"color\":\"#2a3f5f\"},\"hovermode\":\"closest\",\"hoverlabel\":{\"align\":\"left\"},\"paper_bgcolor\":\"white\",\"plot_bgcolor\":\"#E5ECF6\",\"polar\":{\"bgcolor\":\"#E5ECF6\",\"angularaxis\":{\"gridcolor\":\"white\",\"linecolor\":\"white\",\"ticks\":\"\"},\"radialaxis\":{\"gridcolor\":\"white\",\"linecolor\":\"white\",\"ticks\":\"\"}},\"ternary\":{\"bgcolor\":\"#E5ECF6\",\"aaxis\":{\"gridcolor\":\"white\",\"linecolor\":\"white\",\"ticks\":\"\"},\"baxis\":{\"gridcolor\":\"white\",\"linecolor\":\"white\",\"ticks\":\"\"},\"caxis\":{\"gridcolor\":\"white\",\"linecolor\":\"white\",\"ticks\":\"\"}},\"coloraxis\":{\"colorbar\":{\"outlinewidth\":0,\"ticks\":\"\"}},\"colorscale\":{\"sequential\":[[0.0,\"#0d0887\"],[0.1111111111111111,\"#46039f\"],[0.2222222222222222,\"#7201a8\"],[0.3333333333333333,\"#9c179e\"],[0.4444444444444444,\"#bd3786\"],[0.5555555555555556,\"#d8576b\"],[0.6666666666666666,\"#ed7953\"],[0.7777777777777778,\"#fb9f3a\"],[0.8888888888888888,\"#fdca26\"],[1.0,\"#f0f921\"]],\"sequentialminus\":[[0.0,\"#0d0887\"],[0.1111111111111111,\"#46039f\"],[0.2222222222222222,\"#7201a8\"],[0.3333333333333333,\"#9c179e\"],[0.4444444444444444,\"#bd3786\"],[0.5555555555555556,\"#d8576b\"],[0.6666666666666666,\"#ed7953\"],[0.7777777777777778,\"#fb9f3a\"],[0.8888888888888888,\"#fdca26\"],[1.0,\"#f0f921\"]],\"diverging\":[[0,\"#8e0152\"],[0.1,\"#c51b7d\"],[0.2,\"#de77ae\"],[0.3,\"#f1b6da\"],[0.4,\"#fde0ef\"],[0.5,\"#f7f7f7\"],[0.6,\"#e6f5d0\"],[0.7,\"#b8e186\"],[0.8,\"#7fbc41\"],[0.9,\"#4d9221\"],[1,\"#276419\"]]},\"xaxis\":{\"gridcolor\":\"white\",\"linecolor\":\"white\",\"ticks\":\"\",\"title\":{\"standoff\":15},\"zerolinecolor\":\"white\",\"automargin\":true,\"zerolinewidth\":2},\"yaxis\":{\"gridcolor\":\"white\",\"linecolor\":\"white\",\"ticks\":\"\",\"title\":{\"standoff\":15},\"zerolinecolor\":\"white\",\"automargin\":true,\"zerolinewidth\":2},\"scene\":{\"xaxis\":{\"backgroundcolor\":\"#E5ECF6\",\"gridcolor\":\"white\",\"linecolor\":\"white\",\"showbackground\":true,\"ticks\":\"\",\"zerolinecolor\":\"white\",\"gridwidth\":2},\"yaxis\":{\"backgroundcolor\":\"#E5ECF6\",\"gridcolor\":\"white\",\"linecolor\":\"white\",\"showbackground\":true,\"ticks\":\"\",\"zerolinecolor\":\"white\",\"gridwidth\":2},\"zaxis\":{\"backgroundcolor\":\"#E5ECF6\",\"gridcolor\":\"white\",\"linecolor\":\"white\",\"showbackground\":true,\"ticks\":\"\",\"zerolinecolor\":\"white\",\"gridwidth\":2}},\"shapedefaults\":{\"line\":{\"color\":\"#2a3f5f\"}},\"annotationdefaults\":{\"arrowcolor\":\"#2a3f5f\",\"arrowhead\":0,\"arrowwidth\":1},\"geo\":{\"bgcolor\":\"white\",\"landcolor\":\"#E5ECF6\",\"subunitcolor\":\"white\",\"showland\":true,\"showlakes\":true,\"lakecolor\":\"white\"},\"title\":{\"x\":0.05},\"mapbox\":{\"style\":\"light\"}}},\"xaxis\":{\"anchor\":\"y\",\"domain\":[0.0,1.0],\"title\":{\"text\":\"sub_position\"}},\"yaxis\":{\"anchor\":\"x\",\"domain\":[0.0,1.0],\"title\":{\"text\":\"count\"}},\"legend\":{\"tracegroupgap\":0},\"margin\":{\"t\":60},\"barmode\":\"relative\",\"width\":800},                        {\"responsive\": true}                    ).then(function(){\n",
              "                            \n",
              "var gd = document.getElementById('c059ae6c-2fa1-4a95-b1f8-f18ec2fb4738');\n",
              "var x = new MutationObserver(function (mutations, observer) {{\n",
              "        var display = window.getComputedStyle(gd).display;\n",
              "        if (!display || display === 'none') {{\n",
              "            console.log([gd, 'removed!']);\n",
              "            Plotly.purge(gd);\n",
              "            observer.disconnect();\n",
              "        }}\n",
              "}});\n",
              "\n",
              "// Listen for the removal of the full notebook cells\n",
              "var notebookContainer = gd.closest('#notebook-container');\n",
              "if (notebookContainer) {{\n",
              "    x.observe(notebookContainer, {childList: true});\n",
              "}}\n",
              "\n",
              "// Listen for the clearing of the current output cell\n",
              "var outputEl = gd.closest('.output');\n",
              "if (outputEl) {{\n",
              "    x.observe(outputEl, {childList: true});\n",
              "}}\n",
              "\n",
              "                        })                };                            </script>        </div>\n",
              "</body>\n",
              "</html>"
            ]
          },
          "metadata": {}
        }
      ]
    },
    {
      "cell_type": "markdown",
      "source": [
        "Видим, что больше всего в командах Премьер-Лиги центральных защитников, а игроков, играющих на позиции второго форварда, правого и левого полузащитников, осталось очень мало."
      ],
      "metadata": {
        "id": "yBw9Rdiqvdj_"
      }
    },
    {
      "cell_type": "markdown",
      "source": [
        "#### *right_foot*"
      ],
      "metadata": {
        "id": "3NpChzjyWZBu"
      }
    },
    {
      "cell_type": "markdown",
      "source": [
        "Смотрим на распределение левшей и правшей в датасете."
      ],
      "metadata": {
        "id": "nyJf7l1fVagy"
      }
    },
    {
      "cell_type": "code",
      "source": [
        "values = [df[df.right_foot == True].shape[0],\n",
        "          df[df.right_foot == False].shape[0]]\n",
        "colors = sns.color_palette('pastel')[:2]\n",
        "plt.pie(values, labels=['Right-footed', 'Left-footed'],\n",
        "        colors=colors, autopct='%.0f%%');"
      ],
      "metadata": {
        "colab": {
          "base_uri": "https://localhost:8080/",
          "height": 406
        },
        "id": "mKU_T03PSb2u",
        "outputId": "3e658a05-d340-4256-cc8f-982f1e23c939"
      },
      "execution_count": null,
      "outputs": [
        {
          "output_type": "display_data",
          "data": {
            "text/plain": [
              "<Figure size 640x480 with 1 Axes>"
            ],
            "image/png": "[encoded data removed]"
          },
          "metadata": {}
        }
      ]
    },
    {
      "cell_type": "markdown",
      "source": [
        "Видим, что \"правоногие футболисты\" составляют 70% от всех футболистов."
      ],
      "metadata": {
        "id": "Vw8EA-Pnscjv"
      }
    },
    {
      "cell_type": "markdown",
      "source": [
        "#### *market_value_m*"
      ],
      "metadata": {
        "id": "bpBwF02EXcoX"
      }
    },
    {
      "cell_type": "markdown",
      "source": [
        "Нацонец, можем посмотреть на распределение футболистов по их трансферной стоимости."
      ],
      "metadata": {
        "id": "rjNPlD-2T8fA"
      }
    },
    {
      "cell_type": "code",
      "source": [
        "fig = px.histogram(df, x=\"market_value_m\", width=800, nbins=50,\n",
        "                   title=\"Распределение футболистов по трансферной стоимости\")\n",
        "fig.show()"
      ],
      "metadata": {
        "colab": {
          "base_uri": "https://localhost:8080/",
          "height": 542
        },
        "id": "W0Abe9e-UDUO",
        "outputId": "fad43aa9-1165-4f22-d2f3-101e0ece73cf"
      },
      "execution_count": null,
      "outputs": [
        {
          "output_type": "display_data",
          "data": {
            "text/html": [
              "<html>\n",
              "<head><meta charset=\"utf-8\" /></head>\n",
              "<body>\n",
              "    <div>            <script src=\"https://cdnjs.cloudflare.com/ajax/libs/mathjax/2.7.5/MathJax.js?config=TeX-AMS-MML_SVG\"></script><script type=\"text/javascript\">if (window.MathJax && window.MathJax.Hub && window.MathJax.Hub.Config) {window.MathJax.Hub.Config({SVG: {font: \"STIX-Web\"}});}</script>                <script type=\"text/javascript\">window.PlotlyConfig = {MathJaxConfig: 'local'};</script>\n",
              "        <script src=\"https://cdn.plot.ly/plotly-2.18.2.min.js\"></script>                <div id=\"e917b055-b2cf-46c7-940d-42ebaa03c284\" class=\"plotly-graph-div\" style=\"height:525px; width:800px;\"></div>            <script type=\"text/javascript\">                                    window.PLOTLYENV=window.PLOTLYENV || {};                                    if (document.getElementById(\"e917b055-b2cf-46c7-940d-42ebaa03c284\")) {                    Plotly.newPlot(                        \"e917b055-b2cf-46c7-940d-42ebaa03c284\",                        [{\"alignmentgroup\":\"True\",\"bingroup\":\"x\",\"hovertemplate\":\"market_value_m=%{x}<br>count=%{y}<extra></extra>\",\"legendgroup\":\"\",\"marker\":{\"color\":\"#636efa\",\"pattern\":{\"shape\":\"\"}},\"name\":\"\",\"nbinsx\":50,\"offsetgroup\":\"\",\"orientation\":\"v\",\"showlegend\":false,\"x\":[75.0,35.0,30.0,30.0,30.0,15.0,15.0,15.0,80.0,35.0,10.0,25.0,80.0,80.0,15.0,110.0,70.0,30.0,170.0,50.0,65.0,40.0,25.0,22.0,2.5,40.0,35.0,8.0,1.2,70.0,8.0,85.0,20.0,20.0,40.0,32.0,25.0,15.0,65.0,60.0,60.0,60.0,32.0,28.0,18.0,50.0,30.0,10.0,7.0,55.0,50.0,20.0,10.0,10.0,40.0,25.0,50.0,25.0,38.0,35.0,9.0,28.0,15.0,8.0,80.0,38.0,27.0,70.0,30.0,110.0,12.0,7.0,75.0,25.0,45.0,35.0,30.0,16.0,6.0,3.0,48.0,18.0,65.0,5.0,45.0,13.0,18.0,17.0,17.0,15.0,10.0,10.0,2.0,35.0,20.0,75.0,60.0,55.0,70.0,70.0,22.0,50.0,40.0,25.0,15.0,4.5,2.0,2.0,35.0,22.0,10.0,7.0,35.0,22.0,50.0,25.0,25.0,20.0,20.0,17.0,0.8,0.8,75.0,8.0,80.0,55.0,25.0,25.0,70.0,18.0,4.0,3.0,15.0,14.0,60.0,25.0,20.0,12.0,9.0,20.0,35.0,25.0,15.0,45.0,40.0,25.0,15.0,22.0,10.0,60.0,27.0,55.0,9.0,90.0,55.0,45.0,10.0,7.0,0.6,0.2,15.0,12.0,8.0,1.2,13.0,4.0,3.0,1.0,60.0,3.5,30.0,22.0,1.5,1.5,1.8,38.0,3.5,40.0,35.0,8.0,35.0,10.0,0.8,50.0,18.0,30.0,25.0,22.0,8.0,2.2,20.0,17.0,22.0,1.0,25.0,17.0,4.0,35.0,32.0,27.0,5.0,25.0,14.0,2.8,28.0,14.0,32.0,12.0,12.0,3.0,32.0,28.0,18.0,1.0,12.0,2.5,12.0,9.0,80.0,35.0,1.8,8.0,45.0,25.0,8.0,22.0,15.0,38.0,27.0,16.0,9.0,20.0,15.0,15.0,15.0,5.0,3.0,12.0,10.0,1.0,28.0,25.0,12.0,32.0,20.0,5.0,3.5,30.0,25.0,8.0,1.0,55.0,32.0,25.0,20.0,17.0,4.0,0.8,20.0,18.0,14.0,14.0,5.0,4.0,12.0,7.0,25.0,25.0,3.0,25.0,8.0,38.0,12.0,6.0,3.5,15.0,22.0,12.0,10.0,7.0,7.0,18.0,1.8,22.0,17.0,12.0,12.0,0.9,25.0,22.0,2.5,2.5,22.0,17.0,0.2,15.0,3.5,40.0,10.0,5.0,0.5,45.0,15.0,3.0,2.0,20.0,2.5,32.0,16.0,12.0,30.0,18.0,12.0,9.0,3.5,18.0,12.0,5.0,5.0,1.5,20.0,12.0,15.0,3.5,2.0,2.0,20.0,15.0,21.0,2.0,1.8,30.0,4.0,22.0,22.0,18.0,13.0,12.0,0.9,22.0,10.0,9.0,8.0,3.0,22.0,18.0,15.0,12.0,12.0,10.0,22.0,5.0,14.0,1.2,42.0,14.0,12.0,12.0,8.0,25.0,20.0,18.0,2.5,25.0,13.0,4.0,22.0,18.0,4.0,0.5,20.0,15.0,10.0,55.0,42.0,12.0,9.0,8.0,4.0,0.4,9.0,5.0,1.5,22.0,18.0,11.0,10.0,8.0,6.0,4.0,16.0,12.0,5.0,1.8,1.5,0.6,22.0,18.0,2.2,0.4,16.0,14.0,14.0,9.0,9.0,3.0,2.2,15.0,15.0,15.0,1.8,28.0,20.0,50.0,2.0,18.0,10.0,8.0,4.0,3.0,3.0,3.0,20.0,7.0,3.5,18.0,7.0,6.0,25.0,3.0,0.8,12.0,10.0,8.0,7.0,0.6,0.6,30.0,30.0,12.0,12.0,2.2,0.6,1.8,20.0,10.0,10.0,3.5,0.35,35.0,32.0,10.0,2.0,1.0,28.0,3.0,2.0,30.0,4.0,2.5,10.0,5.0,0.7,8.0,30.0,27.0,27.0,3.0,17.0,9.0,6.0,1.2,18.0,15.0,2.5,1.0,12.0,4.0,12.0,4.0,0.5,35.0,15.0,13.0,2.0,0.5,16.0,7.0,18.0,3.0,3.0,13.0,0.9,28.0,5.0,5.0],\"xaxis\":\"x\",\"yaxis\":\"y\",\"type\":\"histogram\"}],                        {\"template\":{\"data\":{\"histogram2dcontour\":[{\"type\":\"histogram2dcontour\",\"colorbar\":{\"outlinewidth\":0,\"ticks\":\"\"},\"colorscale\":[[0.0,\"#0d0887\"],[0.1111111111111111,\"#46039f\"],[0.2222222222222222,\"#7201a8\"],[0.3333333333333333,\"#9c179e\"],[0.4444444444444444,\"#bd3786\"],[0.5555555555555556,\"#d8576b\"],[0.6666666666666666,\"#ed7953\"],[0.7777777777777778,\"#fb9f3a\"],[0.8888888888888888,\"#fdca26\"],[1.0,\"#f0f921\"]]}],\"choropleth\":[{\"type\":\"choropleth\",\"colorbar\":{\"outlinewidth\":0,\"ticks\":\"\"}}],\"histogram2d\":[{\"type\":\"histogram2d\",\"colorbar\":{\"outlinewidth\":0,\"ticks\":\"\"},\"colorscale\":[[0.0,\"#0d0887\"],[0.1111111111111111,\"#46039f\"],[0.2222222222222222,\"#7201a8\"],[0.3333333333333333,\"#9c179e\"],[0.4444444444444444,\"#bd3786\"],[0.5555555555555556,\"#d8576b\"],[0.6666666666666666,\"#ed7953\"],[0.7777777777777778,\"#fb9f3a\"],[0.8888888888888888,\"#fdca26\"],[1.0,\"#f0f921\"]]}],\"heatmap\":[{\"type\":\"heatmap\",\"colorbar\":{\"outlinewidth\":0,\"ticks\":\"\"},\"colorscale\":[[0.0,\"#0d0887\"],[0.1111111111111111,\"#46039f\"],[0.2222222222222222,\"#7201a8\"],[0.3333333333333333,\"#9c179e\"],[0.4444444444444444,\"#bd3786\"],[0.5555555555555556,\"#d8576b\"],[0.6666666666666666,\"#ed7953\"],[0.7777777777777778,\"#fb9f3a\"],[0.8888888888888888,\"#fdca26\"],[1.0,\"#f0f921\"]]}],\"heatmapgl\":[{\"type\":\"heatmapgl\",\"colorbar\":{\"outlinewidth\":0,\"ticks\":\"\"},\"colorscale\":[[0.0,\"#0d0887\"],[0.1111111111111111,\"#46039f\"],[0.2222222222222222,\"#7201a8\"],[0.3333333333333333,\"#9c179e\"],[0.4444444444444444,\"#bd3786\"],[0.5555555555555556,\"#d8576b\"],[0.6666666666666666,\"#ed7953\"],[0.7777777777777778,\"#fb9f3a\"],[0.8888888888888888,\"#fdca26\"],[1.0,\"#f0f921\"]]}],\"contourcarpet\":[{\"type\":\"contourcarpet\",\"colorbar\":{\"outlinewidth\":0,\"ticks\":\"\"}}],\"contour\":[{\"type\":\"contour\",\"colorbar\":{\"outlinewidth\":0,\"ticks\":\"\"},\"colorscale\":[[0.0,\"#0d0887\"],[0.1111111111111111,\"#46039f\"],[0.2222222222222222,\"#7201a8\"],[0.3333333333333333,\"#9c179e\"],[0.4444444444444444,\"#bd3786\"],[0.5555555555555556,\"#d8576b\"],[0.6666666666666666,\"#ed7953\"],[0.7777777777777778,\"#fb9f3a\"],[0.8888888888888888,\"#fdca26\"],[1.0,\"#f0f921\"]]}],\"surface\":[{\"type\":\"surface\",\"colorbar\":{\"outlinewidth\":0,\"ticks\":\"\"},\"colorscale\":[[0.0,\"#0d0887\"],[0.1111111111111111,\"#46039f\"],[0.2222222222222222,\"#7201a8\"],[0.3333333333333333,\"#9c179e\"],[0.4444444444444444,\"#bd3786\"],[0.5555555555555556,\"#d8576b\"],[0.6666666666666666,\"#ed7953\"],[0.7777777777777778,\"#fb9f3a\"],[0.8888888888888888,\"#fdca26\"],[1.0,\"#f0f921\"]]}],\"mesh3d\":[{\"type\":\"mesh3d\",\"colorbar\":{\"outlinewidth\":0,\"ticks\":\"\"}}],\"scatter\":[{\"fillpattern\":{\"fillmode\":\"overlay\",\"size\":10,\"solidity\":0.2},\"type\":\"scatter\"}],\"parcoords\":[{\"type\":\"parcoords\",\"line\":{\"colorbar\":{\"outlinewidth\":0,\"ticks\":\"\"}}}],\"scatterpolargl\":[{\"type\":\"scatterpolargl\",\"marker\":{\"colorbar\":{\"outlinewidth\":0,\"ticks\":\"\"}}}],\"bar\":[{\"error_x\":{\"color\":\"#2a3f5f\"},\"error_y\":{\"color\":\"#2a3f5f\"},\"marker\":{\"line\":{\"color\":\"#E5ECF6\",\"width\":0.5},\"pattern\":{\"fillmode\":\"overlay\",\"size\":10,\"solidity\":0.2}},\"type\":\"bar\"}],\"scattergeo\":[{\"type\":\"scattergeo\",\"marker\":{\"colorbar\":{\"outlinewidth\":0,\"ticks\":\"\"}}}],\"scatterpolar\":[{\"type\":\"scatterpolar\",\"marker\":{\"colorbar\":{\"outlinewidth\":0,\"ticks\":\"\"}}}],\"histogram\":[{\"marker\":{\"pattern\":{\"fillmode\":\"overlay\",\"size\":10,\"solidity\":0.2}},\"type\":\"histogram\"}],\"scattergl\":[{\"type\":\"scattergl\",\"marker\":{\"colorbar\":{\"outlinewidth\":0,\"ticks\":\"\"}}}],\"scatter3d\":[{\"type\":\"scatter3d\",\"line\":{\"colorbar\":{\"outlinewidth\":0,\"ticks\":\"\"}},\"marker\":{\"colorbar\":{\"outlinewidth\":0,\"ticks\":\"\"}}}],\"scattermapbox\":[{\"type\":\"scattermapbox\",\"marker\":{\"colorbar\":{\"outlinewidth\":0,\"ticks\":\"\"}}}],\"scatterternary\":[{\"type\":\"scatterternary\",\"marker\":{\"colorbar\":{\"outlinewidth\":0,\"ticks\":\"\"}}}],\"scattercarpet\":[{\"type\":\"scattercarpet\",\"marker\":{\"colorbar\":{\"outlinewidth\":0,\"ticks\":\"\"}}}],\"carpet\":[{\"aaxis\":{\"endlinecolor\":\"#2a3f5f\",\"gridcolor\":\"white\",\"linecolor\":\"white\",\"minorgridcolor\":\"white\",\"startlinecolor\":\"#2a3f5f\"},\"baxis\":{\"endlinecolor\":\"#2a3f5f\",\"gridcolor\":\"white\",\"linecolor\":\"white\",\"minorgridcolor\":\"white\",\"startlinecolor\":\"#2a3f5f\"},\"type\":\"carpet\"}],\"table\":[{\"cells\":{\"fill\":{\"color\":\"#EBF0F8\"},\"line\":{\"color\":\"white\"}},\"header\":{\"fill\":{\"color\":\"#C8D4E3\"},\"line\":{\"color\":\"white\"}},\"type\":\"table\"}],\"barpolar\":[{\"marker\":{\"line\":{\"color\":\"#E5ECF6\",\"width\":0.5},\"pattern\":{\"fillmode\":\"overlay\",\"size\":10,\"solidity\":0.2}},\"type\":\"barpolar\"}],\"pie\":[{\"automargin\":true,\"type\":\"pie\"}]},\"layout\":{\"autotypenumbers\":\"strict\",\"colorway\":[\"#636efa\",\"#EF553B\",\"#00cc96\",\"#ab63fa\",\"#FFA15A\",\"#19d3f3\",\"#FF6692\",\"#B6E880\",\"#FF97FF\",\"#FECB52\"],\"font\":{\"color\":\"#2a3f5f\"},\"hovermode\":\"closest\",\"hoverlabel\":{\"align\":\"left\"},\"paper_bgcolor\":\"white\",\"plot_bgcolor\":\"#E5ECF6\",\"polar\":{\"bgcolor\":\"#E5ECF6\",\"angularaxis\":{\"gridcolor\":\"white\",\"linecolor\":\"white\",\"ticks\":\"\"},\"radialaxis\":{\"gridcolor\":\"white\",\"linecolor\":\"white\",\"ticks\":\"\"}},\"ternary\":{\"bgcolor\":\"#E5ECF6\",\"aaxis\":{\"gridcolor\":\"white\",\"linecolor\":\"white\",\"ticks\":\"\"},\"baxis\":{\"gridcolor\":\"white\",\"linecolor\":\"white\",\"ticks\":\"\"},\"caxis\":{\"gridcolor\":\"white\",\"linecolor\":\"white\",\"ticks\":\"\"}},\"coloraxis\":{\"colorbar\":{\"outlinewidth\":0,\"ticks\":\"\"}},\"colorscale\":{\"sequential\":[[0.0,\"#0d0887\"],[0.1111111111111111,\"#46039f\"],[0.2222222222222222,\"#7201a8\"],[0.3333333333333333,\"#9c179e\"],[0.4444444444444444,\"#bd3786\"],[0.5555555555555556,\"#d8576b\"],[0.6666666666666666,\"#ed7953\"],[0.7777777777777778,\"#fb9f3a\"],[0.8888888888888888,\"#fdca26\"],[1.0,\"#f0f921\"]],\"sequentialminus\":[[0.0,\"#0d0887\"],[0.1111111111111111,\"#46039f\"],[0.2222222222222222,\"#7201a8\"],[0.3333333333333333,\"#9c179e\"],[0.4444444444444444,\"#bd3786\"],[0.5555555555555556,\"#d8576b\"],[0.6666666666666666,\"#ed7953\"],[0.7777777777777778,\"#fb9f3a\"],[0.8888888888888888,\"#fdca26\"],[1.0,\"#f0f921\"]],\"diverging\":[[0,\"#8e0152\"],[0.1,\"#c51b7d\"],[0.2,\"#de77ae\"],[0.3,\"#f1b6da\"],[0.4,\"#fde0ef\"],[0.5,\"#f7f7f7\"],[0.6,\"#e6f5d0\"],[0.7,\"#b8e186\"],[0.8,\"#7fbc41\"],[0.9,\"#4d9221\"],[1,\"#276419\"]]},\"xaxis\":{\"gridcolor\":\"white\",\"linecolor\":\"white\",\"ticks\":\"\",\"title\":{\"standoff\":15},\"zerolinecolor\":\"white\",\"automargin\":true,\"zerolinewidth\":2},\"yaxis\":{\"gridcolor\":\"white\",\"linecolor\":\"white\",\"ticks\":\"\",\"title\":{\"standoff\":15},\"zerolinecolor\":\"white\",\"automargin\":true,\"zerolinewidth\":2},\"scene\":{\"xaxis\":{\"backgroundcolor\":\"#E5ECF6\",\"gridcolor\":\"white\",\"linecolor\":\"white\",\"showbackground\":true,\"ticks\":\"\",\"zerolinecolor\":\"white\",\"gridwidth\":2},\"yaxis\":{\"backgroundcolor\":\"#E5ECF6\",\"gridcolor\":\"white\",\"linecolor\":\"white\",\"showbackground\":true,\"ticks\":\"\",\"zerolinecolor\":\"white\",\"gridwidth\":2},\"zaxis\":{\"backgroundcolor\":\"#E5ECF6\",\"gridcolor\":\"white\",\"linecolor\":\"white\",\"showbackground\":true,\"ticks\":\"\",\"zerolinecolor\":\"white\",\"gridwidth\":2}},\"shapedefaults\":{\"line\":{\"color\":\"#2a3f5f\"}},\"annotationdefaults\":{\"arrowcolor\":\"#2a3f5f\",\"arrowhead\":0,\"arrowwidth\":1},\"geo\":{\"bgcolor\":\"white\",\"landcolor\":\"#E5ECF6\",\"subunitcolor\":\"white\",\"showland\":true,\"showlakes\":true,\"lakecolor\":\"white\"},\"title\":{\"x\":0.05},\"mapbox\":{\"style\":\"light\"}}},\"xaxis\":{\"anchor\":\"y\",\"domain\":[0.0,1.0],\"title\":{\"text\":\"market_value_m\"}},\"yaxis\":{\"anchor\":\"x\",\"domain\":[0.0,1.0],\"title\":{\"text\":\"count\"}},\"legend\":{\"tracegroupgap\":0},\"title\":{\"text\":\"\\u0420\\u0430\\u0441\\u043f\\u0440\\u0435\\u0434\\u0435\\u043b\\u0435\\u043d\\u0438\\u0435 \\u0444\\u0443\\u0442\\u0431\\u043e\\u043b\\u0438\\u0441\\u0442\\u043e\\u0432 \\u043f\\u043e \\u0442\\u0440\\u0430\\u043d\\u0441\\u0444\\u0435\\u0440\\u043d\\u043e\\u0439 \\u0441\\u0442\\u043e\\u0438\\u043c\\u043e\\u0441\\u0442\\u0438\"},\"barmode\":\"relative\",\"width\":800},                        {\"responsive\": true}                    ).then(function(){\n",
              "                            \n",
              "var gd = document.getElementById('e917b055-b2cf-46c7-940d-42ebaa03c284');\n",
              "var x = new MutationObserver(function (mutations, observer) {{\n",
              "        var display = window.getComputedStyle(gd).display;\n",
              "        if (!display || display === 'none') {{\n",
              "            console.log([gd, 'removed!']);\n",
              "            Plotly.purge(gd);\n",
              "            observer.disconnect();\n",
              "        }}\n",
              "}});\n",
              "\n",
              "// Listen for the removal of the full notebook cells\n",
              "var notebookContainer = gd.closest('#notebook-container');\n",
              "if (notebookContainer) {{\n",
              "    x.observe(notebookContainer, {childList: true});\n",
              "}}\n",
              "\n",
              "// Listen for the clearing of the current output cell\n",
              "var outputEl = gd.closest('.output');\n",
              "if (outputEl) {{\n",
              "    x.observe(outputEl, {childList: true});\n",
              "}}\n",
              "\n",
              "                        })                };                            </script>        </div>\n",
              "</body>\n",
              "</html>"
            ]
          },
          "metadata": {}
        }
      ]
    },
    {
      "cell_type": "markdown",
      "source": [
        "Распределение также похоже на экспоненциальное."
      ],
      "metadata": {
        "id": "6JPR3a4sUX0t"
      }
    },
    {
      "cell_type": "code",
      "source": [
        "print(\"Средняя цена футболиста: \", df.market_value_m.mean())\n",
        "print(\"                Медиана: \", df.market_value_m.median())"
      ],
      "metadata": {
        "colab": {
          "base_uri": "https://localhost:8080/"
        },
        "id": "12BnixaQUazy",
        "outputId": "ae2a0e38-dc47-4707-d562-b9845e42745e"
      },
      "execution_count": null,
      "outputs": [
        {
          "output_type": "stream",
          "name": "stdout",
          "text": [
            "Средняя цена футболиста:  19.888004032258067\n",
            "                Медиана:  15.0\n"
          ]
        }
      ]
    },
    {
      "cell_type": "markdown",
      "source": [
        "Самый дорогой футболист:"
      ],
      "metadata": {
        "id": "rlRB3XxLUtn1"
      }
    },
    {
      "cell_type": "code",
      "source": [
        "df[df.market_value_m == df.market_value_m.max()]"
      ],
      "metadata": {
        "colab": {
          "base_uri": "https://localhost:8080/",
          "height": 81
        },
        "id": "l62M2BhOUxPK",
        "outputId": "19fcaa57-021f-40e8-c76f-1b51f6b2f856"
      },
      "execution_count": null,
      "outputs": [
        {
          "output_type": "execute_result",
          "data": {
            "text/plain": [
              "              name             team  age  height  nation  games  goals  \\\n",
              "19  Erling Haaland  Manchester City   22     195  Norway     35     36   \n",
              "\n",
              "    assists  total_minutes main_position    sub_position  right_foot  \\\n",
              "19        8           2777        attack  centre forward       False   \n",
              "\n",
              "    market_value_m  \n",
              "19           170.0  "
            ],
            "text/html": [
              "\n",
              "  <div id=\"df-99fc0766-5a13-4c4a-8fb3-ddd41fc5e446\">\n",
              "    <div class=\"colab-df-container\">\n",
              "      <div>\n",
              "<style scoped>\n",
              "    .dataframe tbody tr th:only-of-type {\n",
              "        vertical-align: middle;\n",
              "    }\n",
              "\n",
              "    .dataframe tbody tr th {\n",
              "        vertical-align: top;\n",
              "    }\n",
              "\n",
              "    .dataframe thead th {\n",
              "        text-align: right;\n",
              "    }\n",
              "</style>\n",
              "<table border=\"1\" class=\"dataframe\">\n",
              "  <thead>\n",
              "    <tr style=\"text-align: right;\">\n",
              "      <th></th>\n",
              "      <th>name</th>\n",
              "      <th>team</th>\n",
              "      <th>age</th>\n",
              "      <th>height</th>\n",
              "      <th>nation</th>\n",
              "      <th>games</th>\n",
              "      <th>goals</th>\n",
              "      <th>assists</th>\n",
              "      <th>total_minutes</th>\n",
              "      <th>main_position</th>\n",
              "      <th>sub_position</th>\n",
              "      <th>right_foot</th>\n",
              "      <th>market_value_m</th>\n",
              "    </tr>\n",
              "  </thead>\n",
              "  <tbody>\n",
              "    <tr>\n",
              "      <th>19</th>\n",
              "      <td>Erling Haaland</td>\n",
              "      <td>Manchester City</td>\n",
              "      <td>22</td>\n",
              "      <td>195</td>\n",
              "      <td>Norway</td>\n",
              "      <td>35</td>\n",
              "      <td>36</td>\n",
              "      <td>8</td>\n",
              "      <td>2777</td>\n",
              "      <td>attack</td>\n",
              "      <td>centre forward</td>\n",
              "      <td>False</td>\n",
              "      <td>170.0</td>\n",
              "    </tr>\n",
              "  </tbody>\n",
              "</table>\n",
              "</div>\n",
              "      <button class=\"colab-df-convert\" onclick=\"convertToInteractive('df-99fc0766-5a13-4c4a-8fb3-ddd41fc5e446')\"\n",
              "              title=\"Convert this dataframe to an interactive table.\"\n",
              "              style=\"display:none;\">\n",
              "        \n",
              "  <svg xmlns=\"http://www.w3.org/2000/svg\" height=\"24px\"viewBox=\"0 0 24 24\"\n",
              "       width=\"24px\">\n",
              "    <path d=\"M0 0h24v24H0V0z\" fill=\"none\"/>\n",
              "    <path d=\"M18.56 5.44l.94 2.06.94-2.06 2.06-.94-2.06-.94-.94-2.06-.94 2.06-2.06.94zm-11 1L8.5 8.5l.94-2.06 2.06-.94-2.06-.94L8.5 2.5l-.94 2.06-2.06.94zm10 10l.94 2.06.94-2.06 2.06-.94-2.06-.94-.94-2.06-.94 2.06-2.06.94z\"/><path d=\"M17.41 7.96l-1.37-1.37c-.4-.4-.92-.59-1.43-.59-.52 0-1.04.2-1.43.59L10.3 9.45l-7.72 7.72c-.78.78-.78 2.05 0 2.83L4 21.41c.39.39.9.59 1.41.59.51 0 1.02-.2 1.41-.59l7.78-7.78 2.81-2.81c.8-.78.8-2.07 0-2.86zM5.41 20L4 18.59l7.72-7.72 1.47 1.35L5.41 20z\"/>\n",
              "  </svg>\n",
              "      </button>\n",
              "      \n",
              "  <style>\n",
              "    .colab-df-container {\n",
              "      display:flex;\n",
              "      flex-wrap:wrap;\n",
              "      gap: 12px;\n",
              "    }\n",
              "\n",
              "    .colab-df-convert {\n",
              "      background-color: #E8F0FE;\n",
              "      border: none;\n",
              "      border-radius: 50%;\n",
              "      cursor: pointer;\n",
              "      display: none;\n",
              "      fill: #1967D2;\n",
              "      height: 32px;\n",
              "      padding: 0 0 0 0;\n",
              "      width: 32px;\n",
              "    }\n",
              "\n",
              "    .colab-df-convert:hover {\n",
              "      background-color: #E2EBFA;\n",
              "      box-shadow: 0px 1px 2px rgba(60, 64, 67, 0.3), 0px 1px 3px 1px rgba(60, 64, 67, 0.15);\n",
              "      fill: #174EA6;\n",
              "    }\n",
              "\n",
              "    [theme=dark] .colab-df-convert {\n",
              "      background-color: #3B4455;\n",
              "      fill: #D2E3FC;\n",
              "    }\n",
              "\n",
              "    [theme=dark] .colab-df-convert:hover {\n",
              "      background-color: #434B5C;\n",
              "      box-shadow: 0px 1px 3px 1px rgba(0, 0, 0, 0.15);\n",
              "      filter: drop-shadow(0px 1px 2px rgba(0, 0, 0, 0.3));\n",
              "      fill: #FFFFFF;\n",
              "    }\n",
              "  </style>\n",
              "\n",
              "      <script>\n",
              "        const buttonEl =\n",
              "          document.querySelector('#df-99fc0766-5a13-4c4a-8fb3-ddd41fc5e446 button.colab-df-convert');\n",
              "        buttonEl.style.display =\n",
              "          google.colab.kernel.accessAllowed ? 'block' : 'none';\n",
              "\n",
              "        async function convertToInteractive(key) {\n",
              "          const element = document.querySelector('#df-99fc0766-5a13-4c4a-8fb3-ddd41fc5e446');\n",
              "          const dataTable =\n",
              "            await google.colab.kernel.invokeFunction('convertToInteractive',\n",
              "                                                     [key], {});\n",
              "          if (!dataTable) return;\n",
              "\n",
              "          const docLinkHtml = 'Like what you see? Visit the ' +\n",
              "            '<a target=\"_blank\" href=https://colab.research.google.com/notebooks/data_table.ipynb>data table notebook</a>'\n",
              "            + ' to learn more about interactive tables.';\n",
              "          element.innerHTML = '';\n",
              "          dataTable['output_type'] = 'display_data';\n",
              "          await google.colab.output.renderOutput(dataTable, element);\n",
              "          const docLink = document.createElement('div');\n",
              "          docLink.innerHTML = docLinkHtml;\n",
              "          element.appendChild(docLink);\n",
              "        }\n",
              "      </script>\n",
              "    </div>\n",
              "  </div>\n",
              "  "
            ]
          },
          "metadata": {},
          "execution_count": 345
        }
      ]
    },
    {
      "cell_type": "markdown",
      "source": [
        "Это тот же футболист, что забил наибольшее количество голов в сезоне."
      ],
      "metadata": {
        "id": "jmjN8FG_U8Dd"
      }
    },
    {
      "cell_type": "markdown",
      "source": [
        "### Исследование связи между переменными"
      ],
      "metadata": {
        "id": "P07xOmUrXlgR"
      }
    },
    {
      "cell_type": "markdown",
      "source": [
        "#### *team & market_value_m*"
      ],
      "metadata": {
        "id": "FdWpqjDsXrCa"
      }
    },
    {
      "cell_type": "markdown",
      "source": [
        "Смотрим команды с самыми дорогими игроками."
      ],
      "metadata": {
        "id": "B_H5ZFR4RFCP"
      }
    },
    {
      "cell_type": "markdown",
      "source": [
        "Вывыдем средние стоимости игроков в командах по убыванию."
      ],
      "metadata": {
        "id": "TNnY-nzIrr6y"
      }
    },
    {
      "cell_type": "code",
      "source": [
        "mean_market_values = df.groupby(by='team')['market_value_m'].mean()"
      ],
      "metadata": {
        "id": "PhzdoZ30EgaF"
      },
      "execution_count": null,
      "outputs": []
    },
    {
      "cell_type": "code",
      "source": [
        "mean_market_values.sort_values(ascending=False)"
      ],
      "metadata": {
        "colab": {
          "base_uri": "https://localhost:8080/"
        },
        "id": "jXc-DQPpqDXI",
        "outputId": "71ab3544-a4f9-46d2-aaf7-32a40975a08e"
      },
      "execution_count": null,
      "outputs": [
        {
          "output_type": "execute_result",
          "data": {
            "text/plain": [
              "team\n",
              "Manchester City            50.000000\n",
              "Arsenal FC                 35.680000\n",
              "Chelsea FC                 33.575862\n",
              "Tottenham Hotspur          32.095238\n",
              "Liverpool FC               30.555556\n",
              "Manchester United          24.851515\n",
              "West Ham United            21.157143\n",
              "Aston Villa                17.400000\n",
              "Leicester City             16.270370\n",
              "Newcastle United           15.953333\n",
              "Everton FC                 14.850000\n",
              "Wolverhampton Wanderers    14.266667\n",
              "Southampton FC             13.206667\n",
              "Brighton & Hove Albion     13.100000\n",
              "Crystal Palace             12.756522\n",
              "Brentford FC               11.740000\n",
              "Leeds United               11.368966\n",
              "Fulham FC                   9.725000\n",
              "Nottingham Forest           9.116176\n",
              "Name: market_value_m, dtype: float64"
            ]
          },
          "metadata": {},
          "execution_count": 347
        }
      ]
    },
    {
      "cell_type": "code",
      "source": [
        "url = \"https://www.pinclipart.com/picdir/middle/519-5194083_cloud-clipart.png\"\n",
        "response = requests.get(url)\n",
        "cloud_mask = np.array(Image.open(BytesIO(response.content)))\n",
        "\n",
        "wc = WordCloud(background_color=\"white\", max_words=10, mask=cloud_mask,\n",
        "               colormap=\"spring\")\n",
        "wc.generate_from_frequencies(mean_market_values.to_dict())\n",
        "\n",
        "plt.figure(figsize=(6, 6))\n",
        "plt.imshow(wc, interpolation=\"bilinear\")\n",
        "plt.axis(\"off\");"
      ],
      "metadata": {
        "colab": {
          "base_uri": "https://localhost:8080/",
          "height": 393
        },
        "id": "beHZU3kOP6qN",
        "outputId": "1643f28e-d4ac-4304-e5ef-ca49c415903b"
      },
      "execution_count": null,
      "outputs": [
        {
          "output_type": "display_data",
          "data": {
            "text/plain": [
              "<Figure size 600x600 with 1 Axes>"
            ],
            "image/png": "[encoded data removed]"
          },
          "metadata": {}
        }
      ]
    },
    {
      "cell_type": "markdown",
      "source": [
        "Видим, что наибольшая средняя стоимость игроков у таких команд, как *Manchester City*, *Arsenal* *FC*, *Chelsea* *FC*, *Tottenham* *FC*, *Liverpool* *FC*."
      ],
      "metadata": {
        "id": "rr2da5BTr_IY"
      }
    },
    {
      "cell_type": "markdown",
      "source": [
        "#### *sub_position & right_foot*"
      ],
      "metadata": {
        "id": "M9GJ7Or2YKCI"
      }
    },
    {
      "cell_type": "markdown",
      "source": [
        "Посмотрим подробнее, на каких позициях чаще всего играют левоногие футболисты."
      ],
      "metadata": {
        "id": "XGA1YWtHtKnt"
      }
    },
    {
      "cell_type": "code",
      "source": [
        "position_foot_counts = df.groupby([\"sub_position\", \"right_foot\"])\\\n",
        "  .size().unstack(fill_value=0)\n",
        "position_foot_counts_normalized = position_foot_counts\\\n",
        "  .div(position_foot_counts.sum(axis=1), axis=0)"
      ],
      "metadata": {
        "id": "zCXxtDybvbso"
      },
      "execution_count": null,
      "outputs": []
    },
    {
      "cell_type": "code",
      "source": [
        "sns.set(style=\"whitegrid\", palette=sns.color_palette(\"pastel\"))\n",
        "position_foot_counts_normalized.plot(kind=\"bar\", stacked=True)\n",
        "plt.legend([\"Left-footed\", \"Right-footed\"], bbox_to_anchor=(1, 1))\n",
        "plt.yticks([]);"
      ],
      "metadata": {
        "colab": {
          "base_uri": "https://localhost:8080/",
          "height": 584
        },
        "id": "K_AvCK7ntP1M",
        "outputId": "1b843696-b960-43df-92d9-a49219397cdc"
      },
      "execution_count": null,
      "outputs": [
        {
          "output_type": "display_data",
          "data": {
            "text/plain": [
              "<Figure size 640x480 with 1 Axes>"
            ],
            "image/png": "[encoded data removed]"
          },
          "metadata": {}
        }
      ]
    },
    {
      "cell_type": "markdown",
      "source": [
        "Видим, что на позициях левого защитника и левого полузащитника играют в большинстве случаев левоногие футболисты. Также довольно много левоногих футболистов играют на позиции правого вингера."
      ],
      "metadata": {
        "id": "K4wTyBAPxcip"
      }
    },
    {
      "cell_type": "markdown",
      "source": [
        "#### *age & market_value_m*"
      ],
      "metadata": {
        "id": "19D9yJRkYeVz"
      }
    },
    {
      "cell_type": "markdown",
      "source": [
        "Посмотрим распределение трансферной стоимости игроков по возрастам."
      ],
      "metadata": {
        "id": "ybZPE3RSYjH1"
      }
    },
    {
      "cell_type": "code",
      "source": [
        "tmp1 = df.groupby(by='age', as_index=False)['market_value_m'].mean().rename(\n",
        "    columns={'market_value_m':'mean'}).set_index(['age'])\n",
        "tmp2 = df.groupby(by='age', as_index=False)['market_value_m'].max().rename(\n",
        "    columns={'market_value_m':'max'}).set_index(['age'])\n",
        "\n",
        "tmp2['max'] = tmp2['max'] - tmp1['mean']\n",
        "tmp_df = pd.concat([tmp1, tmp2], axis=1, names=['mean', 'max'])\n",
        "\n",
        "px.bar(tmp_df, x=tmp_df.index, y=['mean', 'max'],\n",
        "       color_discrete_map={'max':'deeppink', 'mean':'lightpink'},\n",
        "       title='Распределение средней и максимальной трансферной стоимости' +\n",
        "       ' по возрастам игроков',\n",
        "       width=900,\n",
        "       height=500)"
      ],
      "metadata": {
        "colab": {
          "base_uri": "https://localhost:8080/",
          "height": 517
        },
        "id": "6W1af-JeVZ9D",
        "outputId": "3a2f649d-a43c-4b7d-b2bb-e840e0625fac"
      },
      "execution_count": null,
      "outputs": [
        {
          "output_type": "display_data",
          "data": {
            "text/html": [
              "<html>\n",
              "<head><meta charset=\"utf-8\" /></head>\n",
              "<body>\n",
              "    <div>            <script src=\"https://cdnjs.cloudflare.com/ajax/libs/mathjax/2.7.5/MathJax.js?config=TeX-AMS-MML_SVG\"></script><script type=\"text/javascript\">if (window.MathJax && window.MathJax.Hub && window.MathJax.Hub.Config) {window.MathJax.Hub.Config({SVG: {font: \"STIX-Web\"}});}</script>                <script type=\"text/javascript\">window.PlotlyConfig = {MathJaxConfig: 'local'};</script>\n",
              "        <script src=\"https://cdn.plot.ly/plotly-2.18.2.min.js\"></script>                <div id=\"77c07ef2-32be-4989-9de9-5523f99b9626\" class=\"plotly-graph-div\" style=\"height:500px; width:900px;\"></div>            <script type=\"text/javascript\">                                    window.PLOTLYENV=window.PLOTLYENV || {};                                    if (document.getElementById(\"77c07ef2-32be-4989-9de9-5523f99b9626\")) {                    Plotly.newPlot(                        \"77c07ef2-32be-4989-9de9-5523f99b9626\",                        [{\"alignmentgroup\":\"True\",\"hovertemplate\":\"variable=mean<br>age=%{x}<br>value=%{y}<extra></extra>\",\"legendgroup\":\"mean\",\"marker\":{\"color\":\"lightpink\",\"pattern\":{\"shape\":\"\"}},\"name\":\"mean\",\"offsetgroup\":\"mean\",\"orientation\":\"v\",\"showlegend\":true,\"textposition\":\"auto\",\"x\":[18,19,20,21,22,23,24,25,26,27,28,29,30,31,32,33,34,35,36,37,38],\"xaxis\":\"x\",\"y\":[10.2,9.208333333333334,10.330434782608695,19.121875,28.059375,26.831914893617018,24.9375,22.119565217391305,26.615384615384617,21.944117647058825,23.24814814814815,21.150000000000002,17.784375,14.69032258064516,10.21875,3.6131578947368426,3.357142857142857,1.44,3.0,1.5,2.5],\"yaxis\":\"y\",\"type\":\"bar\"},{\"alignmentgroup\":\"True\",\"hovertemplate\":\"variable=max<br>age=%{x}<br>value=%{y}<extra></extra>\",\"legendgroup\":\"max\",\"marker\":{\"color\":\"deeppink\",\"pattern\":{\"shape\":\"\"}},\"name\":\"max\",\"offsetgroup\":\"max\",\"orientation\":\"v\",\"showlegend\":true,\"textposition\":\"auto\",\"x\":[18,19,20,21,22,23,24,25,26,27,28,29,30,31,32,33,34,35,36,37,38],\"xaxis\":\"x\",\"y\":[14.8,15.791666666666666,24.669565217391305,90.878125,141.940625,83.16808510638299,55.0625,57.880434782608695,53.38461538461539,48.055882352941175,56.75185185185185,68.85,52.215625,65.30967741935484,19.78125,11.386842105263158,6.642857142857142,1.56,1.0,0.5,0.0],\"yaxis\":\"y\",\"type\":\"bar\"}],                        {\"template\":{\"data\":{\"histogram2dcontour\":[{\"type\":\"histogram2dcontour\",\"colorbar\":{\"outlinewidth\":0,\"ticks\":\"\"},\"colorscale\":[[0.0,\"#0d0887\"],[0.1111111111111111,\"#46039f\"],[0.2222222222222222,\"#7201a8\"],[0.3333333333333333,\"#9c179e\"],[0.4444444444444444,\"#bd3786\"],[0.5555555555555556,\"#d8576b\"],[0.6666666666666666,\"#ed7953\"],[0.7777777777777778,\"#fb9f3a\"],[0.8888888888888888,\"#fdca26\"],[1.0,\"#f0f921\"]]}],\"choropleth\":[{\"type\":\"choropleth\",\"colorbar\":{\"outlinewidth\":0,\"ticks\":\"\"}}],\"histogram2d\":[{\"type\":\"histogram2d\",\"colorbar\":{\"outlinewidth\":0,\"ticks\":\"\"},\"colorscale\":[[0.0,\"#0d0887\"],[0.1111111111111111,\"#46039f\"],[0.2222222222222222,\"#7201a8\"],[0.3333333333333333,\"#9c179e\"],[0.4444444444444444,\"#bd3786\"],[0.5555555555555556,\"#d8576b\"],[0.6666666666666666,\"#ed7953\"],[0.7777777777777778,\"#fb9f3a\"],[0.8888888888888888,\"#fdca26\"],[1.0,\"#f0f921\"]]}],\"heatmap\":[{\"type\":\"heatmap\",\"colorbar\":{\"outlinewidth\":0,\"ticks\":\"\"},\"colorscale\":[[0.0,\"#0d0887\"],[0.1111111111111111,\"#46039f\"],[0.2222222222222222,\"#7201a8\"],[0.3333333333333333,\"#9c179e\"],[0.4444444444444444,\"#bd3786\"],[0.5555555555555556,\"#d8576b\"],[0.6666666666666666,\"#ed7953\"],[0.7777777777777778,\"#fb9f3a\"],[0.8888888888888888,\"#fdca26\"],[1.0,\"#f0f921\"]]}],\"heatmapgl\":[{\"type\":\"heatmapgl\",\"colorbar\":{\"outlinewidth\":0,\"ticks\":\"\"},\"colorscale\":[[0.0,\"#0d0887\"],[0.1111111111111111,\"#46039f\"],[0.2222222222222222,\"#7201a8\"],[0.3333333333333333,\"#9c179e\"],[0.4444444444444444,\"#bd3786\"],[0.5555555555555556,\"#d8576b\"],[0.6666666666666666,\"#ed7953\"],[0.7777777777777778,\"#fb9f3a\"],[0.8888888888888888,\"#fdca26\"],[1.0,\"#f0f921\"]]}],\"contourcarpet\":[{\"type\":\"contourcarpet\",\"colorbar\":{\"outlinewidth\":0,\"ticks\":\"\"}}],\"contour\":[{\"type\":\"contour\",\"colorbar\":{\"outlinewidth\":0,\"ticks\":\"\"},\"colorscale\":[[0.0,\"#0d0887\"],[0.1111111111111111,\"#46039f\"],[0.2222222222222222,\"#7201a8\"],[0.3333333333333333,\"#9c179e\"],[0.4444444444444444,\"#bd3786\"],[0.5555555555555556,\"#d8576b\"],[0.6666666666666666,\"#ed7953\"],[0.7777777777777778,\"#fb9f3a\"],[0.8888888888888888,\"#fdca26\"],[1.0,\"#f0f921\"]]}],\"surface\":[{\"type\":\"surface\",\"colorbar\":{\"outlinewidth\":0,\"ticks\":\"\"},\"colorscale\":[[0.0,\"#0d0887\"],[0.1111111111111111,\"#46039f\"],[0.2222222222222222,\"#7201a8\"],[0.3333333333333333,\"#9c179e\"],[0.4444444444444444,\"#bd3786\"],[0.5555555555555556,\"#d8576b\"],[0.6666666666666666,\"#ed7953\"],[0.7777777777777778,\"#fb9f3a\"],[0.8888888888888888,\"#fdca26\"],[1.0,\"#f0f921\"]]}],\"mesh3d\":[{\"type\":\"mesh3d\",\"colorbar\":{\"outlinewidth\":0,\"ticks\":\"\"}}],\"scatter\":[{\"fillpattern\":{\"fillmode\":\"overlay\",\"size\":10,\"solidity\":0.2},\"type\":\"scatter\"}],\"parcoords\":[{\"type\":\"parcoords\",\"line\":{\"colorbar\":{\"outlinewidth\":0,\"ticks\":\"\"}}}],\"scatterpolargl\":[{\"type\":\"scatterpolargl\",\"marker\":{\"colorbar\":{\"outlinewidth\":0,\"ticks\":\"\"}}}],\"bar\":[{\"error_x\":{\"color\":\"#2a3f5f\"},\"error_y\":{\"color\":\"#2a3f5f\"},\"marker\":{\"line\":{\"color\":\"#E5ECF6\",\"width\":0.5},\"pattern\":{\"fillmode\":\"overlay\",\"size\":10,\"solidity\":0.2}},\"type\":\"bar\"}],\"scattergeo\":[{\"type\":\"scattergeo\",\"marker\":{\"colorbar\":{\"outlinewidth\":0,\"ticks\":\"\"}}}],\"scatterpolar\":[{\"type\":\"scatterpolar\",\"marker\":{\"colorbar\":{\"outlinewidth\":0,\"ticks\":\"\"}}}],\"histogram\":[{\"marker\":{\"pattern\":{\"fillmode\":\"overlay\",\"size\":10,\"solidity\":0.2}},\"type\":\"histogram\"}],\"scattergl\":[{\"type\":\"scattergl\",\"marker\":{\"colorbar\":{\"outlinewidth\":0,\"ticks\":\"\"}}}],\"scatter3d\":[{\"type\":\"scatter3d\",\"line\":{\"colorbar\":{\"outlinewidth\":0,\"ticks\":\"\"}},\"marker\":{\"colorbar\":{\"outlinewidth\":0,\"ticks\":\"\"}}}],\"scattermapbox\":[{\"type\":\"scattermapbox\",\"marker\":{\"colorbar\":{\"outlinewidth\":0,\"ticks\":\"\"}}}],\"scatterternary\":[{\"type\":\"scatterternary\",\"marker\":{\"colorbar\":{\"outlinewidth\":0,\"ticks\":\"\"}}}],\"scattercarpet\":[{\"type\":\"scattercarpet\",\"marker\":{\"colorbar\":{\"outlinewidth\":0,\"ticks\":\"\"}}}],\"carpet\":[{\"aaxis\":{\"endlinecolor\":\"#2a3f5f\",\"gridcolor\":\"white\",\"linecolor\":\"white\",\"minorgridcolor\":\"white\",\"startlinecolor\":\"#2a3f5f\"},\"baxis\":{\"endlinecolor\":\"#2a3f5f\",\"gridcolor\":\"white\",\"linecolor\":\"white\",\"minorgridcolor\":\"white\",\"startlinecolor\":\"#2a3f5f\"},\"type\":\"carpet\"}],\"table\":[{\"cells\":{\"fill\":{\"color\":\"#EBF0F8\"},\"line\":{\"color\":\"white\"}},\"header\":{\"fill\":{\"color\":\"#C8D4E3\"},\"line\":{\"color\":\"white\"}},\"type\":\"table\"}],\"barpolar\":[{\"marker\":{\"line\":{\"color\":\"#E5ECF6\",\"width\":0.5},\"pattern\":{\"fillmode\":\"overlay\",\"size\":10,\"solidity\":0.2}},\"type\":\"barpolar\"}],\"pie\":[{\"automargin\":true,\"type\":\"pie\"}]},\"layout\":{\"autotypenumbers\":\"strict\",\"colorway\":[\"#636efa\",\"#EF553B\",\"#00cc96\",\"#ab63fa\",\"#FFA15A\",\"#19d3f3\",\"#FF6692\",\"#B6E880\",\"#FF97FF\",\"#FECB52\"],\"font\":{\"color\":\"#2a3f5f\"},\"hovermode\":\"closest\",\"hoverlabel\":{\"align\":\"left\"},\"paper_bgcolor\":\"white\",\"plot_bgcolor\":\"#E5ECF6\",\"polar\":{\"bgcolor\":\"#E5ECF6\",\"angularaxis\":{\"gridcolor\":\"white\",\"linecolor\":\"white\",\"ticks\":\"\"},\"radialaxis\":{\"gridcolor\":\"white\",\"linecolor\":\"white\",\"ticks\":\"\"}},\"ternary\":{\"bgcolor\":\"#E5ECF6\",\"aaxis\":{\"gridcolor\":\"white\",\"linecolor\":\"white\",\"ticks\":\"\"},\"baxis\":{\"gridcolor\":\"white\",\"linecolor\":\"white\",\"ticks\":\"\"},\"caxis\":{\"gridcolor\":\"white\",\"linecolor\":\"white\",\"ticks\":\"\"}},\"coloraxis\":{\"colorbar\":{\"outlinewidth\":0,\"ticks\":\"\"}},\"colorscale\":{\"sequential\":[[0.0,\"#0d0887\"],[0.1111111111111111,\"#46039f\"],[0.2222222222222222,\"#7201a8\"],[0.3333333333333333,\"#9c179e\"],[0.4444444444444444,\"#bd3786\"],[0.5555555555555556,\"#d8576b\"],[0.6666666666666666,\"#ed7953\"],[0.7777777777777778,\"#fb9f3a\"],[0.8888888888888888,\"#fdca26\"],[1.0,\"#f0f921\"]],\"sequentialminus\":[[0.0,\"#0d0887\"],[0.1111111111111111,\"#46039f\"],[0.2222222222222222,\"#7201a8\"],[0.3333333333333333,\"#9c179e\"],[0.4444444444444444,\"#bd3786\"],[0.5555555555555556,\"#d8576b\"],[0.6666666666666666,\"#ed7953\"],[0.7777777777777778,\"#fb9f3a\"],[0.8888888888888888,\"#fdca26\"],[1.0,\"#f0f921\"]],\"diverging\":[[0,\"#8e0152\"],[0.1,\"#c51b7d\"],[0.2,\"#de77ae\"],[0.3,\"#f1b6da\"],[0.4,\"#fde0ef\"],[0.5,\"#f7f7f7\"],[0.6,\"#e6f5d0\"],[0.7,\"#b8e186\"],[0.8,\"#7fbc41\"],[0.9,\"#4d9221\"],[1,\"#276419\"]]},\"xaxis\":{\"gridcolor\":\"white\",\"linecolor\":\"white\",\"ticks\":\"\",\"title\":{\"standoff\":15},\"zerolinecolor\":\"white\",\"automargin\":true,\"zerolinewidth\":2},\"yaxis\":{\"gridcolor\":\"white\",\"linecolor\":\"white\",\"ticks\":\"\",\"title\":{\"standoff\":15},\"zerolinecolor\":\"white\",\"automargin\":true,\"zerolinewidth\":2},\"scene\":{\"xaxis\":{\"backgroundcolor\":\"#E5ECF6\",\"gridcolor\":\"white\",\"linecolor\":\"white\",\"showbackground\":true,\"ticks\":\"\",\"zerolinecolor\":\"white\",\"gridwidth\":2},\"yaxis\":{\"backgroundcolor\":\"#E5ECF6\",\"gridcolor\":\"white\",\"linecolor\":\"white\",\"showbackground\":true,\"ticks\":\"\",\"zerolinecolor\":\"white\",\"gridwidth\":2},\"zaxis\":{\"backgroundcolor\":\"#E5ECF6\",\"gridcolor\":\"white\",\"linecolor\":\"white\",\"showbackground\":true,\"ticks\":\"\",\"zerolinecolor\":\"white\",\"gridwidth\":2}},\"shapedefaults\":{\"line\":{\"color\":\"#2a3f5f\"}},\"annotationdefaults\":{\"arrowcolor\":\"#2a3f5f\",\"arrowhead\":0,\"arrowwidth\":1},\"geo\":{\"bgcolor\":\"white\",\"landcolor\":\"#E5ECF6\",\"subunitcolor\":\"white\",\"showland\":true,\"showlakes\":true,\"lakecolor\":\"white\"},\"title\":{\"x\":0.05},\"mapbox\":{\"style\":\"light\"}}},\"xaxis\":{\"anchor\":\"y\",\"domain\":[0.0,1.0],\"title\":{\"text\":\"age\"}},\"yaxis\":{\"anchor\":\"x\",\"domain\":[0.0,1.0],\"title\":{\"text\":\"value\"}},\"legend\":{\"title\":{\"text\":\"variable\"},\"tracegroupgap\":0},\"title\":{\"text\":\"\\u0420\\u0430\\u0441\\u043f\\u0440\\u0435\\u0434\\u0435\\u043b\\u0435\\u043d\\u0438\\u0435 \\u0441\\u0440\\u0435\\u0434\\u043d\\u0435\\u0439 \\u0438 \\u043c\\u0430\\u043a\\u0441\\u0438\\u043c\\u0430\\u043b\\u044c\\u043d\\u043e\\u0439 \\u0442\\u0440\\u0430\\u043d\\u0441\\u0444\\u0435\\u0440\\u043d\\u043e\\u0439 \\u0441\\u0442\\u043e\\u0438\\u043c\\u043e\\u0441\\u0442\\u0438 \\u043f\\u043e \\u0432\\u043e\\u0437\\u0440\\u0430\\u0441\\u0442\\u0430\\u043c \\u0438\\u0433\\u0440\\u043e\\u043a\\u043e\\u0432\"},\"barmode\":\"relative\",\"height\":500,\"width\":900},                        {\"responsive\": true}                    ).then(function(){\n",
              "                            \n",
              "var gd = document.getElementById('77c07ef2-32be-4989-9de9-5523f99b9626');\n",
              "var x = new MutationObserver(function (mutations, observer) {{\n",
              "        var display = window.getComputedStyle(gd).display;\n",
              "        if (!display || display === 'none') {{\n",
              "            console.log([gd, 'removed!']);\n",
              "            Plotly.purge(gd);\n",
              "            observer.disconnect();\n",
              "        }}\n",
              "}});\n",
              "\n",
              "// Listen for the removal of the full notebook cells\n",
              "var notebookContainer = gd.closest('#notebook-container');\n",
              "if (notebookContainer) {{\n",
              "    x.observe(notebookContainer, {childList: true});\n",
              "}}\n",
              "\n",
              "// Listen for the clearing of the current output cell\n",
              "var outputEl = gd.closest('.output');\n",
              "if (outputEl) {{\n",
              "    x.observe(outputEl, {childList: true});\n",
              "}}\n",
              "\n",
              "                        })                };                            </script>        </div>\n",
              "</body>\n",
              "</html>"
            ]
          },
          "metadata": {}
        }
      ]
    },
    {
      "cell_type": "markdown",
      "source": [
        "Смотря на график, можно сделать вывод, что максимальную среднюю и наибольшую стоимость имеют игроки в возрасте 22 лет.\n",
        "\n",
        "В целом можно сделать вывод, что возраст влияет на трансферную стоимость игроков. Максимальую стоимость игроки имеют в возрасте 21-23 лет, далее этот показатель идет на спад. Футболисты старше 30-31 лет имеют очень низкую стоимость."
      ],
      "metadata": {
        "id": "Lvc5_UaKkS6D"
      }
    },
    {
      "cell_type": "markdown",
      "source": [
        "#### *height, market_value_m*"
      ],
      "metadata": {
        "id": "eNFsFhqGYrng"
      }
    },
    {
      "cell_type": "markdown",
      "source": [
        "Посмотрим, как между собой коррелируют признаки *height* и *market_value_m*."
      ],
      "metadata": {
        "id": "BhkVx7JAlNwN"
      }
    },
    {
      "cell_type": "code",
      "source": [
        "sns.scatterplot(data=df, x=\"height\", y=\"market_value_m\");"
      ],
      "metadata": {
        "colab": {
          "base_uri": "https://localhost:8080/",
          "height": 458
        },
        "id": "gq_j8twYkmVl",
        "outputId": "dac89d88-47f8-4b2a-8948-c1e219740c8b"
      },
      "execution_count": null,
      "outputs": [
        {
          "output_type": "display_data",
          "data": {
            "text/plain": [
              "<Figure size 640x480 with 1 Axes>"
            ],
            "image/png": "[encoded data removed]"
          },
          "metadata": {}
        }
      ]
    },
    {
      "cell_type": "markdown",
      "source": [
        "На графике представлено распределение, очень напоминающее равномерное. Можем сделать вывод, что трансферная стоимость футболиста не зависит от его роста. Подтвердим это, рассчитав коэффициент корреляции:"
      ],
      "metadata": {
        "id": "IIAsvyuZmNg4"
      }
    },
    {
      "cell_type": "code",
      "source": [
        "print(\"Корреляция: \", df[\"height\"].corr(df[\"market_value_m\"]))"
      ],
      "metadata": {
        "colab": {
          "base_uri": "https://localhost:8080/"
        },
        "id": "K0V8hL0anaby",
        "outputId": "0a233702-ecde-4a41-ad22-0e74e8890381"
      },
      "execution_count": null,
      "outputs": [
        {
          "output_type": "stream",
          "name": "stdout",
          "text": [
            "Корреляция:  0.048756624220644605\n"
          ]
        }
      ]
    },
    {
      "cell_type": "markdown",
      "source": [
        "Попробуем сделать то же самое с количеством игр, сыгранных в этом сезоне."
      ],
      "metadata": {
        "id": "Dlz4FVafmwxB"
      }
    },
    {
      "cell_type": "code",
      "source": [
        "sns.scatterplot(data=df, x=\"games\", y=\"market_value_m\");"
      ],
      "metadata": {
        "colab": {
          "base_uri": "https://localhost:8080/",
          "height": 458
        },
        "id": "emXbPwa6m0Kf",
        "outputId": "d00bc472-ccbb-4ad9-912e-ac903880cf8b"
      },
      "execution_count": null,
      "outputs": [
        {
          "output_type": "display_data",
          "data": {
            "text/plain": [
              "<Figure size 640x480 with 1 Axes>"
            ],
            "image/png": "[encoded data removed]"
          },
          "metadata": {}
        }
      ]
    },
    {
      "cell_type": "markdown",
      "source": [
        "Тут уже видна корреляция: чем больше у футболиста сыгранных матчей в сезоне, тем больше он обычно стоит. Однако мы не можем сказать, что трансферная стоимость зависит от количества проведенных игр: вполне возможно, что, наоборот, футболист играет на поле чаще, если он больше стоит."
      ],
      "metadata": {
        "id": "j7yaC-him6zw"
      }
    },
    {
      "cell_type": "code",
      "source": [
        "print(\"Корреляция: \", df[\"games\"].corr(df[\"market_value_m\"]))"
      ],
      "metadata": {
        "colab": {
          "base_uri": "https://localhost:8080/"
        },
        "id": "vHMtmrkYnuoX",
        "outputId": "a19d711f-8ff8-49d4-f9d8-846bfb256d40"
      },
      "execution_count": null,
      "outputs": [
        {
          "output_type": "stream",
          "name": "stdout",
          "text": [
            "Корреляция:  0.4840602312023682\n"
          ]
        }
      ]
    },
    {
      "cell_type": "markdown",
      "source": [
        "Корреляция не самая большая, однако она гораздо больше, чем в предыдущем случае."
      ],
      "metadata": {
        "id": "QVvPLz--n1Hd"
      }
    },
    {
      "cell_type": "markdown",
      "source": [
        "#### *goals & market_calue_m*"
      ],
      "metadata": {
        "id": "ECasl5N0Y9uX"
      }
    },
    {
      "cell_type": "markdown",
      "source": [
        "Также у нас есть колонка *goals*. Так как забивать голы в основном \"задача\" нападающих, есть смысл посчитать зависимость цены от результативности именно у них."
      ],
      "metadata": {
        "id": "rZ2rc9LWoBLK"
      }
    },
    {
      "cell_type": "code",
      "source": [
        "df_attackers = df[df[\"main_position\"] == \"attack\"]\n",
        "df_attackers.head()"
      ],
      "metadata": {
        "colab": {
          "base_uri": "https://localhost:8080/",
          "height": 206
        },
        "id": "A6GdQr8ZnPud",
        "outputId": "7fe36d81-0033-4053-cb83-812b25ca2e4e"
      },
      "execution_count": null,
      "outputs": [
        {
          "output_type": "execute_result",
          "data": {
            "text/plain": [
              "              name             team  age  height     nation  games  goals  \\\n",
              "16      Phil Foden  Manchester City   23     171    England     32     11   \n",
              "17   Jack Grealish  Manchester City   27     180    England     28      5   \n",
              "18    Riyad Mahrez  Manchester City   32     179    Algeria     30      5   \n",
              "19  Erling Haaland  Manchester City   22     195     Norway     35     36   \n",
              "20  Julián Álvarez  Manchester City   23     170  Argentina     31      9   \n",
              "\n",
              "    assists  total_minutes main_position    sub_position  right_foot  \\\n",
              "16        5           1842        attack     left winger       False   \n",
              "17        7           2062        attack     left winger        True   \n",
              "18       10           1924        attack    right winger       False   \n",
              "19        8           2777        attack  centre forward       False   \n",
              "20        1           1452        attack  centre forward        True   \n",
              "\n",
              "    market_value_m  \n",
              "16           110.0  \n",
              "17            70.0  \n",
              "18            30.0  \n",
              "19           170.0  \n",
              "20            50.0  "
            ],
            "text/html": [
              "\n",
              "  <div id=\"df-f078d616-186a-45d3-ab37-2f981a344225\">\n",
              "    <div class=\"colab-df-container\">\n",
              "      <div>\n",
              "<style scoped>\n",
              "    .dataframe tbody tr th:only-of-type {\n",
              "        vertical-align: middle;\n",
              "    }\n",
              "\n",
              "    .dataframe tbody tr th {\n",
              "        vertical-align: top;\n",
              "    }\n",
              "\n",
              "    .dataframe thead th {\n",
              "        text-align: right;\n",
              "    }\n",
              "</style>\n",
              "<table border=\"1\" class=\"dataframe\">\n",
              "  <thead>\n",
              "    <tr style=\"text-align: right;\">\n",
              "      <th></th>\n",
              "      <th>name</th>\n",
              "      <th>team</th>\n",
              "      <th>age</th>\n",
              "      <th>height</th>\n",
              "      <th>nation</th>\n",
              "      <th>games</th>\n",
              "      <th>goals</th>\n",
              "      <th>assists</th>\n",
              "      <th>total_minutes</th>\n",
              "      <th>main_position</th>\n",
              "      <th>sub_position</th>\n",
              "      <th>right_foot</th>\n",
              "      <th>market_value_m</th>\n",
              "    </tr>\n",
              "  </thead>\n",
              "  <tbody>\n",
              "    <tr>\n",
              "      <th>16</th>\n",
              "      <td>Phil Foden</td>\n",
              "      <td>Manchester City</td>\n",
              "      <td>23</td>\n",
              "      <td>171</td>\n",
              "      <td>England</td>\n",
              "      <td>32</td>\n",
              "      <td>11</td>\n",
              "      <td>5</td>\n",
              "      <td>1842</td>\n",
              "      <td>attack</td>\n",
              "      <td>left winger</td>\n",
              "      <td>False</td>\n",
              "      <td>110.0</td>\n",
              "    </tr>\n",
              "    <tr>\n",
              "      <th>17</th>\n",
              "      <td>Jack Grealish</td>\n",
              "      <td>Manchester City</td>\n",
              "      <td>27</td>\n",
              "      <td>180</td>\n",
              "      <td>England</td>\n",
              "      <td>28</td>\n",
              "      <td>5</td>\n",
              "      <td>7</td>\n",
              "      <td>2062</td>\n",
              "      <td>attack</td>\n",
              "      <td>left winger</td>\n",
              "      <td>True</td>\n",
              "      <td>70.0</td>\n",
              "    </tr>\n",
              "    <tr>\n",
              "      <th>18</th>\n",
              "      <td>Riyad Mahrez</td>\n",
              "      <td>Manchester City</td>\n",
              "      <td>32</td>\n",
              "      <td>179</td>\n",
              "      <td>Algeria</td>\n",
              "      <td>30</td>\n",
              "      <td>5</td>\n",
              "      <td>10</td>\n",
              "      <td>1924</td>\n",
              "      <td>attack</td>\n",
              "      <td>right winger</td>\n",
              "      <td>False</td>\n",
              "      <td>30.0</td>\n",
              "    </tr>\n",
              "    <tr>\n",
              "      <th>19</th>\n",
              "      <td>Erling Haaland</td>\n",
              "      <td>Manchester City</td>\n",
              "      <td>22</td>\n",
              "      <td>195</td>\n",
              "      <td>Norway</td>\n",
              "      <td>35</td>\n",
              "      <td>36</td>\n",
              "      <td>8</td>\n",
              "      <td>2777</td>\n",
              "      <td>attack</td>\n",
              "      <td>centre forward</td>\n",
              "      <td>False</td>\n",
              "      <td>170.0</td>\n",
              "    </tr>\n",
              "    <tr>\n",
              "      <th>20</th>\n",
              "      <td>Julián Álvarez</td>\n",
              "      <td>Manchester City</td>\n",
              "      <td>23</td>\n",
              "      <td>170</td>\n",
              "      <td>Argentina</td>\n",
              "      <td>31</td>\n",
              "      <td>9</td>\n",
              "      <td>1</td>\n",
              "      <td>1452</td>\n",
              "      <td>attack</td>\n",
              "      <td>centre forward</td>\n",
              "      <td>True</td>\n",
              "      <td>50.0</td>\n",
              "    </tr>\n",
              "  </tbody>\n",
              "</table>\n",
              "</div>\n",
              "      <button class=\"colab-df-convert\" onclick=\"convertToInteractive('df-f078d616-186a-45d3-ab37-2f981a344225')\"\n",
              "              title=\"Convert this dataframe to an interactive table.\"\n",
              "              style=\"display:none;\">\n",
              "        \n",
              "  <svg xmlns=\"http://www.w3.org/2000/svg\" height=\"24px\"viewBox=\"0 0 24 24\"\n",
              "       width=\"24px\">\n",
              "    <path d=\"M0 0h24v24H0V0z\" fill=\"none\"/>\n",
              "    <path d=\"M18.56 5.44l.94 2.06.94-2.06 2.06-.94-2.06-.94-.94-2.06-.94 2.06-2.06.94zm-11 1L8.5 8.5l.94-2.06 2.06-.94-2.06-.94L8.5 2.5l-.94 2.06-2.06.94zm10 10l.94 2.06.94-2.06 2.06-.94-2.06-.94-.94-2.06-.94 2.06-2.06.94z\"/><path d=\"M17.41 7.96l-1.37-1.37c-.4-.4-.92-.59-1.43-.59-.52 0-1.04.2-1.43.59L10.3 9.45l-7.72 7.72c-.78.78-.78 2.05 0 2.83L4 21.41c.39.39.9.59 1.41.59.51 0 1.02-.2 1.41-.59l7.78-7.78 2.81-2.81c.8-.78.8-2.07 0-2.86zM5.41 20L4 18.59l7.72-7.72 1.47 1.35L5.41 20z\"/>\n",
              "  </svg>\n",
              "      </button>\n",
              "      \n",
              "  <style>\n",
              "    .colab-df-container {\n",
              "      display:flex;\n",
              "      flex-wrap:wrap;\n",
              "      gap: 12px;\n",
              "    }\n",
              "\n",
              "    .colab-df-convert {\n",
              "      background-color: #E8F0FE;\n",
              "      border: none;\n",
              "      border-radius: 50%;\n",
              "      cursor: pointer;\n",
              "      display: none;\n",
              "      fill: #1967D2;\n",
              "      height: 32px;\n",
              "      padding: 0 0 0 0;\n",
              "      width: 32px;\n",
              "    }\n",
              "\n",
              "    .colab-df-convert:hover {\n",
              "      background-color: #E2EBFA;\n",
              "      box-shadow: 0px 1px 2px rgba(60, 64, 67, 0.3), 0px 1px 3px 1px rgba(60, 64, 67, 0.15);\n",
              "      fill: #174EA6;\n",
              "    }\n",
              "\n",
              "    [theme=dark] .colab-df-convert {\n",
              "      background-color: #3B4455;\n",
              "      fill: #D2E3FC;\n",
              "    }\n",
              "\n",
              "    [theme=dark] .colab-df-convert:hover {\n",
              "      background-color: #434B5C;\n",
              "      box-shadow: 0px 1px 3px 1px rgba(0, 0, 0, 0.15);\n",
              "      filter: drop-shadow(0px 1px 2px rgba(0, 0, 0, 0.3));\n",
              "      fill: #FFFFFF;\n",
              "    }\n",
              "  </style>\n",
              "\n",
              "      <script>\n",
              "        const buttonEl =\n",
              "          document.querySelector('#df-f078d616-186a-45d3-ab37-2f981a344225 button.colab-df-convert');\n",
              "        buttonEl.style.display =\n",
              "          google.colab.kernel.accessAllowed ? 'block' : 'none';\n",
              "\n",
              "        async function convertToInteractive(key) {\n",
              "          const element = document.querySelector('#df-f078d616-186a-45d3-ab37-2f981a344225');\n",
              "          const dataTable =\n",
              "            await google.colab.kernel.invokeFunction('convertToInteractive',\n",
              "                                                     [key], {});\n",
              "          if (!dataTable) return;\n",
              "\n",
              "          const docLinkHtml = 'Like what you see? Visit the ' +\n",
              "            '<a target=\"_blank\" href=https://colab.research.google.com/notebooks/data_table.ipynb>data table notebook</a>'\n",
              "            + ' to learn more about interactive tables.';\n",
              "          element.innerHTML = '';\n",
              "          dataTable['output_type'] = 'display_data';\n",
              "          await google.colab.output.renderOutput(dataTable, element);\n",
              "          const docLink = document.createElement('div');\n",
              "          docLink.innerHTML = docLinkHtml;\n",
              "          element.appendChild(docLink);\n",
              "        }\n",
              "      </script>\n",
              "    </div>\n",
              "  </div>\n",
              "  "
            ]
          },
          "metadata": {},
          "execution_count": 356
        }
      ]
    },
    {
      "cell_type": "code",
      "source": [
        "sns.scatterplot(df_attackers, x=\"goals\", y=\"market_value_m\");"
      ],
      "metadata": {
        "colab": {
          "base_uri": "https://localhost:8080/",
          "height": 458
        },
        "id": "i0IB3vH7oeib",
        "outputId": "9e531f35-1b56-4c35-878d-72cf890ad022"
      },
      "execution_count": null,
      "outputs": [
        {
          "output_type": "display_data",
          "data": {
            "text/plain": [
              "<Figure size 640x480 with 1 Axes>"
            ],
            "image/png": "[encoded data removed]"
          },
          "metadata": {}
        }
      ]
    },
    {
      "cell_type": "code",
      "source": [
        "print(\"Корреляция: \", df_attackers[\"goals\"].corr(df[\"market_value_m\"]))"
      ],
      "metadata": {
        "colab": {
          "base_uri": "https://localhost:8080/"
        },
        "id": "xcF-TOE8ozc0",
        "outputId": "9d54f38d-cd3d-4a6a-fa20-4d84063c7a52"
      },
      "execution_count": null,
      "outputs": [
        {
          "output_type": "stream",
          "name": "stdout",
          "text": [
            "Корреляция:  0.6990966023365343\n"
          ]
        }
      ]
    },
    {
      "cell_type": "markdown",
      "source": [
        "Действительно, с увеличением количества голов в сезоне трансферная стоимость нападающих также возрастает."
      ],
      "metadata": {
        "id": "r9tkZQvLo4Xc"
      }
    },
    {
      "cell_type": "markdown",
      "source": [
        "#### *main_position & market_value_m*"
      ],
      "metadata": {
        "id": "uwLfxqmkaGOl"
      }
    },
    {
      "cell_type": "markdown",
      "source": [
        "Построим сводную таблицу, чтоб посмотреть, различается ли средняя стоимость игроков разных позиций."
      ],
      "metadata": {
        "id": "1zd-wNAXaocW"
      }
    },
    {
      "cell_type": "code",
      "source": [
        "df_pos_value = df.pivot_table(values='market_value_m',\n",
        "                              index='main_position',\n",
        "                              aggfunc='mean')\n",
        "\n",
        "df_pos_value.sort_values(by=['market_value_m'], ascending=True)"
      ],
      "metadata": {
        "colab": {
          "base_uri": "https://localhost:8080/",
          "height": 175
        },
        "id": "TwqCPf00aM9m",
        "outputId": "ff4be70f-9079-4784-e477-b5975602db56"
      },
      "execution_count": null,
      "outputs": [
        {
          "output_type": "execute_result",
          "data": {
            "text/plain": [
              "               market_value_m\n",
              "main_position                \n",
              "defender            16.303175\n",
              "midfield            20.552532\n",
              "attack              23.730537"
            ],
            "text/html": [
              "\n",
              "  <div id=\"df-f6508e22-5dd4-4c8b-9bdb-80c497c33c83\">\n",
              "    <div class=\"colab-df-container\">\n",
              "      <div>\n",
              "<style scoped>\n",
              "    .dataframe tbody tr th:only-of-type {\n",
              "        vertical-align: middle;\n",
              "    }\n",
              "\n",
              "    .dataframe tbody tr th {\n",
              "        vertical-align: top;\n",
              "    }\n",
              "\n",
              "    .dataframe thead th {\n",
              "        text-align: right;\n",
              "    }\n",
              "</style>\n",
              "<table border=\"1\" class=\"dataframe\">\n",
              "  <thead>\n",
              "    <tr style=\"text-align: right;\">\n",
              "      <th></th>\n",
              "      <th>market_value_m</th>\n",
              "    </tr>\n",
              "    <tr>\n",
              "      <th>main_position</th>\n",
              "      <th></th>\n",
              "    </tr>\n",
              "  </thead>\n",
              "  <tbody>\n",
              "    <tr>\n",
              "      <th>defender</th>\n",
              "      <td>16.303175</td>\n",
              "    </tr>\n",
              "    <tr>\n",
              "      <th>midfield</th>\n",
              "      <td>20.552532</td>\n",
              "    </tr>\n",
              "    <tr>\n",
              "      <th>attack</th>\n",
              "      <td>23.730537</td>\n",
              "    </tr>\n",
              "  </tbody>\n",
              "</table>\n",
              "</div>\n",
              "      <button class=\"colab-df-convert\" onclick=\"convertToInteractive('df-f6508e22-5dd4-4c8b-9bdb-80c497c33c83')\"\n",
              "              title=\"Convert this dataframe to an interactive table.\"\n",
              "              style=\"display:none;\">\n",
              "        \n",
              "  <svg xmlns=\"http://www.w3.org/2000/svg\" height=\"24px\"viewBox=\"0 0 24 24\"\n",
              "       width=\"24px\">\n",
              "    <path d=\"M0 0h24v24H0V0z\" fill=\"none\"/>\n",
              "    <path d=\"M18.56 5.44l.94 2.06.94-2.06 2.06-.94-2.06-.94-.94-2.06-.94 2.06-2.06.94zm-11 1L8.5 8.5l.94-2.06 2.06-.94-2.06-.94L8.5 2.5l-.94 2.06-2.06.94zm10 10l.94 2.06.94-2.06 2.06-.94-2.06-.94-.94-2.06-.94 2.06-2.06.94z\"/><path d=\"M17.41 7.96l-1.37-1.37c-.4-.4-.92-.59-1.43-.59-.52 0-1.04.2-1.43.59L10.3 9.45l-7.72 7.72c-.78.78-.78 2.05 0 2.83L4 21.41c.39.39.9.59 1.41.59.51 0 1.02-.2 1.41-.59l7.78-7.78 2.81-2.81c.8-.78.8-2.07 0-2.86zM5.41 20L4 18.59l7.72-7.72 1.47 1.35L5.41 20z\"/>\n",
              "  </svg>\n",
              "      </button>\n",
              "      \n",
              "  <style>\n",
              "    .colab-df-container {\n",
              "      display:flex;\n",
              "      flex-wrap:wrap;\n",
              "      gap: 12px;\n",
              "    }\n",
              "\n",
              "    .colab-df-convert {\n",
              "      background-color: #E8F0FE;\n",
              "      border: none;\n",
              "      border-radius: 50%;\n",
              "      cursor: pointer;\n",
              "      display: none;\n",
              "      fill: #1967D2;\n",
              "      height: 32px;\n",
              "      padding: 0 0 0 0;\n",
              "      width: 32px;\n",
              "    }\n",
              "\n",
              "    .colab-df-convert:hover {\n",
              "      background-color: #E2EBFA;\n",
              "      box-shadow: 0px 1px 2px rgba(60, 64, 67, 0.3), 0px 1px 3px 1px rgba(60, 64, 67, 0.15);\n",
              "      fill: #174EA6;\n",
              "    }\n",
              "\n",
              "    [theme=dark] .colab-df-convert {\n",
              "      background-color: #3B4455;\n",
              "      fill: #D2E3FC;\n",
              "    }\n",
              "\n",
              "    [theme=dark] .colab-df-convert:hover {\n",
              "      background-color: #434B5C;\n",
              "      box-shadow: 0px 1px 3px 1px rgba(0, 0, 0, 0.15);\n",
              "      filter: drop-shadow(0px 1px 2px rgba(0, 0, 0, 0.3));\n",
              "      fill: #FFFFFF;\n",
              "    }\n",
              "  </style>\n",
              "\n",
              "      <script>\n",
              "        const buttonEl =\n",
              "          document.querySelector('#df-f6508e22-5dd4-4c8b-9bdb-80c497c33c83 button.colab-df-convert');\n",
              "        buttonEl.style.display =\n",
              "          google.colab.kernel.accessAllowed ? 'block' : 'none';\n",
              "\n",
              "        async function convertToInteractive(key) {\n",
              "          const element = document.querySelector('#df-f6508e22-5dd4-4c8b-9bdb-80c497c33c83');\n",
              "          const dataTable =\n",
              "            await google.colab.kernel.invokeFunction('convertToInteractive',\n",
              "                                                     [key], {});\n",
              "          if (!dataTable) return;\n",
              "\n",
              "          const docLinkHtml = 'Like what you see? Visit the ' +\n",
              "            '<a target=\"_blank\" href=https://colab.research.google.com/notebooks/data_table.ipynb>data table notebook</a>'\n",
              "            + ' to learn more about interactive tables.';\n",
              "          element.innerHTML = '';\n",
              "          dataTable['output_type'] = 'display_data';\n",
              "          await google.colab.output.renderOutput(dataTable, element);\n",
              "          const docLink = document.createElement('div');\n",
              "          docLink.innerHTML = docLinkHtml;\n",
              "          element.appendChild(docLink);\n",
              "        }\n",
              "      </script>\n",
              "    </div>\n",
              "  </div>\n",
              "  "
            ]
          },
          "metadata": {},
          "execution_count": 359
        }
      ]
    },
    {
      "cell_type": "markdown",
      "source": [
        "Видим, что нападающие в среднем стоят примерно на 3 миллиона евро больше, чем полузащитники, и на 7 больше, чем защитники."
      ],
      "metadata": {
        "id": "ATo9vndTaw9T"
      }
    },
    {
      "cell_type": "markdown",
      "source": [
        "### Матрицы корреляций"
      ],
      "metadata": {
        "id": "EzmLppdSZR3t"
      }
    },
    {
      "cell_type": "markdown",
      "source": [
        "Можем посмотреть на матрицу корреляций для датасета с нападающими."
      ],
      "metadata": {
        "id": "l6ssydBXqQeO"
      }
    },
    {
      "cell_type": "code",
      "source": [
        "sns.heatmap(df_attackers.corr(),\n",
        "            annot=True,\n",
        "            cmap=\"Greens\",\n",
        "            linewidths=0.2,\n",
        "            linecolor=\"black\",\n",
        "            );"
      ],
      "metadata": {
        "colab": {
          "base_uri": "https://localhost:8080/",
          "height": 552
        },
        "id": "kjvir1topWRS",
        "outputId": "cc9c01df-c1f7-4a3d-fbcc-7fc4bb74dd2f"
      },
      "execution_count": null,
      "outputs": [
        {
          "output_type": "display_data",
          "data": {
            "text/plain": [
              "<Figure size 640x480 with 2 Axes>"
            ],
            "image/png": "[encoded data removed]"
          },
          "metadata": {}
        }
      ]
    },
    {
      "cell_type": "markdown",
      "source": [
        "Видим, что трансферная стоимость нападающих коррелирует, помимо голов, также с количеством голевых передач и времени, проведенном на поле, однако уже не так сильно."
      ],
      "metadata": {
        "id": "UrJvarjCqZg3"
      }
    },
    {
      "cell_type": "markdown",
      "source": [
        "Попробуем сделать то же самое, но с полузащитниками."
      ],
      "metadata": {
        "id": "wnAsCjuGqwM7"
      }
    },
    {
      "cell_type": "code",
      "source": [
        "df_midfielders = df[df[\"main_position\"] == \"midfield\"]\n",
        "df_midfielders.head()"
      ],
      "metadata": {
        "colab": {
          "base_uri": "https://localhost:8080/",
          "height": 206
        },
        "id": "KvlLBB3QpDGV",
        "outputId": "02a6aab2-5a69-41bb-a18a-dfe990f037b7"
      },
      "execution_count": null,
      "outputs": [
        {
          "output_type": "execute_result",
          "data": {
            "text/plain": [
              "               name             team  age  height     nation  games  goals  \\\n",
              "9             Rodri  Manchester City   26     191      Spain     36      2   \n",
              "10  Kalvin Phillips  Manchester City   27     179    England     12      0   \n",
              "11   Máximo Perrone  Manchester City   20     177  Argentina      1      0   \n",
              "12   Ilkay Gündogan  Manchester City   32     180    Germany     31      8   \n",
              "13  Kevin De Bruyne  Manchester City   31     181    Belgium     32      7   \n",
              "\n",
              "    assists  total_minutes main_position        sub_position  right_foot  \\\n",
              "9         6           2920      midfield  defensive midfield        True   \n",
              "10        0            290      midfield  defensive midfield        True   \n",
              "11        0             18      midfield  defensive midfield       False   \n",
              "12        5           2359      midfield    central midfield        True   \n",
              "13       18           2425      midfield  attacking midfield        True   \n",
              "\n",
              "    market_value_m  \n",
              "9             80.0  \n",
              "10            35.0  \n",
              "11            10.0  \n",
              "12            25.0  \n",
              "13            80.0  "
            ],
            "text/html": [
              "\n",
              "  <div id=\"df-9f3cbbae-d197-43b1-a568-dfcff4eeb2cc\">\n",
              "    <div class=\"colab-df-container\">\n",
              "      <div>\n",
              "<style scoped>\n",
              "    .dataframe tbody tr th:only-of-type {\n",
              "        vertical-align: middle;\n",
              "    }\n",
              "\n",
              "    .dataframe tbody tr th {\n",
              "        vertical-align: top;\n",
              "    }\n",
              "\n",
              "    .dataframe thead th {\n",
              "        text-align: right;\n",
              "    }\n",
              "</style>\n",
              "<table border=\"1\" class=\"dataframe\">\n",
              "  <thead>\n",
              "    <tr style=\"text-align: right;\">\n",
              "      <th></th>\n",
              "      <th>name</th>\n",
              "      <th>team</th>\n",
              "      <th>age</th>\n",
              "      <th>height</th>\n",
              "      <th>nation</th>\n",
              "      <th>games</th>\n",
              "      <th>goals</th>\n",
              "      <th>assists</th>\n",
              "      <th>total_minutes</th>\n",
              "      <th>main_position</th>\n",
              "      <th>sub_position</th>\n",
              "      <th>right_foot</th>\n",
              "      <th>market_value_m</th>\n",
              "    </tr>\n",
              "  </thead>\n",
              "  <tbody>\n",
              "    <tr>\n",
              "      <th>9</th>\n",
              "      <td>Rodri</td>\n",
              "      <td>Manchester City</td>\n",
              "      <td>26</td>\n",
              "      <td>191</td>\n",
              "      <td>Spain</td>\n",
              "      <td>36</td>\n",
              "      <td>2</td>\n",
              "      <td>6</td>\n",
              "      <td>2920</td>\n",
              "      <td>midfield</td>\n",
              "      <td>defensive midfield</td>\n",
              "      <td>True</td>\n",
              "      <td>80.0</td>\n",
              "    </tr>\n",
              "    <tr>\n",
              "      <th>10</th>\n",
              "      <td>Kalvin Phillips</td>\n",
              "      <td>Manchester City</td>\n",
              "      <td>27</td>\n",
              "      <td>179</td>\n",
              "      <td>England</td>\n",
              "      <td>12</td>\n",
              "      <td>0</td>\n",
              "      <td>0</td>\n",
              "      <td>290</td>\n",
              "      <td>midfield</td>\n",
              "      <td>defensive midfield</td>\n",
              "      <td>True</td>\n",
              "      <td>35.0</td>\n",
              "    </tr>\n",
              "    <tr>\n",
              "      <th>11</th>\n",
              "      <td>Máximo Perrone</td>\n",
              "      <td>Manchester City</td>\n",
              "      <td>20</td>\n",
              "      <td>177</td>\n",
              "      <td>Argentina</td>\n",
              "      <td>1</td>\n",
              "      <td>0</td>\n",
              "      <td>0</td>\n",
              "      <td>18</td>\n",
              "      <td>midfield</td>\n",
              "      <td>defensive midfield</td>\n",
              "      <td>False</td>\n",
              "      <td>10.0</td>\n",
              "    </tr>\n",
              "    <tr>\n",
              "      <th>12</th>\n",
              "      <td>Ilkay Gündogan</td>\n",
              "      <td>Manchester City</td>\n",
              "      <td>32</td>\n",
              "      <td>180</td>\n",
              "      <td>Germany</td>\n",
              "      <td>31</td>\n",
              "      <td>8</td>\n",
              "      <td>5</td>\n",
              "      <td>2359</td>\n",
              "      <td>midfield</td>\n",
              "      <td>central midfield</td>\n",
              "      <td>True</td>\n",
              "      <td>25.0</td>\n",
              "    </tr>\n",
              "    <tr>\n",
              "      <th>13</th>\n",
              "      <td>Kevin De Bruyne</td>\n",
              "      <td>Manchester City</td>\n",
              "      <td>31</td>\n",
              "      <td>181</td>\n",
              "      <td>Belgium</td>\n",
              "      <td>32</td>\n",
              "      <td>7</td>\n",
              "      <td>18</td>\n",
              "      <td>2425</td>\n",
              "      <td>midfield</td>\n",
              "      <td>attacking midfield</td>\n",
              "      <td>True</td>\n",
              "      <td>80.0</td>\n",
              "    </tr>\n",
              "  </tbody>\n",
              "</table>\n",
              "</div>\n",
              "      <button class=\"colab-df-convert\" onclick=\"convertToInteractive('df-9f3cbbae-d197-43b1-a568-dfcff4eeb2cc')\"\n",
              "              title=\"Convert this dataframe to an interactive table.\"\n",
              "              style=\"display:none;\">\n",
              "        \n",
              "  <svg xmlns=\"http://www.w3.org/2000/svg\" height=\"24px\"viewBox=\"0 0 24 24\"\n",
              "       width=\"24px\">\n",
              "    <path d=\"M0 0h24v24H0V0z\" fill=\"none\"/>\n",
              "    <path d=\"M18.56 5.44l.94 2.06.94-2.06 2.06-.94-2.06-.94-.94-2.06-.94 2.06-2.06.94zm-11 1L8.5 8.5l.94-2.06 2.06-.94-2.06-.94L8.5 2.5l-.94 2.06-2.06.94zm10 10l.94 2.06.94-2.06 2.06-.94-2.06-.94-.94-2.06-.94 2.06-2.06.94z\"/><path d=\"M17.41 7.96l-1.37-1.37c-.4-.4-.92-.59-1.43-.59-.52 0-1.04.2-1.43.59L10.3 9.45l-7.72 7.72c-.78.78-.78 2.05 0 2.83L4 21.41c.39.39.9.59 1.41.59.51 0 1.02-.2 1.41-.59l7.78-7.78 2.81-2.81c.8-.78.8-2.07 0-2.86zM5.41 20L4 18.59l7.72-7.72 1.47 1.35L5.41 20z\"/>\n",
              "  </svg>\n",
              "      </button>\n",
              "      \n",
              "  <style>\n",
              "    .colab-df-container {\n",
              "      display:flex;\n",
              "      flex-wrap:wrap;\n",
              "      gap: 12px;\n",
              "    }\n",
              "\n",
              "    .colab-df-convert {\n",
              "      background-color: #E8F0FE;\n",
              "      border: none;\n",
              "      border-radius: 50%;\n",
              "      cursor: pointer;\n",
              "      display: none;\n",
              "      fill: #1967D2;\n",
              "      height: 32px;\n",
              "      padding: 0 0 0 0;\n",
              "      width: 32px;\n",
              "    }\n",
              "\n",
              "    .colab-df-convert:hover {\n",
              "      background-color: #E2EBFA;\n",
              "      box-shadow: 0px 1px 2px rgba(60, 64, 67, 0.3), 0px 1px 3px 1px rgba(60, 64, 67, 0.15);\n",
              "      fill: #174EA6;\n",
              "    }\n",
              "\n",
              "    [theme=dark] .colab-df-convert {\n",
              "      background-color: #3B4455;\n",
              "      fill: #D2E3FC;\n",
              "    }\n",
              "\n",
              "    [theme=dark] .colab-df-convert:hover {\n",
              "      background-color: #434B5C;\n",
              "      box-shadow: 0px 1px 3px 1px rgba(0, 0, 0, 0.15);\n",
              "      filter: drop-shadow(0px 1px 2px rgba(0, 0, 0, 0.3));\n",
              "      fill: #FFFFFF;\n",
              "    }\n",
              "  </style>\n",
              "\n",
              "      <script>\n",
              "        const buttonEl =\n",
              "          document.querySelector('#df-9f3cbbae-d197-43b1-a568-dfcff4eeb2cc button.colab-df-convert');\n",
              "        buttonEl.style.display =\n",
              "          google.colab.kernel.accessAllowed ? 'block' : 'none';\n",
              "\n",
              "        async function convertToInteractive(key) {\n",
              "          const element = document.querySelector('#df-9f3cbbae-d197-43b1-a568-dfcff4eeb2cc');\n",
              "          const dataTable =\n",
              "            await google.colab.kernel.invokeFunction('convertToInteractive',\n",
              "                                                     [key], {});\n",
              "          if (!dataTable) return;\n",
              "\n",
              "          const docLinkHtml = 'Like what you see? Visit the ' +\n",
              "            '<a target=\"_blank\" href=https://colab.research.google.com/notebooks/data_table.ipynb>data table notebook</a>'\n",
              "            + ' to learn more about interactive tables.';\n",
              "          element.innerHTML = '';\n",
              "          dataTable['output_type'] = 'display_data';\n",
              "          await google.colab.output.renderOutput(dataTable, element);\n",
              "          const docLink = document.createElement('div');\n",
              "          docLink.innerHTML = docLinkHtml;\n",
              "          element.appendChild(docLink);\n",
              "        }\n",
              "      </script>\n",
              "    </div>\n",
              "  </div>\n",
              "  "
            ]
          },
          "metadata": {},
          "execution_count": 361
        }
      ]
    },
    {
      "cell_type": "code",
      "source": [
        "sns.heatmap(df_midfielders.corr(),\n",
        "            annot=True,\n",
        "            cmap=\"Greens\",\n",
        "            linewidths=0.2,\n",
        "            linecolor=\"black\",\n",
        "            );"
      ],
      "metadata": {
        "colab": {
          "base_uri": "https://localhost:8080/",
          "height": 552
        },
        "id": "1uwFTrgEpKNL",
        "outputId": "fecd232c-47b6-4ecc-f54d-9745e7176722"
      },
      "execution_count": null,
      "outputs": [
        {
          "output_type": "display_data",
          "data": {
            "text/plain": [
              "<Figure size 640x480 with 2 Axes>"
            ],
            "image/png": "[encoded data removed]"
          },
          "metadata": {}
        }
      ]
    },
    {
      "cell_type": "markdown",
      "source": [
        "Видим, что сильной коррелиции между трансферной стоимостью и каким-либо признаком тут нет.\n",
        "\n",
        "Однако мы не учли один факт: полузащитники делятся на оборонительных, обычных и атакующих. У оборонительных полузащитников нет цели отдавать голевые передачи, в то время как у атакующих полузащитников это прямая задача.\n",
        "\n",
        "Попробуем сделать датасет с атакующими полузущитниками и проанализировать его."
      ],
      "metadata": {
        "id": "HKgiKVLarG9f"
      }
    },
    {
      "cell_type": "code",
      "source": [
        "df_attacking_midfielders = df[df[\"sub_position\"] == \"attacking midfield\"]\n",
        "df_attacking_midfielders.head()"
      ],
      "metadata": {
        "colab": {
          "base_uri": "https://localhost:8080/",
          "height": 206
        },
        "id": "TWwDD9HgrMqF",
        "outputId": "1cda4e4b-5d03-48f5-8b9d-1a71b1bad9e7"
      },
      "execution_count": null,
      "outputs": [
        {
          "output_type": "execute_result",
          "data": {
            "text/plain": [
              "               name             team  age  height    nation  games  goals  \\\n",
              "13  Kevin De Bruyne  Manchester City   31     181   Belgium     32      7   \n",
              "14   Bernardo Silva  Manchester City   28     173  Portugal     34      4   \n",
              "15      Cole Palmer  Manchester City   21     189   England     14      0   \n",
              "39      Mason Mount       Chelsea FC   24     181   England     24      3   \n",
              "40      Kai Havertz       Chelsea FC   23     193   Germany     35      7   \n",
              "\n",
              "    assists  total_minutes main_position        sub_position  right_foot  \\\n",
              "13       18           2425      midfield  attacking midfield        True   \n",
              "14        6           2202      midfield  attacking midfield       False   \n",
              "15        1            358      midfield  attacking midfield       False   \n",
              "39        2           1655      midfield  attacking midfield        True   \n",
              "40        1           2578      midfield  attacking midfield       False   \n",
              "\n",
              "    market_value_m  \n",
              "13            80.0  \n",
              "14            80.0  \n",
              "15            15.0  \n",
              "39            65.0  \n",
              "40            60.0  "
            ],
            "text/html": [
              "\n",
              "  <div id=\"df-a934569c-06b9-4307-91d5-8206149c512c\">\n",
              "    <div class=\"colab-df-container\">\n",
              "      <div>\n",
              "<style scoped>\n",
              "    .dataframe tbody tr th:only-of-type {\n",
              "        vertical-align: middle;\n",
              "    }\n",
              "\n",
              "    .dataframe tbody tr th {\n",
              "        vertical-align: top;\n",
              "    }\n",
              "\n",
              "    .dataframe thead th {\n",
              "        text-align: right;\n",
              "    }\n",
              "</style>\n",
              "<table border=\"1\" class=\"dataframe\">\n",
              "  <thead>\n",
              "    <tr style=\"text-align: right;\">\n",
              "      <th></th>\n",
              "      <th>name</th>\n",
              "      <th>team</th>\n",
              "      <th>age</th>\n",
              "      <th>height</th>\n",
              "      <th>nation</th>\n",
              "      <th>games</th>\n",
              "      <th>goals</th>\n",
              "      <th>assists</th>\n",
              "      <th>total_minutes</th>\n",
              "      <th>main_position</th>\n",
              "      <th>sub_position</th>\n",
              "      <th>right_foot</th>\n",
              "      <th>market_value_m</th>\n",
              "    </tr>\n",
              "  </thead>\n",
              "  <tbody>\n",
              "    <tr>\n",
              "      <th>13</th>\n",
              "      <td>Kevin De Bruyne</td>\n",
              "      <td>Manchester City</td>\n",
              "      <td>31</td>\n",
              "      <td>181</td>\n",
              "      <td>Belgium</td>\n",
              "      <td>32</td>\n",
              "      <td>7</td>\n",
              "      <td>18</td>\n",
              "      <td>2425</td>\n",
              "      <td>midfield</td>\n",
              "      <td>attacking midfield</td>\n",
              "      <td>True</td>\n",
              "      <td>80.0</td>\n",
              "    </tr>\n",
              "    <tr>\n",
              "      <th>14</th>\n",
              "      <td>Bernardo Silva</td>\n",
              "      <td>Manchester City</td>\n",
              "      <td>28</td>\n",
              "      <td>173</td>\n",
              "      <td>Portugal</td>\n",
              "      <td>34</td>\n",
              "      <td>4</td>\n",
              "      <td>6</td>\n",
              "      <td>2202</td>\n",
              "      <td>midfield</td>\n",
              "      <td>attacking midfield</td>\n",
              "      <td>False</td>\n",
              "      <td>80.0</td>\n",
              "    </tr>\n",
              "    <tr>\n",
              "      <th>15</th>\n",
              "      <td>Cole Palmer</td>\n",
              "      <td>Manchester City</td>\n",
              "      <td>21</td>\n",
              "      <td>189</td>\n",
              "      <td>England</td>\n",
              "      <td>14</td>\n",
              "      <td>0</td>\n",
              "      <td>1</td>\n",
              "      <td>358</td>\n",
              "      <td>midfield</td>\n",
              "      <td>attacking midfield</td>\n",
              "      <td>False</td>\n",
              "      <td>15.0</td>\n",
              "    </tr>\n",
              "    <tr>\n",
              "      <th>39</th>\n",
              "      <td>Mason Mount</td>\n",
              "      <td>Chelsea FC</td>\n",
              "      <td>24</td>\n",
              "      <td>181</td>\n",
              "      <td>England</td>\n",
              "      <td>24</td>\n",
              "      <td>3</td>\n",
              "      <td>2</td>\n",
              "      <td>1655</td>\n",
              "      <td>midfield</td>\n",
              "      <td>attacking midfield</td>\n",
              "      <td>True</td>\n",
              "      <td>65.0</td>\n",
              "    </tr>\n",
              "    <tr>\n",
              "      <th>40</th>\n",
              "      <td>Kai Havertz</td>\n",
              "      <td>Chelsea FC</td>\n",
              "      <td>23</td>\n",
              "      <td>193</td>\n",
              "      <td>Germany</td>\n",
              "      <td>35</td>\n",
              "      <td>7</td>\n",
              "      <td>1</td>\n",
              "      <td>2578</td>\n",
              "      <td>midfield</td>\n",
              "      <td>attacking midfield</td>\n",
              "      <td>False</td>\n",
              "      <td>60.0</td>\n",
              "    </tr>\n",
              "  </tbody>\n",
              "</table>\n",
              "</div>\n",
              "      <button class=\"colab-df-convert\" onclick=\"convertToInteractive('df-a934569c-06b9-4307-91d5-8206149c512c')\"\n",
              "              title=\"Convert this dataframe to an interactive table.\"\n",
              "              style=\"display:none;\">\n",
              "        \n",
              "  <svg xmlns=\"http://www.w3.org/2000/svg\" height=\"24px\"viewBox=\"0 0 24 24\"\n",
              "       width=\"24px\">\n",
              "    <path d=\"M0 0h24v24H0V0z\" fill=\"none\"/>\n",
              "    <path d=\"M18.56 5.44l.94 2.06.94-2.06 2.06-.94-2.06-.94-.94-2.06-.94 2.06-2.06.94zm-11 1L8.5 8.5l.94-2.06 2.06-.94-2.06-.94L8.5 2.5l-.94 2.06-2.06.94zm10 10l.94 2.06.94-2.06 2.06-.94-2.06-.94-.94-2.06-.94 2.06-2.06.94z\"/><path d=\"M17.41 7.96l-1.37-1.37c-.4-.4-.92-.59-1.43-.59-.52 0-1.04.2-1.43.59L10.3 9.45l-7.72 7.72c-.78.78-.78 2.05 0 2.83L4 21.41c.39.39.9.59 1.41.59.51 0 1.02-.2 1.41-.59l7.78-7.78 2.81-2.81c.8-.78.8-2.07 0-2.86zM5.41 20L4 18.59l7.72-7.72 1.47 1.35L5.41 20z\"/>\n",
              "  </svg>\n",
              "      </button>\n",
              "      \n",
              "  <style>\n",
              "    .colab-df-container {\n",
              "      display:flex;\n",
              "      flex-wrap:wrap;\n",
              "      gap: 12px;\n",
              "    }\n",
              "\n",
              "    .colab-df-convert {\n",
              "      background-color: #E8F0FE;\n",
              "      border: none;\n",
              "      border-radius: 50%;\n",
              "      cursor: pointer;\n",
              "      display: none;\n",
              "      fill: #1967D2;\n",
              "      height: 32px;\n",
              "      padding: 0 0 0 0;\n",
              "      width: 32px;\n",
              "    }\n",
              "\n",
              "    .colab-df-convert:hover {\n",
              "      background-color: #E2EBFA;\n",
              "      box-shadow: 0px 1px 2px rgba(60, 64, 67, 0.3), 0px 1px 3px 1px rgba(60, 64, 67, 0.15);\n",
              "      fill: #174EA6;\n",
              "    }\n",
              "\n",
              "    [theme=dark] .colab-df-convert {\n",
              "      background-color: #3B4455;\n",
              "      fill: #D2E3FC;\n",
              "    }\n",
              "\n",
              "    [theme=dark] .colab-df-convert:hover {\n",
              "      background-color: #434B5C;\n",
              "      box-shadow: 0px 1px 3px 1px rgba(0, 0, 0, 0.15);\n",
              "      filter: drop-shadow(0px 1px 2px rgba(0, 0, 0, 0.3));\n",
              "      fill: #FFFFFF;\n",
              "    }\n",
              "  </style>\n",
              "\n",
              "      <script>\n",
              "        const buttonEl =\n",
              "          document.querySelector('#df-a934569c-06b9-4307-91d5-8206149c512c button.colab-df-convert');\n",
              "        buttonEl.style.display =\n",
              "          google.colab.kernel.accessAllowed ? 'block' : 'none';\n",
              "\n",
              "        async function convertToInteractive(key) {\n",
              "          const element = document.querySelector('#df-a934569c-06b9-4307-91d5-8206149c512c');\n",
              "          const dataTable =\n",
              "            await google.colab.kernel.invokeFunction('convertToInteractive',\n",
              "                                                     [key], {});\n",
              "          if (!dataTable) return;\n",
              "\n",
              "          const docLinkHtml = 'Like what you see? Visit the ' +\n",
              "            '<a target=\"_blank\" href=https://colab.research.google.com/notebooks/data_table.ipynb>data table notebook</a>'\n",
              "            + ' to learn more about interactive tables.';\n",
              "          element.innerHTML = '';\n",
              "          dataTable['output_type'] = 'display_data';\n",
              "          await google.colab.output.renderOutput(dataTable, element);\n",
              "          const docLink = document.createElement('div');\n",
              "          docLink.innerHTML = docLinkHtml;\n",
              "          element.appendChild(docLink);\n",
              "        }\n",
              "      </script>\n",
              "    </div>\n",
              "  </div>\n",
              "  "
            ]
          },
          "metadata": {},
          "execution_count": 363
        }
      ]
    },
    {
      "cell_type": "code",
      "source": [
        "sns.heatmap(df_attacking_midfielders.corr(),\n",
        "            annot=True,\n",
        "            cmap=\"Greens\",\n",
        "            linewidths=0.2,\n",
        "            linecolor=\"black\",\n",
        "            );"
      ],
      "metadata": {
        "colab": {
          "base_uri": "https://localhost:8080/",
          "height": 552
        },
        "id": "GutsKL5Drl1o",
        "outputId": "8af8837f-4080-4f9b-961e-27ef643e8bc3"
      },
      "execution_count": null,
      "outputs": [
        {
          "output_type": "display_data",
          "data": {
            "text/plain": [
              "<Figure size 640x480 with 2 Axes>"
            ],
            "image/png": "[encoded data removed]"
          },
          "metadata": {}
        }
      ]
    },
    {
      "cell_type": "markdown",
      "source": [
        "Тут уже видно корреляцию: трансферная стоимость атакающего полузащитника довольно неплохо коррелирует с количеством его голов и голевых передач."
      ],
      "metadata": {
        "id": "3-tYOKjrrv7T"
      }
    },
    {
      "cell_type": "markdown",
      "source": [
        "## 5. Итог"
      ],
      "metadata": {
        "id": "5m84yzkIgRZn"
      }
    },
    {
      "cell_type": "markdown",
      "source": [
        "Мы провели разведочный анализ данных датафрейма. В результаты мы:\n",
        "* провели предобработку датасета, сделав его более удобным для работы\n",
        "* исследовали и визуализировали поведение переменных\n",
        "* исследовали и визуализировали связь между переменными\n",
        "* сделали выводы, которые будут полезными для дальнейшей работы с датафреймом в рамках применения алгоритмов машинного обучения.\n"
      ],
      "metadata": {
        "id": "1t8Cb7zygUhR"
      }
    }
  ]
}